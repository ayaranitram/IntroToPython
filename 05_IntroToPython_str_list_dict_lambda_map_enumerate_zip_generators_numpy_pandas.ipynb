{
 "cells": [
  {
   "cell_type": "markdown",
   "id": "optimum-cement",
   "metadata": {},
   "source": [
    "# Introduction To Python, strings, lists, dictionaries, lambda, map, zip, enumerate, generators\n",
    "by Martín Araya\n",
    "\n",
    "# numpy and pandas introduction\n",
    "23/feb/2021"
   ]
  },
  {
   "cell_type": "markdown",
   "id": "eligible-friendly",
   "metadata": {},
   "source": [
    "## map\n",
    "The function __map__ is used to apply a function to each item in an iterable object (i.e.: list, tuple, dictionary).\n",
    "  \n",
    "__map__ is commonly used to cast the items of a list to a different type, like converting into string the numbers contained inside a list."
   ]
  },
  {
   "cell_type": "code",
   "execution_count": null,
   "id": "matched-profit",
   "metadata": {},
   "outputs": [],
   "source": [
    "# define a list \n",
    "L=[1,2,3,4,5,6,7]\n",
    "print('the list:',L)\n",
    "\n",
    "\n",
    "# convert and concatenate the numbers into a string \n",
    "LS=''.join( map(str,L) )\n",
    "print('the string:',LS)"
   ]
  },
  {
   "cell_type": "markdown",
   "id": "banner-tomorrow",
   "metadata": {},
   "source": [
    "notice that __.join()__ method is equivalent to the following loop"
   ]
  },
  {
   "cell_type": "code",
   "execution_count": null,
   "id": "informational-office",
   "metadata": {},
   "outputs": [],
   "source": [
    "s=''\n",
    "for l in L :\n",
    "   s=s+str(l)\n",
    "print('the string:',s)"
   ]
  },
  {
   "cell_type": "code",
   "execution_count": null,
   "id": "bigger-twist",
   "metadata": {},
   "outputs": [],
   "source": [
    "# keep in mind that .join can concatenate any string between the items of the iterable\n",
    "' my_string '.join( map(str,L) )"
   ]
  },
  {
   "cell_type": "markdown",
   "id": "banner-republican",
   "metadata": {},
   "source": [
    "__map__ returns an object that will provide the values from the _iterable_ evaluated by the _function_ as they are requested. In other words, __map__ by itselft will never evaluate the entire set of data."
   ]
  },
  {
   "cell_type": "code",
   "execution_count": null,
   "id": "trained-bachelor",
   "metadata": {},
   "outputs": [],
   "source": [
    "# notice that defining the map itself does not return the list L with their items converted to string \n",
    "map(str,L)"
   ]
  },
  {
   "cell_type": "markdown",
   "id": "chemical-vaccine",
   "metadata": {},
   "source": [
    "in order to display the values evaluated through the __map__ we need to _expand_ it by converting it into a list, dictionary, tuple, calling it from a __for__ loop, etc..."
   ]
  },
  {
   "cell_type": "code",
   "execution_count": null,
   "id": "exact-bicycle",
   "metadata": {},
   "outputs": [],
   "source": [
    "# list with values converted to string unsing str function\n",
    "list( map(str,L) )"
   ]
  },
  {
   "cell_type": "code",
   "execution_count": null,
   "id": "explicit-mentor",
   "metadata": {},
   "outputs": [],
   "source": [
    "for i in map(str, L) :\n",
    "    print(type(i),ni)"
   ]
  },
  {
   "cell_type": "markdown",
   "id": "66046f63",
   "metadata": {},
   "source": [
    "The map instance by itself doesn´t contain the resulting values of the function applied to the items of the itarable container, therefore, it can not be directly accessed.  \n",
    "The following loop will return a TypeError as it is not possible to directly subscript an item from the map instance:"
   ]
  },
  {
   "cell_type": "code",
   "execution_count": null,
   "id": "employed-warner",
   "metadata": {},
   "outputs": [],
   "source": [
    "i = 0\n",
    "while i < 7 :\n",
    "    print(type(i), map(str, L)[i] )"
   ]
  },
  {
   "cell_type": "markdown",
   "id": "academic-disposition",
   "metadata": {},
   "source": [
    "## generators"
   ]
  },
  {
   "cell_type": "markdown",
   "id": "another-ambassador",
   "metadata": {},
   "source": [
    "Notice that __map__ is not subscriptable, it is easier to use it in a __for__ loop.\n",
    "  \n",
    "To be able to use __map__ in a while, we need to associate the map object to a variable and then call the **__next__()** method of the _map object_ inside the __while__.\n",
    "\n",
    "This kind of objects are called _generators_"
   ]
  },
  {
   "cell_type": "code",
   "execution_count": null,
   "id": "architectural-elizabeth",
   "metadata": {},
   "outputs": [],
   "source": [
    "i = 0\n",
    "m = map(str,L)\n",
    "while i < 7 :\n",
    "    print(type(i), m.__next__() )\n",
    "    i+=1"
   ]
  },
  {
   "cell_type": "markdown",
   "id": "breathing-bargain",
   "metadata": {},
   "source": [
    "as soon as the _generator_ __m__ reach its last item it will stop providing values and will raise a __StopIteration__ error"
   ]
  },
  {
   "cell_type": "code",
   "execution_count": null,
   "id": "least-packaging",
   "metadata": {},
   "outputs": [],
   "source": [
    "m.__next__()"
   ]
  },
  {
   "cell_type": "markdown",
   "id": "nonprofit-relaxation",
   "metadata": {},
   "source": [
    "The **generator**s are designed to improve computation performance as the outputs are calculated when requested, not in advance.\n",
    "  \n",
    "Defining a __generator__ is similar to define a __function__, but instead of using _return_ to give back the results we have to use _yield_"
   ]
  },
  {
   "cell_type": "code",
   "execution_count": null,
   "id": "banned-possible",
   "metadata": {},
   "outputs": [],
   "source": [
    "# a generator to provide unlimited power numbers\n",
    "\n",
    "# def to define it, like any function\n",
    "def MyGenerator() :\n",
    "    i = 0\n",
    "    while i >= 0 : # put the operations inside a loop to keep them live and ready \n",
    "        yield i**i # yield instead of return\n",
    "        i += 1\n",
    "\n",
    "MyGen = MyGenerator()"
   ]
  },
  {
   "cell_type": "code",
   "execution_count": null,
   "id": "strong-payment",
   "metadata": {},
   "outputs": [],
   "source": [
    "for i in MyGen :\n",
    "    print(i)\n",
    "    if i > 30 :\n",
    "        break"
   ]
  },
  {
   "cell_type": "markdown",
   "id": "desperate-argument",
   "metadata": {},
   "source": [
    "A nice that the __generator__ can do is keep track of the last value it has _yield_.  \n",
    "We can _iterate_ from the generator again and it will not start from zero or load the input data again:"
   ]
  },
  {
   "cell_type": "code",
   "execution_count": null,
   "id": "falling-eleven",
   "metadata": {},
   "outputs": [],
   "source": [
    "for i in MyGen :\n",
    "    print(i)\n",
    "    if i > 1000 :\n",
    "        break"
   ]
  },
  {
   "cell_type": "markdown",
   "id": "fatal-dutch",
   "metadata": {},
   "source": [
    "or call the **__next__()** method"
   ]
  },
  {
   "cell_type": "code",
   "execution_count": null,
   "id": "auburn-productivity",
   "metadata": {},
   "outputs": [],
   "source": [
    "print( MyGen.__next__() )"
   ]
  },
  {
   "cell_type": "markdown",
   "id": "educational-illustration",
   "metadata": {},
   "source": [
    "Notice that the generator we have just created is contained in a infinite loop and then it will never end, but it is not constantly running while we are not using it.  \n",
    "  \n",
    "We can define a generator in any way we would require, here below an example:"
   ]
  },
  {
   "cell_type": "code",
   "execution_count": null,
   "id": "exceptional-words",
   "metadata": {},
   "outputs": [],
   "source": [
    "# a generator to provide numbers certain number of power of two\n",
    "\n",
    "# def to define it, like any function\n",
    "def powerange(limit=0) :\n",
    "    i = 0\n",
    "    while i < limit : # put the operations inside a loop to keep them live and ready \n",
    "        yield 2**i # yield instead of return\n",
    "        i += 1"
   ]
  },
  {
   "cell_type": "code",
   "execution_count": null,
   "id": "aggregate-northern",
   "metadata": {},
   "outputs": [],
   "source": [
    "# call the generator evaluated in the required arguments\n",
    "for i in powerange(10) :\n",
    "    print(i)\n",
    "\n",
    "# automatically stops generating numbers after 10 iterations"
   ]
  },
  {
   "cell_type": "markdown",
   "id": "double-quantum",
   "metadata": {},
   "source": [
    "In this last example the generator is not kept in memory after the loop execution, like the __range__ generator.  \n",
    "If we call it again it will start from zero:"
   ]
  },
  {
   "cell_type": "code",
   "execution_count": null,
   "id": "provincial-resident",
   "metadata": {},
   "outputs": [],
   "source": [
    "for i in powerange(3) :\n",
    "    print(i)"
   ]
  },
  {
   "cell_type": "markdown",
   "id": "binary-detroit",
   "metadata": {},
   "source": [
    "In order to keep the generator alive we have to store its excuton in a variable, like we did before:"
   ]
  },
  {
   "cell_type": "code",
   "execution_count": null,
   "id": "senior-robertson",
   "metadata": {},
   "outputs": [],
   "source": [
    "PG = powerange(100)"
   ]
  },
  {
   "cell_type": "code",
   "execution_count": null,
   "id": "internal-fourth",
   "metadata": {},
   "outputs": [],
   "source": [
    "# start printing values from PG\n",
    "T = True\n",
    "while T :\n",
    "    value = PG.__next__()\n",
    "    print( value )\n",
    "    if value > 100 :\n",
    "        break    "
   ]
  },
  {
   "cell_type": "code",
   "execution_count": null,
   "id": "married-finding",
   "metadata": {},
   "outputs": [],
   "source": [
    "# continue printing values from PG\n",
    "for i in PG :\n",
    "    print(i)\n",
    "    if i > 1000 :\n",
    "        break"
   ]
  },
  {
   "cell_type": "code",
   "execution_count": null,
   "id": "dense-buddy",
   "metadata": {},
   "outputs": [],
   "source": [
    "# call a couple of value using .__next__() method\n",
    "print( PG.__next__() )\n",
    "print( PG.__next__() )"
   ]
  },
  {
   "cell_type": "markdown",
   "id": "present-bottom",
   "metadata": {},
   "source": [
    "Other example of generator usuful to defoliate the daisy (_deshojar la margarita_)"
   ]
  },
  {
   "cell_type": "code",
   "execution_count": null,
   "id": "impaired-offering",
   "metadata": {},
   "outputs": [],
   "source": [
    "def daisy() :\n",
    "    petal = False\n",
    "    while True :\n",
    "        yield petal\n",
    "        petal = not petal\n",
    "\n",
    "defoliate = daisy()\n",
    "\n",
    "for i in range(12) :\n",
    "    print( defoliate.__next__() * 'no ' + 'me quiere...' )"
   ]
  },
  {
   "cell_type": "markdown",
   "id": "potential-parish",
   "metadata": {},
   "source": [
    "More info related to _generators_ can be found here: https://wiki.python.org/moin/Generators"
   ]
  },
  {
   "cell_type": "markdown",
   "id": "attractive-chapel",
   "metadata": {},
   "source": [
    "## lambda\n",
    "__lambda__ is used to define simple (or **could be complex, but is not recommended**) _anonymous_ functions in a single line of code, without requiring any description.\n",
    "  \n",
    "__lambda__ is very handy to create functions for simple operations like mathematical operations or string operations\n",
    "  \n",
    "To define __lambda__ we have to provide input arguments and the operation to be performed:  \n",
    "_variable_ = __lambda__ _input(s)_ __:__ _operations_over_input(s)_\n",
    "  \n",
    "When defining and using a __lambda__ we have to be careful about the type of inputs this functions will have to handle."
   ]
  },
  {
   "cell_type": "code",
   "execution_count": null,
   "id": "dirty-pharmaceutical",
   "metadata": {},
   "outputs": [],
   "source": [
    "# we can define lambda with one or serveral inputs\n",
    "F=lambda x,y : x*3+y\n",
    "G=lambda x : x*3\n",
    "\n",
    "# we can define a lambda to uperate with a particular type of object, \n",
    "# but it will fail if we provided a diferent kind of input \n",
    "U=lambda s : s.upper()\n",
    "\n",
    "# we could also define a lambda to perform different operations, according to the kind of input\n",
    "X=lambda z : U(z) if type(z) is str else G(z)\n",
    "\n",
    "# the plevious lambda, saved in the variable X, is equivalent to the definition here below\n",
    "def Y(z) :\n",
    "    if type(z) is str :\n",
    "        return U(z)\n",
    "    else :\n",
    "        return G(z)\n",
    "\n",
    "\n",
    "print('F(4,5)',F(4,5))\n",
    "print('G(3)',G(3))\n",
    "print(\"U('f')\",U('f'))\n",
    "print(\"X('h')\",X('h'))\n",
    "print(\"X(5)\",X(5))\n",
    "print(\"Y('h')\",Y('h'))\n",
    "print(\"Y(5)\",Y(5))"
   ]
  },
  {
   "cell_type": "markdown",
   "id": "vanilla-compiler",
   "metadata": {},
   "source": [
    "It is possible to apply our functions using the __map__ function"
   ]
  },
  {
   "cell_type": "code",
   "execution_count": null,
   "id": "sound-madness",
   "metadata": {},
   "outputs": [],
   "source": [
    "# list with values of list L evaluated under G function\n",
    "list( map(G,L) )"
   ]
  },
  {
   "cell_type": "markdown",
   "id": "active-repair",
   "metadata": {},
   "source": [
    "## strings\n",
    "warming up with string and loop"
   ]
  },
  {
   "cell_type": "code",
   "execution_count": null,
   "id": "infinite-enzyme",
   "metadata": {},
   "outputs": [],
   "source": [
    "# define a string\n",
    "S='abcdefghijklmnopqrstuvwxyz'"
   ]
  },
  {
   "cell_type": "code",
   "execution_count": null,
   "id": "emotional-authorization",
   "metadata": {
    "scrolled": true
   },
   "outputs": [],
   "source": [
    "S"
   ]
  },
  {
   "cell_type": "markdown",
   "id": "stylish-pastor",
   "metadata": {},
   "source": [
    "applying the _lambda_ function __U__ to the _string_ __S__ using map"
   ]
  },
  {
   "cell_type": "code",
   "execution_count": null,
   "id": "dressed-reaction",
   "metadata": {},
   "outputs": [],
   "source": [
    "# notice that the characters passed by map to the for loop are already uppercase\n",
    "''.join(list( map(U,S) ))"
   ]
  },
  {
   "cell_type": "code",
   "execution_count": null,
   "id": "central-substitute",
   "metadata": {
    "scrolled": false
   },
   "outputs": [],
   "source": [
    "# loop iterating over the position of the characters in the string\n",
    "for i in range(len(S)) :\n",
    "    j = S[i]\n",
    "    print(type(i),i,type(j),j,j.upper())"
   ]
  },
  {
   "cell_type": "code",
   "execution_count": null,
   "id": "christian-financing",
   "metadata": {},
   "outputs": [],
   "source": [
    "# loop iterating directly over characters in the string\n",
    "i = 0\n",
    "for j in S :\n",
    "    i += 1\n",
    "    print(type(i),i,type(j),j,j.upper())"
   ]
  },
  {
   "cell_type": "code",
   "execution_count": null,
   "id": "ceramic-strategy",
   "metadata": {},
   "outputs": [],
   "source": [
    "# alternative loop iterating directly over characters in the string\n",
    "for j in S :\n",
    "    i = S.index(j)\n",
    "    print(type(i),i,type(j),j,j.upper())\n",
    "\n",
    "# be careful because .index() method will return always the first time the character is found inside the string"
   ]
  },
  {
   "cell_type": "markdown",
   "id": "aging-caribbean",
   "metadata": {},
   "source": [
    "## enumerate\n",
    "the __enumerate__ function is very useful combined with a __for__ as it can provide at the same time the index of the extracted item togheter with the item from the iterable.\n",
    "\n",
    "__enumerate__ return to two items to the __for__ loop, then we need to variables to allocate them:\n",
    "\n",
    "for _variable1_,_variable2_ in __enumerate__( _iterable_ ) :"
   ]
  },
  {
   "cell_type": "code",
   "execution_count": null,
   "id": "finite-restriction",
   "metadata": {},
   "outputs": [],
   "source": [
    "for i,j in enumerate(S) :\n",
    "    print(type(i),i,type(j),j,j.upper())"
   ]
  },
  {
   "cell_type": "markdown",
   "id": "enhanced-serve",
   "metadata": {},
   "source": [
    "using __enumerate__ makes this loop much simpler than the alternative loops "
   ]
  },
  {
   "cell_type": "markdown",
   "id": "white-length",
   "metadata": {},
   "source": [
    "notice that __enumerate__ returns a tuple of two values, that if received by the two variables _i_ and _j_ are automatically extracted from the tuple."
   ]
  },
  {
   "cell_type": "code",
   "execution_count": null,
   "id": "conventional-assembly",
   "metadata": {},
   "outputs": [],
   "source": [
    "# enumerate returns a tuple\n",
    "for k in enumerate(S) :\n",
    "    i,j=k\n",
    "    print(type(k),k,type(i),i,type(j),j,j.upper())"
   ]
  },
  {
   "cell_type": "markdown",
   "id": "adequate-puzzle",
   "metadata": {},
   "source": [
    "the output from __enumerate__ can be easily converted into a dictionary:"
   ]
  },
  {
   "cell_type": "code",
   "execution_count": null,
   "id": "pending-virtue",
   "metadata": {},
   "outputs": [],
   "source": [
    "Dict = dict(enumerate(S))\n",
    "Dict"
   ]
  },
  {
   "cell_type": "markdown",
   "id": "successful-imperial",
   "metadata": {},
   "source": [
    "# dictionaries\n",
    "using a __for__ We can loop from a _dict_ in sereval ways:"
   ]
  },
  {
   "cell_type": "code",
   "execution_count": null,
   "id": "lined-sunset",
   "metadata": {},
   "outputs": [],
   "source": [
    "# print keys by default\n",
    "for d in Dict :\n",
    "    print(type(d),d)"
   ]
  },
  {
   "cell_type": "code",
   "execution_count": null,
   "id": "rotary-advance",
   "metadata": {},
   "outputs": [],
   "source": [
    "# print keys explicitly\n",
    "for d in Dict.keys() :\n",
    "    print(type(d),d)"
   ]
  },
  {
   "cell_type": "code",
   "execution_count": null,
   "id": "wired-taylor",
   "metadata": {
    "scrolled": true
   },
   "outputs": [],
   "source": [
    "# print values\n",
    "for d in Dict.values() :\n",
    "    print(type(d),d)"
   ]
  },
  {
   "cell_type": "code",
   "execution_count": null,
   "id": "international-latitude",
   "metadata": {
    "scrolled": true
   },
   "outputs": [],
   "source": [
    "# print keys and values\n",
    "for d in Dict.items() :\n",
    "    print(type(d),d)"
   ]
  },
  {
   "cell_type": "code",
   "execution_count": null,
   "id": "social-divide",
   "metadata": {},
   "outputs": [],
   "source": [
    "# print keys and values\n",
    "for k,v in Dict.items() :\n",
    "    print(type(k),k,type(v),v)"
   ]
  },
  {
   "cell_type": "markdown",
   "id": "whole-reform",
   "metadata": {},
   "source": [
    "## zip\n",
    "The __zip__ function is very useful to mix together two lists and create pairs of values with the lists."
   ]
  },
  {
   "cell_type": "code",
   "execution_count": null,
   "id": "relative-roads",
   "metadata": {},
   "outputs": [],
   "source": [
    "# let's create a second list using our list L\n",
    "GL1 = []\n",
    "for i in L :\n",
    "    GL1.append( G(i) )\n",
    "GL1"
   ]
  },
  {
   "cell_type": "code",
   "execution_count": null,
   "id": "swiss-intellectual",
   "metadata": {},
   "outputs": [],
   "source": [
    "# create a dictionary using \n",
    "D1 = dict( zip( L , GL1 ) )\n",
    "D1"
   ]
  },
  {
   "cell_type": "markdown",
   "id": "controlling-simulation",
   "metadata": {},
   "source": [
    "## intro to numpy\n",
    "If we apply the _lambda_ function __G__ defined as:  \n",
    "_G = lambda x : x*3_  \n",
    "to a list, willing to obtain the numbers multiplied by three we will be dissapointed because multiplying a list will repeat the list instead of multiply the numbers:"
   ]
  },
  {
   "cell_type": "code",
   "execution_count": null,
   "id": "rough-split",
   "metadata": {
    "scrolled": true
   },
   "outputs": [],
   "source": [
    "print(L)\n",
    "print(G(L)) # remenber that G = lambda x : x*3"
   ]
  },
  {
   "cell_type": "markdown",
   "id": "preceding-clarity",
   "metadata": {},
   "source": [
    "To achieve what we want we would have to operate through the list using a __for__ or __while__ loop or in a single line  using _list comprehension_.\n",
    "**_list comprehension_** is the ability of the *list*s to excute a __for__ loop inside the list definition."
   ]
  },
  {
   "cell_type": "code",
   "execution_count": null,
   "id": "distributed-tournament",
   "metadata": {},
   "outputs": [],
   "source": [
    "GL2 = [ G(l) for l in L ]\n",
    "GL2"
   ]
  },
  {
   "cell_type": "markdown",
   "id": "transsexual-electronics",
   "metadata": {},
   "source": [
    "To use __numpy__ we start by *import*ing the library.  \n",
    "For further details about __numpy__ please visit https://numpy.org/  \n",
    "__numpy__ is commonly abreviated as __np__"
   ]
  },
  {
   "cell_type": "code",
   "execution_count": null,
   "id": "automotive-thanksgiving",
   "metadata": {},
   "outputs": [],
   "source": [
    "import numpy as np"
   ]
  },
  {
   "cell_type": "markdown",
   "id": "temporal-concern",
   "metadata": {},
   "source": [
    "The basic structure in numpy is the **_array_**. To start loading data into numpy, we can convert a list into _np.array_  \n",
    "  \n",
    "In order to build an array, all the elements of the array must be of the same type. The array can't contain diferent types of elements, like the list can do."
   ]
  },
  {
   "cell_type": "code",
   "execution_count": null,
   "id": "ultimate-boston",
   "metadata": {},
   "outputs": [],
   "source": [
    "Ar = np.array( L )\n",
    "Ar"
   ]
  },
  {
   "cell_type": "markdown",
   "id": "aware-sheffield",
   "metadata": {},
   "source": [
    "using arrays we can perform mathematical operations directly over the array and the operation is performed on every item inside the array:"
   ]
  },
  {
   "cell_type": "code",
   "execution_count": null,
   "id": "young-factor",
   "metadata": {},
   "outputs": [],
   "source": [
    "# multiply the array\n",
    "Ar*3"
   ]
  },
  {
   "cell_type": "code",
   "execution_count": null,
   "id": "written-blues",
   "metadata": {},
   "outputs": [],
   "source": [
    "# apply a function to the array\n",
    "G(Ar)"
   ]
  },
  {
   "cell_type": "markdown",
   "id": "comparative-emergency",
   "metadata": {},
   "source": [
    "The array can have several dimensions, not just 1D."
   ]
  },
  {
   "cell_type": "code",
   "execution_count": null,
   "id": "realistic-monroe",
   "metadata": {},
   "outputs": [],
   "source": [
    "# array created with three lists\n",
    "Ar2 = np.array( [ L , GL2 , G(G(Ar)) ] )\n",
    "Ar2"
   ]
  },
  {
   "cell_type": "code",
   "execution_count": null,
   "id": "first-trance",
   "metadata": {},
   "outputs": [],
   "source": [
    "Ar2+5"
   ]
  },
  {
   "cell_type": "markdown",
   "id": "conceptual-beast",
   "metadata": {},
   "source": [
    "On top of the regulat math operations, __numpy__ already has coded several useful operations to apply over the _array_, like summation, mean, median, maximum, minimum, etc"
   ]
  },
  {
   "cell_type": "code",
   "execution_count": null,
   "id": "spatial-message",
   "metadata": {},
   "outputs": [],
   "source": [
    "Ar2.sum()"
   ]
  },
  {
   "cell_type": "code",
   "execution_count": null,
   "id": "strong-direction",
   "metadata": {},
   "outputs": [],
   "source": [
    "Ar2.mean()"
   ]
  },
  {
   "cell_type": "markdown",
   "id": "passive-bronze",
   "metadata": {},
   "source": [
    "The dimensions of an array are contained in the property __.shape__ of the array"
   ]
  },
  {
   "cell_type": "code",
   "execution_count": null,
   "id": "graduate-metro",
   "metadata": {},
   "outputs": [],
   "source": [
    "# 1D array\n",
    "Ar.shape"
   ]
  },
  {
   "cell_type": "code",
   "execution_count": null,
   "id": "executed-algebra",
   "metadata": {},
   "outputs": [],
   "source": [
    "# 2D array\n",
    "Ar2.shape"
   ]
  },
  {
   "cell_type": "markdown",
   "id": "desperate-twelve",
   "metadata": {},
   "source": [
    "To transpose the array, simply call the method **.transpose()** or the property **.T**"
   ]
  },
  {
   "cell_type": "code",
   "execution_count": null,
   "id": "aggregate-brain",
   "metadata": {},
   "outputs": [],
   "source": [
    "Ar2.transpose()"
   ]
  },
  {
   "cell_type": "code",
   "execution_count": null,
   "id": "formal-supplement",
   "metadata": {},
   "outputs": [],
   "source": [
    "Ar2.T"
   ]
  },
  {
   "cell_type": "markdown",
   "id": "found-jordan",
   "metadata": {},
   "source": [
    "The _array_ can also be compared to a condition, resulting in a bolean array"
   ]
  },
  {
   "cell_type": "code",
   "execution_count": null,
   "id": "becoming-trust",
   "metadata": {},
   "outputs": [],
   "source": [
    "Ar3 = Ar2>10\n",
    "Ar3"
   ]
  },
  {
   "cell_type": "markdown",
   "id": "adaptive-daughter",
   "metadata": {},
   "source": [
    "The most common properties and operations of the **list**s are also available for the **np.array**.  \n",
    "The array is *subscriptable* and its items can be accessed using **[ ]** "
   ]
  },
  {
   "cell_type": "code",
   "execution_count": null,
   "id": "lonely-brand",
   "metadata": {},
   "outputs": [],
   "source": [
    "# for a single item, a single position\n",
    "Ar[5]"
   ]
  },
  {
   "cell_type": "code",
   "execution_count": null,
   "id": "forbidden-covering",
   "metadata": {},
   "outputs": [],
   "source": [
    "# for several items, a slice\n",
    "Ar[3:7]"
   ]
  },
  {
   "cell_type": "markdown",
   "id": "continuous-nepal",
   "metadata": {},
   "source": [
    "We can also provide a consition instead of fixed positions to access the items in the array"
   ]
  },
  {
   "cell_type": "code",
   "execution_count": null,
   "id": "revised-shakespeare",
   "metadata": {},
   "outputs": [],
   "source": [
    "Ar2[ Ar2>30 ]"
   ]
  },
  {
   "cell_type": "markdown",
   "id": "velvet-elevation",
   "metadata": {},
   "source": [
    "or provide a bolean array with the same dimension of the main array, then, only the positions coinciding the a True will be returned "
   ]
  },
  {
   "cell_type": "code",
   "execution_count": null,
   "id": "representative-frame",
   "metadata": {},
   "outputs": [],
   "source": [
    "Ar2[ Ar3 ]"
   ]
  },
  {
   "cell_type": "markdown",
   "id": "prostate-blame",
   "metadata": {},
   "source": [
    "An array can also contain strings:"
   ]
  },
  {
   "cell_type": "code",
   "execution_count": null,
   "id": "favorite-color",
   "metadata": {},
   "outputs": [],
   "source": [
    "# string array with a single item\n",
    "Ar4 = np.array(S)\n",
    "Ar4"
   ]
  },
  {
   "cell_type": "code",
   "execution_count": null,
   "id": "ultimate-halifax",
   "metadata": {},
   "outputs": [],
   "source": [
    "# convert the string into list and then convert the list tino array\n",
    "Ar5 = np.array(list(S))\n",
    "Ar5"
   ]
  },
  {
   "cell_type": "markdown",
   "id": "brown-nickel",
   "metadata": {},
   "source": [
    "Keep in mind that as __numpy__ is designed for numbers, not all the Python basic string operations works in an array."
   ]
  },
  {
   "cell_type": "markdown",
   "id": "worthy-favorite",
   "metadata": {},
   "source": [
    "## intro to pandas\n",
    "__Pandas__ is a class designated to contain 1D or 2D arrays in a more readable format and to facilitate common operations with it.  \n",
    "All the details about pandas can be found here: https://pandas.pydata.org/  \n",
    "  \n",
    "The basic structure of pandas are the __Series__ and the __DataFrame__  \n",
    "The __Series__ consist of an array with an associated _index_ array. It is like a joint of two arrays that work together.  \n",
    "The __DataFrame__ is composed of sereval arrays associated to an _index_ array.\n",
    "  \n",
    "We start using __pandas__ importing it. The usual alias for pandas is __pd__"
   ]
  },
  {
   "cell_type": "code",
   "execution_count": null,
   "id": "vocal-tamil",
   "metadata": {},
   "outputs": [],
   "source": [
    "import pandas as pd"
   ]
  },
  {
   "cell_type": "markdown",
   "id": "expanded-reservoir",
   "metadata": {},
   "source": [
    "We can convert numpy.arrays, dictionaries, lists, etc to pandas DataFrames"
   ]
  },
  {
   "cell_type": "code",
   "execution_count": null,
   "id": "junior-jonathan",
   "metadata": {},
   "outputs": [],
   "source": [
    "# DataFrame from a numpy array\n",
    "df1 = pd.DataFrame( Ar2 )\n",
    "df1"
   ]
  },
  {
   "cell_type": "code",
   "execution_count": null,
   "id": "clear-jimmy",
   "metadata": {},
   "outputs": [],
   "source": [
    "# DataFrame from a numpy array transposed\n",
    "df2 = pd.DataFrame( Ar2.T )\n",
    "df2"
   ]
  },
  {
   "cell_type": "markdown",
   "id": "pointed-karaoke",
   "metadata": {},
   "source": [
    "notice the **DataFrame** constructed from the array *does not have names on its columns*.  \n",
    "we can define the names using the **.columns** property"
   ]
  },
  {
   "cell_type": "code",
   "execution_count": null,
   "id": "acknowledged-renaissance",
   "metadata": {},
   "outputs": [],
   "source": [
    "# define column names\n",
    "df2.columns=['A','B','C']\n",
    "df2"
   ]
  },
  {
   "cell_type": "markdown",
   "id": "chubby-oklahoma",
   "metadata": {},
   "source": [
    "to access and to change the _index_ values we can assign them to the **.index** property"
   ]
  },
  {
   "cell_type": "code",
   "execution_count": null,
   "id": "described-latest",
   "metadata": {},
   "outputs": [],
   "source": [
    "df2.index = df2.index / 2\n",
    "df2"
   ]
  },
  {
   "cell_type": "markdown",
   "id": "therapeutic-effectiveness",
   "metadata": {},
   "source": [
    "We can construct a **DataFrame from a dictionary**.  \n",
    "In this case, the _keys_ will be the name of the columns and the _values_ will be the data contained in that column"
   ]
  },
  {
   "cell_type": "code",
   "execution_count": null,
   "id": "about-hamilton",
   "metadata": {},
   "outputs": [],
   "source": [
    "df3 = pd.DataFrame( {'A':[1,2,3,4,5],'B':[6,7,8,9,0]} )\n",
    "df3"
   ]
  },
  {
   "cell_type": "markdown",
   "id": "universal-arrow",
   "metadata": {},
   "source": [
    "We can access the data in the DataFrame in a similar way to how we access and set the data in a dictionary.  \n",
    "To access the data we use **[[** *name of column* **]]** or **[** *name of column* **]** where _single square bracket_ will return a **Series** while _double square bracket_ will return a **DataFrame**"
   ]
  },
  {
   "cell_type": "code",
   "execution_count": null,
   "id": "second-target",
   "metadata": {},
   "outputs": [],
   "source": [
    "df2[['A']]"
   ]
  },
  {
   "cell_type": "code",
   "execution_count": null,
   "id": "relevant-techno",
   "metadata": {},
   "outputs": [],
   "source": [
    "df2[['A','C']]"
   ]
  },
  {
   "cell_type": "markdown",
   "id": "upset-adult",
   "metadata": {},
   "source": [
    "To access the data by position we can use **.iloc[** *row* , *column* **]** where the column parameter is optional"
   ]
  },
  {
   "cell_type": "code",
   "execution_count": null,
   "id": "reliable-inclusion",
   "metadata": {},
   "outputs": [],
   "source": [
    "df2.iloc[[2]]"
   ]
  },
  {
   "cell_type": "code",
   "execution_count": null,
   "id": "forty-parliament",
   "metadata": {},
   "outputs": [],
   "source": [
    "df2.iloc[[-1]]"
   ]
  },
  {
   "cell_type": "code",
   "execution_count": null,
   "id": "raising-classics",
   "metadata": {},
   "outputs": [],
   "source": [
    "# row and column will return the single value\n",
    "df2.iloc[2,2]"
   ]
  },
  {
   "cell_type": "code",
   "execution_count": null,
   "id": "fallen-scale",
   "metadata": {},
   "outputs": [],
   "source": [
    "# a range of row positions \n",
    "df2.iloc[2:5]"
   ]
  },
  {
   "cell_type": "code",
   "execution_count": null,
   "id": "wanted-vessel",
   "metadata": {},
   "outputs": [],
   "source": [
    "# an entire column by position\n",
    "df2.iloc[:,2]"
   ]
  },
  {
   "cell_type": "markdown",
   "id": "special-march",
   "metadata": {},
   "source": [
    "instead of **.iloc** we can use **.loc** to access the data by the value of their corresponding index and column, instead of their positions. Appart from that, works exactly as .iloc"
   ]
  },
  {
   "cell_type": "code",
   "execution_count": null,
   "id": "governmental-cholesterol",
   "metadata": {},
   "outputs": [],
   "source": [
    "df2.loc[1]"
   ]
  },
  {
   "cell_type": "code",
   "execution_count": null,
   "id": "mature-diversity",
   "metadata": {},
   "outputs": [],
   "source": [
    "df2.loc[[1]]"
   ]
  },
  {
   "cell_type": "code",
   "execution_count": null,
   "id": "premier-armenia",
   "metadata": {},
   "outputs": [],
   "source": [
    "# access data by slice\n",
    "df2.loc[0.9:2.7]"
   ]
  },
  {
   "cell_type": "markdown",
   "id": "assumed-toolbox",
   "metadata": {},
   "source": [
    "notice that, in case of numeric index, the minimum and maximum limits does not need to be present in the index"
   ]
  },
  {
   "cell_type": "code",
   "execution_count": null,
   "id": "light-density",
   "metadata": {},
   "outputs": [],
   "source": [
    "# access a particular location\n",
    "df2.loc[2,'A']"
   ]
  },
  {
   "cell_type": "markdown",
   "id": "crucial-class",
   "metadata": {},
   "source": [
    "With pandas it is very easy to explore the data, using the predefined __plots__"
   ]
  },
  {
   "cell_type": "code",
   "execution_count": null,
   "id": "forward-flower",
   "metadata": {},
   "outputs": [],
   "source": [
    "df2.plot()"
   ]
  },
  {
   "cell_type": "code",
   "execution_count": null,
   "id": "ethical-mills",
   "metadata": {},
   "outputs": [],
   "source": [
    "df2.plot(kind='box')"
   ]
  },
  {
   "cell_type": "code",
   "execution_count": null,
   "id": "economic-modem",
   "metadata": {},
   "outputs": [],
   "source": [
    "df2.plot(kind='scatter',x=\"A\",y=\"B\")"
   ]
  }
 ],
 "metadata": {
  "hide_input": false,
  "kernelspec": {
   "display_name": "Python 3 (ipykernel)",
   "language": "python",
   "name": "python3"
  },
  "language_info": {
   "codemirror_mode": {
    "name": "ipython",
    "version": 3
   },
   "file_extension": ".py",
   "mimetype": "text/x-python",
   "name": "python",
   "nbconvert_exporter": "python",
   "pygments_lexer": "ipython3",
   "version": "3.10.8"
  },
  "toc": {
   "base_numbering": 1,
   "nav_menu": {},
   "number_sections": true,
   "sideBar": true,
   "skip_h1_title": false,
   "title_cell": "Table of Contents",
   "title_sidebar": "Contents",
   "toc_cell": false,
   "toc_position": {},
   "toc_section_display": true,
   "toc_window_display": false
  },
  "varInspector": {
   "cols": {
    "lenName": 16,
    "lenType": 16,
    "lenVar": 40
   },
   "kernels_config": {
    "python": {
     "delete_cmd_postfix": "",
     "delete_cmd_prefix": "del ",
     "library": "var_list.py",
     "varRefreshCmd": "print(var_dic_list())"
    },
    "r": {
     "delete_cmd_postfix": ") ",
     "delete_cmd_prefix": "rm(",
     "library": "var_list.r",
     "varRefreshCmd": "cat(var_dic_list()) "
    }
   },
   "types_to_exclude": [
    "module",
    "function",
    "builtin_function_or_method",
    "instance",
    "_Feature"
   ],
   "window_display": false
  }
 },
 "nbformat": 4,
 "nbformat_minor": 5
}
