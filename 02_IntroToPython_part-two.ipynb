{
 "cells": [
  {
   "cell_type": "markdown",
   "metadata": {},
   "source": [
    "# Introduction To Python, the basics\n",
    "**part two**  \n",
    "  \n",
    "by Martín Araya  "
   ]
  },
  {
   "cell_type": "markdown",
   "metadata": {},
   "source": [
    "## The basic objects, or types of variables, that we can use in Python are:  \n",
    "### · integer numbers → <span style=\"color:orange\">int</span>\n",
    "<span style=\"color:green\">**1**</span>  \n",
    "  \n",
    "### · decimal numbers → <span style=\"color:orange\">float</span>  \n",
    "<span style=\"color:green\">**1.0**</span> the floats are denoted by the period, or dot **.**  \n",
    "    \n",
    "### · boolean ( true or false ) → <span style=\"color:orange\">bool</span>  \n",
    "<span style=\"color:green\">**True**</span> and <span style=\"color:green\">**False**</span>    \n",
    "  \n",
    "### · empty or null → <span style=\"color:orange\">NoneType</span>   \n",
    "<span style=\"color:green\">**None**</span>  \n",
    "    \n",
    "### · strings ( letters, characters, text ) → <span style=\"color:orange\">str</span>   \n",
    "a string is any character or series of characters enclosed in ' or \" or \"\"\"  \n",
    "<span style=\"color:darkred\">'string'</span> "
   ]
  },
  {
   "cell_type": "markdown",
   "metadata": {},
   "source": [
    "# Objects than can contain other objects  \n",
    "# · lists → <span style=\"color:orange\">list</span>   \n",
    "Python list is a type of object that can cointain other objects  \n",
    "- a list is denoted by *square brakets*, being the content of the <span style=\"color:green\">list</span> any other object defined or referred between the opening and closing *square brackets* **[]**   \n",
    "- the different items inside the list are separated by *comma* **,**  \n",
    "- there is also a <span style=\"color:green\">**list()**</span> funtion than can be used to create a <span style=\"color:green\">**list**</span> object, but we will study it in deeper detail later\n",
    "  \n",
    "<span style=\"color:green\">**[**</span> item0 **,** item1 **,** item2 **,** item3 **,** ... **,** item-1 <span style=\"color:green\">**]**</span>  "
   ]
  },
  {
   "cell_type": "code",
   "execution_count": null,
   "metadata": {},
   "outputs": [],
   "source": [
    "# an empty list using the function list\n",
    "L0 = list()\n",
    "print(L0)\n",
    "print(type(L0))\n",
    "L0"
   ]
  },
  {
   "cell_type": "code",
   "execution_count": null,
   "metadata": {},
   "outputs": [],
   "source": [
    "# an empty list\n",
    "L0 = [ ]\n",
    "print(L0)\n",
    "L0"
   ]
  },
  {
   "cell_type": "code",
   "execution_count": null,
   "metadata": {},
   "outputs": [],
   "source": [
    "# a list containing int\n",
    "L1 = [ 1 , 2 , 3 , 4 ]\n",
    "print(L1)\n",
    "L1"
   ]
  },
  {
   "cell_type": "code",
   "execution_count": null,
   "metadata": {},
   "outputs": [],
   "source": [
    "# a list containing float\n",
    "L2 = [ 1.0 , 2.2 , 3. , 4.5 ]\n",
    "print(L2)\n",
    "L2"
   ]
  },
  {
   "cell_type": "code",
   "execution_count": null,
   "metadata": {},
   "outputs": [],
   "source": [
    "# a list containing str\n",
    "L3 = [ '1.0' , '2' , 'a' , 'Z' ]\n",
    "print(L3)\n",
    "L3"
   ]
  },
  {
   "cell_type": "code",
   "execution_count": null,
   "metadata": {},
   "outputs": [],
   "source": [
    "# a list containing bool\n",
    "L4 = [ True , False ]\n",
    "print(L4)\n",
    "L4"
   ]
  },
  {
   "cell_type": "code",
   "execution_count": null,
   "metadata": {},
   "outputs": [],
   "source": [
    "# a list containing None\n",
    "L5 = [ None ]\n",
    "print(L5)"
   ]
  },
  {
   "cell_type": "code",
   "execution_count": null,
   "metadata": {},
   "outputs": [],
   "source": [
    "# a list containing lists\n",
    "L5 = [ L0 , L1 , L2 , L3 , L4 , L5 ]\n",
    "print(L5)"
   ]
  },
  {
   "cell_type": "markdown",
   "metadata": {},
   "source": [
    "## the <span style=\"color:green\">**list()**</span> function  \n",
    "the function <span style=\"color:green\">**list()**</span> takes and optional argument, an object that must be *iterable*, and return a <span style=\"color:green\">list</span> containing every item in the argument object.  \n",
    "if no argument is provided to <span style=\"color:green\">**list()**</span>, an empty <span style=\"color:green\">list</span> is returned.\n",
    "  \n",
    "### what is an *iterable* object?\n",
    "an **iterable object** is any object that contain items and that is capable of returning its items one at a time; then, it can directly be iterated over in a for loop."
   ]
  },
  {
   "cell_type": "code",
   "execution_count": null,
   "metadata": {},
   "outputs": [],
   "source": [
    "# get a list from another list\n",
    "L6 = list( L1 )\n",
    "print( L6 )\n",
    "L6"
   ]
  },
  {
   "cell_type": "markdown",
   "metadata": {},
   "source": [
    "# · sequences → <span style=\"color:orange\">tuple</span>   \n",
    "Python tuple is a type of object that can cointain other objects  \n",
    "- a list is denoted by *parentheses*, being the content of the <span style=\"color:green\">tuple</span> any other object defined or referred between the opening and closing *parentheses* **()**   \n",
    "- the different items inside the list are separated by *comma* **,**   \n",
    "- in order to declare a tuple with a single item, a comma must be written before the closing parenthesis\n",
    "- there is also a <span style=\"color:green\">**tuple()**</span> funtion than can be used to create a <span style=\"color:green\">**tuple**</span> object.  \n",
    "  \n",
    "## the <span style=\"color:green\">**tuple()**</span> function   \n",
    "the function <span style=\"color:green\">**tuple()**</span> is analogous to <span style=\"color:green\">**list()**</span>, it takes and optional argument, an object that must be *iterable*, and return a <span style=\"color:green\">tuple</span> containing every item in the argument object.  \n",
    "if no argument is provided to <span style=\"color:green\">**tuple()**</span>, an empty <span style=\"color:green\">tuple</span> is returned.\n",
    "  \n",
    "<span style=\"color:green\">**(**</span> item0 **,** item1 **,** item2 **,** item3 **,** ... **,** item-1 <span style=\"color:green\">**)**</span>  "
   ]
  },
  {
   "cell_type": "code",
   "execution_count": null,
   "metadata": {},
   "outputs": [],
   "source": [
    "# an empty tuple using the function tuple\n",
    "T0 = tuple()\n",
    "print(T0)\n",
    "print(type(T0))\n",
    "T0"
   ]
  },
  {
   "cell_type": "code",
   "execution_count": null,
   "metadata": {},
   "outputs": [],
   "source": [
    "# an empty tuple\n",
    "T0 = ( , )\n",
    "print(T0)\n",
    "print(type(T0))\n",
    "T0"
   ]
  },
  {
   "cell_type": "markdown",
   "metadata": {},
   "source": [
    "it failed!\n",
    "\n",
    "- to define an empty tuple we don't need the *comma* **,**"
   ]
  },
  {
   "cell_type": "code",
   "execution_count": null,
   "metadata": {},
   "outputs": [],
   "source": [
    "# an empty tuple\n",
    "T0 = ( )\n",
    "print(T0)\n",
    "print(type(T0))\n",
    "T0"
   ]
  },
  {
   "cell_type": "code",
   "execution_count": null,
   "metadata": {},
   "outputs": [],
   "source": [
    "# a list containing a single item, the None object\n",
    "T1 = ( None )\n",
    "print(T1)\n",
    "print(type(T1))\n",
    "T1"
   ]
  },
  {
   "cell_type": "markdown",
   "metadata": {},
   "source": [
    "it is not a tuple! is just the None object, then there is nothing in the Out!\n",
    "\n",
    "- to define a tuple we a single item we do need the *comma* **,**"
   ]
  },
  {
   "cell_type": "code",
   "execution_count": null,
   "metadata": {},
   "outputs": [],
   "source": [
    "# a list containing a single item, the None object\n",
    "T1 = ( None , )\n",
    "print(T1)\n",
    "print(type(T0))\n",
    "T1"
   ]
  },
  {
   "cell_type": "code",
   "execution_count": null,
   "metadata": {},
   "outputs": [],
   "source": [
    "# a tuple containing numbers, strings and boolean\n",
    "T2 = ( 1 , 2.0 , 'a' , True )\n",
    "print(T2)\n",
    "T2"
   ]
  },
  {
   "cell_type": "markdown",
   "metadata": {},
   "source": [
    "## working with the items inside a <span style=\"color:green\">**list**</span> or a <span style=\"color:green\">**tuple**</span>   \n",
    "  \n",
    "similarly to the <span style=\"color:green\">**str**</span> objects, slice is the way to access especific items inside <span style=\"color:green\">**list**</span>s and a <span style=\"color:green\">**tuple**</span>s    "
   ]
  },
  {
   "cell_type": "code",
   "execution_count": null,
   "metadata": {},
   "outputs": [],
   "source": [
    "# the first element \n",
    "print( 'access the first element in a tuple using [0]' , T2[0] )\n",
    "print( 'access the first element in a list using [0]' , L3[0] )"
   ]
  },
  {
   "cell_type": "code",
   "execution_count": null,
   "metadata": {},
   "outputs": [],
   "source": [
    "# the last element \n",
    "print( 'access the last element in a tuple using [-1]' , T1[-1] )\n",
    "print( 'access the last element in a list using [-1]' , L5[-1] )"
   ]
  },
  {
   "cell_type": "code",
   "execution_count": null,
   "metadata": {},
   "outputs": [],
   "source": [
    "# some elements inside \n",
    "print( 'access the elements in a tuple using [ start : stop : step ]\\n' , T2[1:3] )\n",
    "print( '\\naccess the elemenst in a list using [ start : stop : step ]\\n' , L5[-1:1:-2] )\n",
    "print( [0,1,2,3,4,5,6,7,8,9][1:-1:2] )\n",
    "print( list( range(10)[1:-1:2] ) ) # pay attention to this one!\n",
    "print( list( range(10) )[1:-1:2] ) # and pay attention to this one!"
   ]
  },
  {
   "cell_type": "code",
   "execution_count": null,
   "metadata": {},
   "outputs": [],
   "source": [
    "# notice that we can slice also a range object and it returns the range object equivalent to out selection:\n",
    "range(10)[1:-1:2]"
   ]
  },
  {
   "cell_type": "markdown",
   "metadata": {},
   "source": [
    "## change items inside a list, without redefining the entire list\n",
    "- we can define the elements inside an existing list using slice  \n",
    "List[ Element ] = Value  \n",
    "List[ start : stop ] = [ same_number_of_elements ]  "
   ]
  },
  {
   "cell_type": "code",
   "execution_count": null,
   "metadata": {},
   "outputs": [],
   "source": [
    "# define a list\n",
    "List = [ 1 , 2, '3' , 4 , 5 ]\n",
    "print( List )\n",
    "# we notice that '3' is a string, not an integer\n",
    "\n",
    "# we have to correct it\n",
    "List[2] = 3\n",
    "print( List )\n",
    "# we have changed just an item inside the list, without redefining the entire list"
   ]
  },
  {
   "cell_type": "markdown",
   "metadata": {},
   "source": [
    "## loop through <span style=\"color:green\">**list**</span> or <span style=\"color:green\">**tuple**</span>   \n",
    "  \n",
    "<span style=\"color:green\">**list**</span>s and <span style=\"color:green\">**tuple**</span>s can be used inside **loop**s in the same way we use the <span style=\"color:green\">**str**</span> objects  \n",
    "- using the **index** of the item with **for** or **while**  \n",
    "- extracting the item with **for**  \n",
    "  \n",
    "the lenght of a **list**s and **tuple**s can be obtained using the function <span style=\"color:green\">**len**</span>, like with the string objects"
   ]
  },
  {
   "cell_type": "code",
   "execution_count": null,
   "metadata": {},
   "outputs": [],
   "source": [
    "# loop using the index \n",
    "for i in range( len(L3) ) :\n",
    "    print( L3[i] )"
   ]
  },
  {
   "cell_type": "code",
   "execution_count": null,
   "metadata": {},
   "outputs": [],
   "source": [
    "# loop using the index \n",
    "i = 0\n",
    "while i < len(L3) :\n",
    "    print( L3[i] )\n",
    "    i += 1"
   ]
  },
  {
   "cell_type": "code",
   "execution_count": null,
   "metadata": {},
   "outputs": [],
   "source": [
    "# loop accessing the items \n",
    "for i in L3 :\n",
    "    print( i )"
   ]
  },
  {
   "cell_type": "markdown",
   "metadata": {},
   "source": [
    "## <span style=\"color:green\">**list**</span> and <span style=\"color:green\">**tuple**</span> operations and comparisons  \n",
    "as you have notice already we can operate with <span style=\"color:green\">**list**</span> and <span style=\"color:green\">**tuple**</span> in simular way that we operate the <span style=\"color:green\">**str**</span>.\n",
    "this is still the same with  \n",
    "- the *add* **+** operator   \n",
    "and  \n",
    "- the *multiply* **_*_** operator:  "
   ]
  },
  {
   "cell_type": "markdown",
   "metadata": {},
   "source": [
    "### · addition → <span style=\"color:red\">**+**</span>    \n",
    "the <span style=\"color:red\">**+**</span> operator will *concatenate* the <span style=\"color:green\">list</span> or <span style=\"color:green\">tuple</span> on the right after the <span style=\"color:green\">list</span> or <span style=\"color:green\">tuple</span> on the left with the only condition that the item in both sides are the same type of object, that means:  \n",
    "- <span style=\"color:green\">**list**</span> **+** <span style=\"color:green\">**list**</span> return <span style=\"color:green\">**list**</span>\n",
    "- <span style=\"color:green\">**tuple**</span> **+** <span style=\"color:green\">**tuple**</span> return <span style=\"color:green\">**tuple**</span>\n",
    "but\n",
    "- <span style=\"color:green\">**list**</span> **+** <span style=\"color:green\">**tuple**</span> return <span style=\"color:darkred\">**TypeError:**</span> because it can only concatenate *tuple (not \"list\") to tuple* or *list (not \"tuple\") to list*"
   ]
  },
  {
   "cell_type": "code",
   "execution_count": null,
   "metadata": {},
   "outputs": [],
   "source": [
    "A = [1,2,3,4]\n",
    "B = [5,6,7,8]\n",
    "A + B"
   ]
  },
  {
   "cell_type": "code",
   "execution_count": null,
   "metadata": {},
   "outputs": [],
   "source": [
    "A = (1,2,3,4)\n",
    "B = (5,6,7,8)\n",
    "A + B"
   ]
  },
  {
   "cell_type": "code",
   "execution_count": null,
   "metadata": {},
   "outputs": [],
   "source": [
    "A = (1,2,3,4)\n",
    "B = [5,6,7,8]\n",
    "A + B"
   ]
  },
  {
   "cell_type": "markdown",
   "metadata": {},
   "source": [
    "<span style=\"color:green\">**list**</span> <span style=\"color:red\">**+**</span> <span style=\"color:green\">**tuple**</span> failed, as expected"
   ]
  },
  {
   "cell_type": "markdown",
   "metadata": {},
   "source": [
    "### · product → **<span style=\"color:red\">*</span>**    \n",
    "the **<span style=\"color:red\">*</span>** operator will *repeat*, or *concatenate*, the same <span style=\"color:green\">tuple</span> or <span style=\"color:green\">list</span> as many times as the <span style=\"color:green\">**int**</span> indicates:  \n",
    "- **<span style=\"color:green\">list</span> <span style=\"color:red\">*</span> <span style=\"color:green\">int</span>** returns <span style=\"color:green\">**list**</span>\n",
    "- **<span style=\"color:green\">tuple</span> <span style=\"color:red\">*</span> <span style=\"color:green\">int</span>** returns <span style=\"color:green\">**tuple**</span>"
   ]
  },
  {
   "cell_type": "code",
   "execution_count": null,
   "metadata": {},
   "outputs": [],
   "source": [
    "# repeat a list\n",
    "L = ['a','b','c']\n",
    "L * 3"
   ]
  },
  {
   "cell_type": "code",
   "execution_count": null,
   "metadata": {},
   "outputs": [],
   "source": [
    "# repeat a tuple\n",
    "T = (1,2,3)\n",
    "T * 3"
   ]
  },
  {
   "cell_type": "markdown",
   "metadata": {},
   "source": [
    "### · equality → **<span style=\"color:red\">==</span>**    \n",
    "the **<span style=\"color:red\">==</span>** operator will check that both objects has the same values"
   ]
  },
  {
   "cell_type": "markdown",
   "metadata": {},
   "source": [
    "## <span style=\"color:green\">**list**</span> vs <span style=\"color:green\">**tuple**</span>   \n",
    "the basic difference between <span style=\"color:green\">list</span> and <span style=\"color:green\">tuple</span> is that one is mutable (items inside can be changed) while the other is unmutable (items inside can't not be changed)   "
   ]
  },
  {
   "cell_type": "code",
   "execution_count": null,
   "metadata": {},
   "outputs": [],
   "source": [
    "# define a list and a tuple with the same items\n",
    "MyList = [ 1 , 2 , 4 ]\n",
    "MyTuple = ( 1 , 2 , 4 )\n",
    "print( MyList , MyTuple )"
   ]
  },
  {
   "cell_type": "code",
   "execution_count": null,
   "metadata": {},
   "outputs": [],
   "source": [
    "# check if our list and tuple are equal\n",
    "MyList == MyTuple"
   ]
  },
  {
   "cell_type": "markdown",
   "metadata": {},
   "source": [
    "the way e have defined them, MyList and MyTuple contains the same items, but they are not equal because they are different type of objects  \n",
    "  \n",
    "in order to if the items of a list and a tuple we must put both in the same type"
   ]
  },
  {
   "cell_type": "code",
   "execution_count": null,
   "metadata": {},
   "outputs": [],
   "source": [
    "MyList == list(MyTuple)"
   ]
  },
  {
   "cell_type": "code",
   "execution_count": null,
   "metadata": {},
   "outputs": [],
   "source": [
    "# change an item inside MyList\n",
    "MyList[-1] = 3\n",
    "MyList"
   ]
  },
  {
   "cell_type": "code",
   "execution_count": null,
   "metadata": {},
   "outputs": [],
   "source": [
    "# change an item inside MyTuple\n",
    "MyTuple[-1] = 3\n",
    "MyTuple"
   ]
  },
  {
   "cell_type": "markdown",
   "metadata": {},
   "source": [
    "### <span style=\"color:green\">**tuple**</span>s does not support changing their items  \n",
    "that is what makes them different to <span style=\"color:green\">**list**</span>s  "
   ]
  },
  {
   "cell_type": "code",
   "execution_count": null,
   "metadata": {},
   "outputs": [],
   "source": [
    "# we have to define the tuple again in order to correct it\n",
    "\n",
    "# we can convert the corrected list MyList into a tuple\n",
    "# and set it to the variable MyTuple\n",
    "MyTuple = tuple( MyList )\n",
    "MyTuple"
   ]
  },
  {
   "cell_type": "markdown",
   "metadata": {},
   "source": [
    "## variables refering to <span style=\"color:green\">**list**</span>s and <span style=\"color:green\">**tuple**</span>s "
   ]
  },
  {
   "cell_type": "code",
   "execution_count": null,
   "metadata": {},
   "outputs": [],
   "source": [
    "# set second variables equals to MyList and MyTuple\n",
    "YourList = MyList\n",
    "YourTuple = MyTuple\n",
    "print( YourList , YourTuple )"
   ]
  },
  {
   "cell_type": "code",
   "execution_count": null,
   "metadata": {},
   "outputs": [],
   "source": [
    "# change an item inside YourList\n",
    "YourList[-1] = 9\n",
    "print( YourList )"
   ]
  },
  {
   "cell_type": "code",
   "execution_count": null,
   "metadata": {},
   "outputs": [],
   "source": [
    "# now check MyList\n",
    "print( MyList )"
   ]
  },
  {
   "cell_type": "markdown",
   "metadata": {},
   "source": [
    "notice that the last element was changed **also** in MyList  \n",
    "  \n",
    "that happens because both variables, *MyList* and *YourList* are pointing to the same **<span style=\"color:green\">list</span>** object in memory  \n",
    "  \n",
    "in case we want to make a **copy** of a <span style=\"color:green\">list</span> into a new variable we can:\n",
    "- expand the **<span style=\"color:green\">list</span>** before assign it to the new variable, using slice **[:]**\n",
    "- use the **.copy()** method"
   ]
  },
  {
   "cell_type": "code",
   "execution_count": null,
   "metadata": {},
   "outputs": [],
   "source": [
    "# copy the list by expanding MyList\n",
    "NewList = MyList[:]\n",
    "print( MyList )\n",
    "print( NewList )"
   ]
  },
  {
   "cell_type": "code",
   "execution_count": null,
   "metadata": {},
   "outputs": [],
   "source": [
    "# change an item in NewList\n",
    "NewList[0] = 5\n",
    "\n",
    "# check that MyList was not changed\n",
    "print( MyList )\n",
    "print( NewList )"
   ]
  },
  {
   "cell_type": "markdown",
   "metadata": {},
   "source": [
    "the modification of NewList doesn't affect MyList, because they are different objects"
   ]
  },
  {
   "cell_type": "markdown",
   "metadata": {},
   "source": [
    "# the <span style=\"color:red\">**is**</span> operator  \n",
    "we can check the object in memory with the function python <span style=\"color:green\">**id()**</span> and compare them with operator <span style=\"color:red\">**is**</span>"
   ]
  },
  {
   "cell_type": "code",
   "execution_count": null,
   "metadata": {},
   "outputs": [],
   "source": [
    "MyList is YourList"
   ]
  },
  {
   "cell_type": "code",
   "execution_count": null,
   "metadata": {},
   "outputs": [],
   "source": [
    "# let's see the id of both lists\n",
    "print( id(MyList) )\n",
    "print( id(YourList) )"
   ]
  },
  {
   "cell_type": "markdown",
   "metadata": {},
   "source": [
    "**notice that**\n",
    "- the id of the **<span style=\"color:green\">list</span>**s *MyList* and *YourList* is the same, so both point to the same object  \n",
    "- that's why when we have changed the last item in ***YourList*** it was changed also in ***MyList***  \n",
    "  \n",
    "the same happen with the **<span style=\"color:green\">tuple</span>**s:"
   ]
  },
  {
   "cell_type": "code",
   "execution_count": null,
   "metadata": {},
   "outputs": [],
   "source": [
    "MyTuple is YourTuple"
   ]
  },
  {
   "cell_type": "code",
   "execution_count": null,
   "metadata": {},
   "outputs": [],
   "source": [
    "# let's see the id of both tuples\n",
    "print( id(MyTuple) )\n",
    "print( id(YourTuple) )"
   ]
  },
  {
   "cell_type": "markdown",
   "metadata": {},
   "source": [
    "notice that also both variables *MyTuple* and *YourTuple* refer to the same object.  \n",
    "the big difference is that because <span style=\"color:green\">tuple</span> are inmutable, we can't accidentally modify *MyTuple* when changing *YourTuple*   \n",
    "- we can consider the <span style=\"color:green\">tuple</span> as a ***read only*** version of the <span style=\"color:green\">list</span>.  \n",
    "\n",
    "that becomes useful when we want to asure that te input data loaded into our functions will not be modified, if we want to always keep the original data for future uses  \n",
    "  \n",
    "let's compare the **id** of MyList and NewList"
   ]
  },
  {
   "cell_type": "code",
   "execution_count": null,
   "metadata": {},
   "outputs": [],
   "source": [
    "print( id(MyList) )\n",
    "print( id(NewList) )"
   ]
  },
  {
   "cell_type": "markdown",
   "metadata": {},
   "source": [
    "notice **id**s are different, that's why *MyList* remains intact when we changed the first element of *NewList*  \n",
    "  \n",
    "#### let's recap\n",
    "- **assign** a <span style=\"color:green\">list</span> to a variable points to the *list object* in memory, doesn't copy the object  \n",
    "- to **copy** the <span style=\"color:green\">list</span> we can:  \n",
    "  • use **slice** to expand **[:]** the list before assign it to the variable  \n",
    "  • use **.copy()** method when assigning  \n",
    "  \n",
    "let's try:"
   ]
  },
  {
   "cell_type": "code",
   "execution_count": null,
   "metadata": {},
   "outputs": [],
   "source": [
    "# define a list and create other lists based on the first one\n",
    "MyList = [ 1 , 2 , 3 ]\n",
    "YourList = MyList\n",
    "NewList = MyList[:]\n",
    "OtherList = MyList.copy()\n",
    "\n",
    "# print the lists\n",
    "print( '   MyList' , MyList )\n",
    "print( ' YourList' , YourList )\n",
    "print( '  NewList' , NewList )\n",
    "print( 'OtherList' , OtherList )"
   ]
  },
  {
   "cell_type": "markdown",
   "metadata": {},
   "source": [
    "the **list**s seems to the same, at least hast the same content  \n",
    "let's check their **id**s:"
   ]
  },
  {
   "cell_type": "code",
   "execution_count": null,
   "metadata": {
    "scrolled": true
   },
   "outputs": [],
   "source": [
    "# check the ids\n",
    "print( '   MyList' , id(MyList) )\n",
    "print( ' YourList' , id(YourList) )\n",
    "print( '  NewList' , id(NewList) )\n",
    "print( 'OtherList' , id(OtherList) )"
   ]
  },
  {
   "cell_type": "markdown",
   "metadata": {},
   "source": [
    "**notice that**  \n",
    "- *MyList* and *YourList* has the same **id**, then both point to the same list object \n",
    "- both, *NewList* and *OtherList* has different **id**s between them and also compared to *MyList*, they point to different list objects\n",
    "\n",
    "and finally, notice   \n",
    "- the difference between the coparison using **<span style=\"color:red\">==</span>** and using **<span style=\"color:red\">is</span>** "
   ]
  },
  {
   "cell_type": "code",
   "execution_count": null,
   "metadata": {},
   "outputs": [],
   "source": [
    "print( 'MyList IS YourList', MyList is YourList )\n",
    "print( 'MyList == YourList', MyList == YourList )\n",
    "print()\n",
    "print( 'MyList IS NewList', MyList is NewList )\n",
    "print( 'MyList == NewList', MyList == NewList )\n",
    "print()\n",
    "print( 'MyList IS OtherList', MyList is OtherList )\n",
    "print( 'MyList == OtherList', MyList == OtherList )\n",
    "print()\n",
    "print( 'NewList IS OtherList', NewList is OtherList )\n",
    "print( 'NewList == OtherList', NewList == OtherList )"
   ]
  },
  {
   "cell_type": "markdown",
   "metadata": {},
   "source": [
    "all the lists are **equal**, but they **are not the same**  \n",
    "- both have the *same content*, tested with **<span style=\"color:red\">==</span>**  \n",
    "- but are *different objects*, tsted with **<span style=\"color:red\">is</span>**"
   ]
  },
  {
   "cell_type": "markdown",
   "metadata": {},
   "source": [
    "**<span style=\"color:green\">is</span>** operator is useful when we whant to compare objects that have the same *value* but are different *things* or <span style=\"color:green\">type</span>"
   ]
  },
  {
   "cell_type": "code",
   "execution_count": null,
   "metadata": {},
   "outputs": [],
   "source": [
    "# lets compare an int to a float\n",
    "print( '1 == 1.0' , 1 == 1.0 )\n",
    "print( '1 is 1.0' , 1 is 1.0 )"
   ]
  },
  {
   "cell_type": "code",
   "execution_count": null,
   "metadata": {},
   "outputs": [],
   "source": [
    "# or more interesting when coding, compare an numbers to bool\n",
    "print( '1 == True' , 1 == True )\n",
    "print( '1 is True' , 1 is True )\n",
    "print()\n",
    "print( '1.0 == True' , 1.0 == True )\n",
    "print( '1.0 is True' , 1.0 is True )"
   ]
  },
  {
   "cell_type": "markdown",
   "metadata": {},
   "source": [
    "**notice that**  \n",
    "- <span style=\"color:green\">1</span> is <span style=\"color:red\">**equal to**</span> <span style=\"color:green\">True</span>  \n",
    "but  \n",
    "- <span style=\"color:green\">1</span> <span style=\"color:red\">**is**</span> not <span style=\"color:green\">True</span>    \n",
    "  \n",
    "the same happens with <span style=\"color:green\">0</span> and <span style=\"color:green\">False</span>  "
   ]
  },
  {
   "cell_type": "code",
   "execution_count": null,
   "metadata": {},
   "outputs": [],
   "source": [
    "print( '0 == False' , 0 == False )\n",
    "print( '0 is False' , 0 is False )"
   ]
  },
  {
   "cell_type": "code",
   "execution_count": null,
   "metadata": {},
   "outputs": [],
   "source": [
    "0.0 == True"
   ]
  },
  {
   "cell_type": "markdown",
   "metadata": {},
   "source": [
    "### moral of the story: it <span style=\"color:green\">**is**</span> highly recommended to use <span style=\"color:green\">**is**</span> when comparing to <span style=\"color:green\">**True**</span> or <span style=\"color:green\">**False**</span> in your codes, \n",
    "unless you specifically want to compare different objects to boolean <span style=\"color:green\">True</span> or <span style=\"color:green\">False</span>"
   ]
  },
  {
   "cell_type": "markdown",
   "metadata": {},
   "source": [
    "# working with <span style=\"color:green\">**list**</span> and <span style=\"color:green\">**str**</span>  \n",
    "  \n",
    "we have learned already that working with **<span style=\"color:green\">list</span>s** is very simulat to work with **<span style=\"color:green\">str</span>s**  \n",
    "- slice works the same way for both **[ start : stop : step ]**  \n",
    "- we can loop thoought **<span style=\"color:green\">list</span>s** using <span style=\"color:green\">**for**</span> and <span style=\"color:green\">**while**</span> loops the same way we did with **<span style=\"color:green\">str</span>s**   \n",
    "\n",
    "we can convert a **string** into **list** using the function <span style=\"color:green\">**list()**</span>"
   ]
  },
  {
   "cell_type": "code",
   "execution_count": null,
   "metadata": {},
   "outputs": [],
   "source": [
    "# convert string into list\n",
    "MyString = 'hello world!'\n",
    "MyList = list(MyString)\n",
    "MyList"
   ]
  },
  {
   "cell_type": "markdown",
   "metadata": {},
   "source": [
    "notice that **each character** of the <span style=\"color:green\">str</span> **is an element** in the <span style=\"color:green\">list</span>"
   ]
  },
  {
   "cell_type": "markdown",
   "metadata": {},
   "source": [
    "## <span style=\"color:green\">**.split()**</span> method   \n",
    "in case we want to convert **each word** of the string into an item of a list, the method <span style=\"color:green\">**split()**</span> is what we need.\n",
    "  \n",
    "the method <span style=\"color:green\">**split()**</span> can receive an optional parameter, a *separtor*, that must be a <span style=\"color:green\">str</span> and that will be used to split the main <span style=\"color:green\">str</span> into the elements of the <span style=\"color:green\">list</span>.  \n",
    "  \n",
    "remember that to use a method we must call it after the object that contains it followed by a period or dot **.**  \n",
    "**object . method()**"
   ]
  },
  {
   "cell_type": "code",
   "execution_count": null,
   "metadata": {},
   "outputs": [],
   "source": [
    "# split the string by words (by spaces)\n",
    "MyString = 'be safe, be Cepsa'\n",
    "MyList = MyString.split()\n",
    "MyList"
   ]
  },
  {
   "cell_type": "markdown",
   "metadata": {},
   "source": [
    "keep in mind that the method <span style=\"color:green\">**split()**</span> belongs to the <span style=\"color:green\">**str**</span> object, thus, to use it we must call it after defining the string or refering the string variable."
   ]
  },
  {
   "cell_type": "markdown",
   "metadata": {},
   "source": [
    "we can also separete our string by phrases, using the comma **,** as separator"
   ]
  },
  {
   "cell_type": "code",
   "execution_count": null,
   "metadata": {},
   "outputs": [],
   "source": [
    "# split using an arbitrary separator\n",
    "MyString.split(',')"
   ]
  },
  {
   "cell_type": "markdown",
   "metadata": {},
   "source": [
    "## <span style=\"color:green\">**.join()**</span> method  \n",
    "<span style=\"color:green\">**.join()**</span> is the inverse method of <span style=\"color:green\">**split()**</span>.   \n",
    "  \n",
    "<span style=\"color:green\">**.join()**</span> is a <span style=\"color:green\">str</span> method will put togheter in a single string all the elements in the <span style=\"color:green\">list</span> provided as argument, using the <span style=\"color:green\">str</span> from where the method is called.   \n",
    "  \n",
    "there is no default for the string joining the list, it must always be defined"
   ]
  },
  {
   "cell_type": "code",
   "execution_count": null,
   "metadata": {},
   "outputs": [],
   "source": [
    "# put our string back togheter\n",
    "' '.join( MyList )"
   ]
  },
  {
   "cell_type": "code",
   "execution_count": null,
   "metadata": {},
   "outputs": [],
   "source": [
    "print( MyString )\n",
    "# firt split MyString using ',' as separator,\n",
    "# later put our string back togheter, joined by ';'\n",
    "# and finally print\n",
    "print( ';'.join( MyString.split(',') ) )"
   ]
  },
  {
   "cell_type": "markdown",
   "metadata": {},
   "source": [
    "# useful <span style=\"color:green\">**list**</span> methods  \n",
    "## <span style=\"color:green\">**.index()**</span>  method\n",
    "receives and item from the list as argument and return its position inside the list  \n",
    "similar to the <span style=\"color:green\">.index()</span> method of the  <span style=\"color:green\">**str**</span> "
   ]
  },
  {
   "cell_type": "code",
   "execution_count": null,
   "metadata": {},
   "outputs": [],
   "source": [
    "# ralling the list list MyLit\n",
    "print( 'MyList:' , MyList )\n",
    "\n",
    "# get the positon of the word 'safe,'\n",
    "MyList.index('safe,')"
   ]
  },
  {
   "cell_type": "markdown",
   "metadata": {},
   "source": [
    "if the argument object is not inside the list, it will raise an <span style=\"color:darkred\">**Error**</span> "
   ]
  },
  {
   "cell_type": "code",
   "execution_count": null,
   "metadata": {},
   "outputs": [],
   "source": [
    "# get the positon of the word 'safe'\n",
    "MyList.index('safe') # without the comma"
   ]
  },
  {
   "cell_type": "markdown",
   "metadata": {},
   "source": [
    "## <span style=\"color:green\">**.append()**</span>  method  \n",
    "useful to add an *item* at **end** of the <span style=\"color:green\">list</span>.    \n",
    "<span style=\"color:green\">**.append()**</span> inmediately stores the new item in the existing list, there is no need to assign the resulting list to the variable.  \n",
    "    \n",
    "it is equivalent to put the *item* bertween square brackets **[]**, put it inside a list, and concatenate this list after the original list:  \n",
    "- <span style=\"color:green\">list**.append(**</span> *item* <span style=\"color:green\">**)**</span>  \n",
    "or  \n",
    "- <span style=\"color:green\">list</span> <span style=\"color:red\">**+=**</span> **[** *item* **]**"
   ]
  },
  {
   "cell_type": "code",
   "execution_count": null,
   "metadata": {},
   "outputs": [],
   "source": [
    "# first define a list\n",
    "NumberList = list( range(8) )\n",
    "print( NumberList )"
   ]
  },
  {
   "cell_type": "code",
   "execution_count": null,
   "metadata": {},
   "outputs": [],
   "source": [
    "# append the number 8\n",
    "NumberList += [ 8 ]\n",
    "print( NumberList )"
   ]
  },
  {
   "cell_type": "code",
   "execution_count": null,
   "metadata": {},
   "outputs": [],
   "source": [
    "# append the number 9\n",
    "NumberList.append( 9 )\n",
    "print( NumberList )"
   ]
  },
  {
   "cell_type": "markdown",
   "metadata": {},
   "source": [
    "# the <span style=\"color:red\">**map()**</span> function  \n",
    "<span style=\"color:red\">**map()**</span> is not a list method, but comes very handy when working with lists.\n",
    "<span style=\"color:red\">**map()**</span> received two arguments:  \n",
    "- a function  \n",
    "- an iterable object  \n",
    "it applies the function to each one of the items in the iterable object  \n",
    "  \n",
    "<span style=\"color:red\">**map(**</span> *function* , *iterable* <span style=\"color:red\">**)**</span>"
   ]
  },
  {
   "cell_type": "code",
   "execution_count": null,
   "metadata": {},
   "outputs": [],
   "source": [
    "# our NumberList contains integers\n",
    "# let's convert the items to strings\n",
    "map( str , NumberList )"
   ]
  },
  {
   "cell_type": "markdown",
   "metadata": {},
   "source": [
    "<span style=\"color:red\">**map()**</span> returns a map object, which is iterable, then, works well with **for** loops.  \n",
    "  \n",
    "to actually rewrite our list with its items converted to strings we have to expand the *map object*, using <span style=\"color:green\">**list()**</span> and asseign it to the variable:"
   ]
  },
  {
   "cell_type": "code",
   "execution_count": null,
   "metadata": {},
   "outputs": [],
   "source": [
    "# our NumberList contains integers\n",
    "# let's convert the items to strings\n",
    "NumberList = list( map( str , NumberList ) )\n",
    "print( NumberList )"
   ]
  },
  {
   "cell_type": "markdown",
   "metadata": {},
   "source": [
    "## <span style=\"color:green\">**.remove()**</span> and <span style=\"color:green\">**.pop()**</span> methods  \n",
    "useful to remove an *item* from the <span style=\"color:green\">list</span>.    \n",
    "<span style=\"color:green\">**.pop()**</span> and <span style=\"color:green\">**.remove()**</span> inmediately affects the existing list, there is no need to assign the resulting list to the variable again.  \n",
    "  \n",
    "the difference betwwen <span style=\"color:green\">**.pop()**</span> and <span style=\"color:green\">**.remove()**</span> is that:  \n",
    "- <span style=\"color:green\">**.pop()**</span>  \n",
    "· the argument is the position or **index of the item** to be removed,  \n",
    "· returns the removed item,  \n",
    "\n",
    "while  \n",
    "- <span style=\"color:green\">**.remove()**</span>  \n",
    "· the argument is **the item** to be removed,  \n",
    "· returns None    "
   ]
  },
  {
   "cell_type": "code",
   "execution_count": null,
   "metadata": {},
   "outputs": [],
   "source": [
    "# remove the number 5\n",
    "print( type( NumberList.remove( '5' ) ) ) # notice '5' is a string\n",
    "print( NumberList )"
   ]
  },
  {
   "cell_type": "code",
   "execution_count": null,
   "metadata": {},
   "outputs": [],
   "source": [
    "# remove the number 5\n",
    "print( type( NumberList.remove( '5' ) ) )\n",
    "print( NumberList )"
   ]
  },
  {
   "cell_type": "markdown",
   "metadata": {},
   "source": [
    "if we attempt to remove an item that is not present in the list, it will raise a <span style=\"color:darkred\">**ValueError**</span>."
   ]
  },
  {
   "cell_type": "code",
   "execution_count": null,
   "metadata": {},
   "outputs": [],
   "source": [
    "# remove the number 3\n",
    "print( type( NumberList.pop( 3 ) ) ) # notice 3 is an integer, the 3rd position\n",
    "print( NumberList )"
   ]
  },
  {
   "cell_type": "markdown",
   "metadata": {},
   "source": [
    "if we attempt to remove an index that is not in the range of the list, it will raise a <span style=\"color:darkred\">**IndexError**</span>."
   ]
  },
  {
   "cell_type": "code",
   "execution_count": null,
   "metadata": {},
   "outputs": [],
   "source": [
    "# remove the item number 15\n",
    "print( type( NumberList.pop( 15 ) ) )\n",
    "print( NumberList )"
   ]
  },
  {
   "cell_type": "markdown",
   "metadata": {},
   "source": [
    "## <span style=\"color:green\">**.insert()**</span> method  \n",
    "useful to **insert** an *item* in an arbitrary position of the <span style=\"color:green\">list</span>.  "
   ]
  },
  {
   "cell_type": "code",
   "execution_count": null,
   "metadata": {},
   "outputs": [],
   "source": [
    "# insert the number '5'\n",
    "NumberList.insert( 4 , '5' )\n",
    "print( NumberList )"
   ]
  },
  {
   "cell_type": "code",
   "execution_count": null,
   "metadata": {},
   "outputs": [],
   "source": [
    "# insert the number '3' in the 3rd position\n",
    "NumberList.insert( 3 , '3' )\n",
    "# notice which argument is the position and which is the item to insert\n",
    "print( NumberList )"
   ]
  },
  {
   "cell_type": "markdown",
   "metadata": {},
   "source": [
    "<span style=\"color:green\">**.insert()**</span> inmediately affects the existing list, there is no need to assign the resulting list to the variable again. \n",
    "\n",
    "<span style=\"color:green\">**.insert()**</span> arguments are:  \n",
    "- the *index* where we want the new item to be inserted\n",
    "- the *new item* to be inserted"
   ]
  },
  {
   "cell_type": "markdown",
   "metadata": {},
   "source": [
    "## <span style=\"color:green\">**.reverse()**</span> method  \n",
    "as expected, reverse the order of the items in the <span style=\"color:green\">list</span>.  \n",
    "  \n",
    "it is equivalent to **slice** the <span style=\"color:green\">list</span> with **step -1** and assign it again.  \n",
    "  \n",
    "<span style=\"color:green\">**.reverse()**</span> inmediately affects the existing list, there is no need to assign the resulting list to the variable again. "
   ]
  },
  {
   "cell_type": "code",
   "execution_count": null,
   "metadata": {},
   "outputs": [],
   "source": [
    "# invert the order using reverse() method\n",
    "NumberList.reverse()\n",
    "print(NumberList)"
   ]
  },
  {
   "cell_type": "code",
   "execution_count": null,
   "metadata": {},
   "outputs": [],
   "source": [
    "# invert the order using slice\n",
    "NumberList = NumberList[::-1]\n",
    "print( NumberList )"
   ]
  },
  {
   "cell_type": "markdown",
   "metadata": {},
   "source": [
    "## <span style=\"color:green\">**.sort()**</span> method  \n",
    "it sorts the items in the <span style=\"color:green\">list</span> based in their values.  \n",
    "  \n",
    "<span style=\"color:green\">**.sort()**</span> inmediately affects the existing list, there is no need to assign the resulting list to the variable again. "
   ]
  },
  {
   "cell_type": "code",
   "execution_count": null,
   "metadata": {},
   "outputs": [],
   "source": [
    "# let's create a messy list using ramdom.shuffle\n",
    "import random\n",
    "random.shuffle( NumberList )\n",
    "NumberList  "
   ]
  },
  {
   "cell_type": "code",
   "execution_count": null,
   "metadata": {},
   "outputs": [],
   "source": [
    "# sort the list\n",
    "NumberList.sort()\n",
    "NumberList"
   ]
  },
  {
   "cell_type": "markdown",
   "metadata": {},
   "source": [
    "# the <span style=\"color:red\">**random**</span> module\n",
    "we have just introduced a new library in our previous example,  \n",
    "the <span style=\"color:red\">**random**</span> library contains a lot of useful functions to generate aleatory distributions or to randomly select items from a list.  \n",
    "\n",
    "some of the functions included in random:    \n",
    "- **random.random()**  \n",
    "returns a random float between 0.0 and 1.0  \n",
    "- **random.randint( *a* , *b*)**¶  \n",
    "returns a random int between *a* and *b* \n",
    "- **random.uniform( *a* , *b*)**  \n",
    "returns a random float between *a* and *b*  \n",
    "- **random.triangular( *low* , *high* , *mode* )**   \n",
    "returns a float in the defined triangular distribution  \n",
    "- **random.gauss( *mu* , *sigma* )**  \n",
    "returns a float in the defined gaussian distribution  \n",
    "  \n",
    "- **random.choice( *sequence* )**  \n",
    "returns a random element from the provided sequence  \n",
    "- **random.shuffle( *sequence* )**  \n",
    "shuffle the *sequence* in-place,  \n",
    "*in place* means directly in the variable where is assigned  \n",
    "- **random.sample( *sequence* , *N* )**  \n",
    "returns a list of *N* unique items chosen from the population *sequence*\n",
    "  \n",
    "for further details please read the random reference in python documentation:\n",
    "https://docs.python.org/3/library/random.html"
   ]
  },
  {
   "cell_type": "markdown",
   "metadata": {},
   "source": [
    "## <span style=\"color:green\">**.sort()**</span> method and <span style=\"color:green\">**sorted()**</span> function   \n",
    "do not confuse the method with the function, both do the same job but the the function does not apply the changes *in place* to the list "
   ]
  },
  {
   "cell_type": "code",
   "execution_count": null,
   "metadata": {},
   "outputs": [],
   "source": [
    "# create a random list\n",
    "import random \n",
    "MessyList = [ random.randint(0,9) for i in range(10) ]\n",
    "MessyList"
   ]
  },
  {
   "cell_type": "code",
   "execution_count": null,
   "metadata": {},
   "outputs": [],
   "source": [
    "# sort using the function\n",
    "SortedList = sorted( MessyList )\n",
    "print( 'MessyList' , MessyList )\n",
    "print( 'SortedList' , SortedList )"
   ]
  },
  {
   "cell_type": "markdown",
   "metadata": {},
   "source": [
    "notice that the function <span style=\"color:green\">**sorted()**</span> returned a new <span style=\"color:green\">list</span> and leave the argument list untouched  \n",
    "  \n",
    "on the other hand, <span style=\"color:green\">**.sort()**</span> will update the list *in place*"
   ]
  },
  {
   "cell_type": "code",
   "execution_count": null,
   "metadata": {},
   "outputs": [],
   "source": [
    "print( 'MessyList before' , MessyList )\n",
    "MessyList.sort()\n",
    "print( ' MessyList after' , MessyList )"
   ]
  },
  {
   "cell_type": "markdown",
   "metadata": {},
   "source": [
    "# the <span style=\"color:red\">**in**</span> operator  \n",
    "we can check if and object is an item of a <span style=\"color:green\">list</span>, <span style=\"color:green\">tuple</span>, <span style=\"color:green\">str</span>, <span style=\"color:green\">set</span>, <span style=\"color:green\">dict</span> or any *iterable object* using the operator <span style=\"color:green\">**in**</span>:  \n",
    "- *object* <span style=\"color:green\">**in**</span> *container_object*  \n",
    "\n",
    "<span style=\"color:green\">**in**</span> will return <span style=\"color:green\">True</span> or <span style=\"color:green\">False</span> accordingly"
   ]
  },
  {
   "cell_type": "code",
   "execution_count": null,
   "metadata": {},
   "outputs": [],
   "source": [
    "print( \"'safe'  in MyList\" , 'safe' in MyList )\n",
    "print( \"'safe,' in MyList\" , 'safe,' in MyList )"
   ]
  },
  {
   "cell_type": "markdown",
   "metadata": {},
   "source": [
    "<span style=\"color:green\">**in**</span> is useful to check if an *item* exists inside a *container* before requesting its index or extracting it, in order to avoid the **<span style=\"color:darkred\">ValueError</span>**."
   ]
  },
  {
   "cell_type": "markdown",
   "metadata": {},
   "source": [
    "## <span style=\"color:green\">**.count()**</span> method\n",
    "receives an object as argument and return the number of times  that object appears in the <span style=\"color:green\">**.count()**</span>"
   ]
  },
  {
   "cell_type": "code",
   "execution_count": null,
   "metadata": {},
   "outputs": [],
   "source": [
    "# let's create a list with repetitions\n",
    "Repetitions = list( 'hello world' )\n",
    "Repetitions"
   ]
  },
  {
   "cell_type": "code",
   "execution_count": null,
   "metadata": {},
   "outputs": [],
   "source": [
    "# count the number of 'l' in the list\n",
    "Repetitions.count('l')"
   ]
  },
  {
   "cell_type": "code",
   "execution_count": null,
   "metadata": {},
   "outputs": [],
   "source": [
    "# count the number of 'o' in the list\n",
    "Repetitions.count('o')"
   ]
  },
  {
   "cell_type": "code",
   "execution_count": null,
   "metadata": {},
   "outputs": [],
   "source": [
    "# count the number of 'w' in the list\n",
    "Repetitions.count('w')"
   ]
  },
  {
   "cell_type": "code",
   "execution_count": null,
   "metadata": {},
   "outputs": [],
   "source": [
    "# count the number of 'z' in the list\n",
    "Repetitions.count('z')"
   ]
  },
  {
   "cell_type": "markdown",
   "metadata": {},
   "source": [
    "notice that **.count('z')** returns **0**, because 'z' is **not in** the list"
   ]
  },
  {
   "cell_type": "markdown",
   "metadata": {},
   "source": [
    "# · dictionaries → <span style=\"color:orange\">dict</span>   \n",
    "<span style=\"color:orange\">**dict**</span> is a type of object that can contain other objects inside, similar to the <span style=\"color:orange\">list</span> objects, but with the important difference is that the <span style=\"color:orange\">dict</span> has *labeled* idexes, called **key**, instead of ordered integers (like in the <span style=\"color:orange\">list</span> and <span style=\"color:orange\">tuple</span>  \n",
    "  \n",
    "then, a <span style=\"color:orange\">dict</span> item is a pair of objects, composed by a **key** and a **value** separated by colon **:**  \n",
    "\n",
    "different *items* are separated by comma **,** - like in the list -  \n",
    "  \n",
    "to define a <span style=\"color:orange\">dict</span> we must enclose the items between brakets **{}** - instead of square brakets [] for the list -\n",
    "  \n",
    "<span style=\"color:green\">dict</span> <span style=\"color:red\">=</span> **{** *key* **:** *vaue* **,** *key* **:** *vaue* **,** ... **}**"
   ]
  },
  {
   "cell_type": "code",
   "execution_count": null,
   "metadata": {},
   "outputs": [],
   "source": [
    "# define an empty dictionary\n",
    "MyDictionary = {}\n",
    "print( MyDictionary )"
   ]
  },
  {
   "cell_type": "code",
   "execution_count": null,
   "metadata": {},
   "outputs": [],
   "source": [
    "# define a dictionary with items\n",
    "MyDictionary = { 'MyKey' : 'MyValue' , 1 : 'A' , 'B' : 2 }\n",
    "print( MyDictionary )"
   ]
  },
  {
   "cell_type": "markdown",
   "metadata": {},
   "source": [
    "notice that **key** and **value** can be any type of object, can be:  \n",
    "- <span style=\"color:green\">str</span>  \n",
    "- <span style=\"color:green\">int</span>   \n",
    "- <span style=\"color:green\">float</span>  \n",
    "- <span style=\"color:green\">list</span>  \n",
    "- <span style=\"color:green\">tuple</span>  \n",
    "- other <span style=\"color:green\">dict</span>\n",
    "- really any type of object  \n",
    "  \n",
    "the only requirement is that the **key** must be unique.  \n",
    "  \n",
    "to assign and to extract the **value** asociated to a **key** we have to enclose the **key** between *square brackets* **[]** :\n",
    "- to extract:  \n",
    "<span style=\"color:green\">dict</span>**[** *key* **]**  \n",
    "- to assign:  \n",
    "<span style=\"color:green\">dict</span>**[** *key* **]** <span style=\"color:red\">=</span> *value*  "
   ]
  },
  {
   "cell_type": "code",
   "execution_count": null,
   "metadata": {},
   "outputs": [],
   "source": [
    "# get a value from the dictionary\n",
    "MyDictionary[ 'MyKey' ]"
   ]
  },
  {
   "cell_type": "code",
   "execution_count": null,
   "metadata": {},
   "outputs": [],
   "source": [
    "# set a value from the dictionary\n",
    "MyDictionary[ 'OtherKey' ] = 'OtherValue'"
   ]
  },
  {
   "cell_type": "code",
   "execution_count": null,
   "metadata": {},
   "outputs": [],
   "source": [
    "MyDictionary"
   ]
  },
  {
   "cell_type": "markdown",
   "metadata": {},
   "source": [
    "if we set a value for and existing **key** we overwrite its **value**"
   ]
  },
  {
   "cell_type": "code",
   "execution_count": null,
   "metadata": {},
   "outputs": [],
   "source": [
    "# set a value from the dictionary\n",
    "MyDictionary[ 'OtherKey' ] = None\n",
    "MyDictionary"
   ]
  },
  {
   "cell_type": "markdown",
   "metadata": {},
   "source": [
    "if we request a **key** that is not in the <span style=\"color:green\">dict</span> it raise an <span style=\"color:darkred\">**KeyError**</span>"
   ]
  },
  {
   "cell_type": "code",
   "execution_count": null,
   "metadata": {},
   "outputs": [],
   "source": [
    "MyDictionary[ 'NoExistingKey' ]"
   ]
  },
  {
   "cell_type": "markdown",
   "metadata": {},
   "source": [
    "to avoid raising the error we can check if the **key** exists <span style=\"color:green\">**in**</span> the <span style=\"color:green\">dict</span> before requesting it key"
   ]
  },
  {
   "cell_type": "code",
   "execution_count": null,
   "metadata": {},
   "outputs": [],
   "source": [
    "'NoExistingKey' in MyDictionary"
   ]
  },
  {
   "cell_type": "code",
   "execution_count": null,
   "metadata": {},
   "outputs": [],
   "source": [
    "'MyKey' in MyDictionary"
   ]
  },
  {
   "cell_type": "markdown",
   "metadata": {},
   "source": [
    "we know already that <span style=\"color:green\">**dict**</span> contains *items* and that each **item** of <span style=\"color:green\">dict</span> consists of a **key** paired to a **value** and that the *keays* and the *values* can be any other type of object.  \n",
    "  \n",
    "# working with <span style=\"color:green\">**dict**</span>s  \n",
    "\n",
    "## <span style=\"color:green\">**.keys()**</span> method  \n",
    "the <span style=\"color:green\">**.keys()**</span> method return all the *keys* in a dictionary.  \n",
    "the **key**s are a basic part of the dictionary, is the first thing that most be defined.  \n",
    "by default, when we check membership using the operator <span style=\"color:green\">**in**</span> or when we loop through a <span style=\"color:green\">dict</span> using a <span style=\"color:green\">**for**</span> loop, the <span style=\"color:green\">in</span> it looks into the *keys* of the dictionary.  "
   ]
  },
  {
   "cell_type": "code",
   "execution_count": null,
   "metadata": {},
   "outputs": [],
   "source": [
    "# check if an object is in a dictionary\n",
    "1 in MyDictionary"
   ]
  },
  {
   "cell_type": "code",
   "execution_count": null,
   "metadata": {},
   "outputs": [],
   "source": [
    "# print the keys of a dictionary\n",
    "for k in MyDictionary :\n",
    "    print( k )"
   ]
  },
  {
   "cell_type": "code",
   "execution_count": null,
   "metadata": {},
   "outputs": [],
   "source": [
    "# get the keys of the dictionary using .keys() method\n",
    "MyDictionary.keys()"
   ]
  },
  {
   "cell_type": "markdown",
   "metadata": {},
   "source": [
    "the **dict_keys** object is iterable, so we can use it to iterate over in a <span style=\"color:green\">for</span> loop"
   ]
  },
  {
   "cell_type": "code",
   "execution_count": null,
   "metadata": {},
   "outputs": [],
   "source": [
    "# print the keys of a dictionary\n",
    "for k in MyDictionary.keys() :\n",
    "    print( k )"
   ]
  },
  {
   "cell_type": "markdown",
   "metadata": {},
   "source": [
    "but the **dict_keys** object subscriptable, therefore we can not extract a particular item directly from it.  \n",
    "we have to convert it to list beforex using the <span style=\"color:green\">**list()**</span> function"
   ]
  },
  {
   "cell_type": "code",
   "execution_count": null,
   "metadata": {},
   "outputs": [],
   "source": [
    "# print the keys of the dictionary\n",
    "print( MyDictionary.keys() )\n",
    "# extract the first key only\n",
    "MyDictionary.keys()[0]"
   ]
  },
  {
   "cell_type": "code",
   "execution_count": null,
   "metadata": {},
   "outputs": [],
   "source": [
    "# extract the first key only after converting to list\n",
    "list( MyDictionary.keys() )[0]"
   ]
  },
  {
   "cell_type": "markdown",
   "metadata": {},
   "source": [
    "## <span style=\"color:green\">**.values()**</span> method  \n",
    "the <span style=\"color:green\">**.values()**</span> method return all the *values* in a dictionary.  "
   ]
  },
  {
   "cell_type": "code",
   "execution_count": null,
   "metadata": {},
   "outputs": [],
   "source": [
    "# get the values of the dictionary using .values() method\n",
    "MyDictionary.values()"
   ]
  },
  {
   "cell_type": "markdown",
   "metadata": {},
   "source": [
    "the **dict_values** object is iterable, so we can use it to iterate over in a <span style=\"color:green\">for</span> loop"
   ]
  },
  {
   "cell_type": "code",
   "execution_count": null,
   "metadata": {},
   "outputs": [],
   "source": [
    "for v in MyDictionary.values() :\n",
    "    print( v )"
   ]
  },
  {
   "cell_type": "markdown",
   "metadata": {},
   "source": [
    "however it is not much useful because in this way loose track of the **key**  \n",
    "  \n",
    "it is more convenient to iterate over the *keys* and do the desired procedure according to its value"
   ]
  },
  {
   "cell_type": "code",
   "execution_count": null,
   "metadata": {},
   "outputs": [],
   "source": [
    "for k in MyDictionary.keys() :\n",
    "    if type( MyDictionary[ k ] ) is str :\n",
    "        print( k ,':', 'str ' + MyDictionary[ k ] )\n",
    "    elif type( MyDictionary[ k ] ) is int :\n",
    "        print( k ,':', MyDictionary[ k ]**3 )"
   ]
  },
  {
   "cell_type": "markdown",
   "metadata": {},
   "source": [
    "## <span style=\"color:green\">**.items()**</span> method  \n",
    "the <span style=\"color:green\">**.items()**</span> method return all the pairs of *keys* : *values* in a dictionary. \n",
    "it is usef to itetare over using a <span style=\"color:green\">for</span> and receiving directly both variables at each iteration"
   ]
  },
  {
   "cell_type": "code",
   "execution_count": null,
   "metadata": {},
   "outputs": [],
   "source": [
    "for k , v in MyDictionary.items() :\n",
    "    if type( v ) is str :\n",
    "        print( k ,':', 'str ' + v )\n",
    "    elif type( v ) is int :\n",
    "        print( k ,':', v**3 )"
   ]
  },
  {
   "cell_type": "markdown",
   "metadata": {},
   "source": [
    "## <span style=\"color:green\">**.pop()**</span> method  \n",
    "<span style=\"color:green\">**.pop()**</span> can be used to delete an entry from a dictionary giving the *key* of the *item* as argument.  \n",
    "like .pop() from <span style=\"color:green\">list</span>, it will return the *value* of the removed *key* or raise a <span style=\"color:darkred\">**KeyError**</span> if the *key* is not in the <span style=\"color:green\">dict</span>"
   ]
  },
  {
   "cell_type": "code",
   "execution_count": null,
   "metadata": {},
   "outputs": [],
   "source": [
    "# print the dictionary\n",
    "print( 'before:',MyDictionary )\n",
    "MyDictionary.pop( 'OtherKey' )\n",
    "print( ' after:',MyDictionary )"
   ]
  },
  {
   "cell_type": "markdown",
   "metadata": {},
   "source": [
    "## the <span style=\"color:green\">**dict()**</span> function   \n",
    "the <span style=\"color:green\">**dict()**</span> function will return a new dictionary, depending on the argument:  \n",
    "- an empty <span style=\"color:green\">dict</span> if no argument is received  \n",
    "- if argument is a <span style=\"color:green\">dict</span>, will resturn a copy of the argument <span style=\"color:green\">dict</span>  \n",
    "- argument can be a <span style=\"color:green\">list</span> or <span style=\"color:green\">tuple</span> but its *items* must be other <span style=\"color:green\">list</span>s or <span style=\"color:green\">tuple</span>s with two *items* each one, the first *item* the **key** and the second *item* will be **value**"
   ]
  },
  {
   "cell_type": "code",
   "execution_count": null,
   "metadata": {},
   "outputs": [],
   "source": [
    "# create an empty dictionary\n",
    "EmptyDictionary = dict()\n",
    "EmptyDictionary"
   ]
  },
  {
   "cell_type": "code",
   "execution_count": null,
   "metadata": {},
   "outputs": [],
   "source": [
    "# create a list of pairs\n",
    "ListOfPairs = [ ('a',1) , ('b',2) , ('c',3) , ('d',4) ]\n",
    "print( '   ListOfPairs' , ListOfPairs )\n",
    "\n",
    "# create a dictionary from the list\n",
    "ListDictionary = dict( ListOfPairs )\n",
    "print( 'ListDictionary' , ListDictionary )"
   ]
  },
  {
   "cell_type": "code",
   "execution_count": null,
   "metadata": {},
   "outputs": [],
   "source": [
    "# copy a dictionary \n",
    "NewDictionary = dict( MyDictionary )\n",
    "SameDictionary = MyDictionary\n",
    "print( '  MyDictionary' , id( MyDictionary ) )\n",
    "print( 'SameDictionary' , id( SameDictionary ) )\n",
    "print( ' NewDictionary' , id( NewDictionary ) )"
   ]
  },
  {
   "cell_type": "markdown",
   "metadata": {},
   "source": [
    "just like <span style=\"color:green\">list</span>s, <span style=\"color:green\">dict</span>s are mutable then any modification a dictionary will modify any other variable that refers to the same <span style=\"color:green\">dict</span> object.  \n",
    "because of that, it is usually convenient to make copies of a dictionary instead of just pointing another variable to the same <span style=\"color:green\">dict</span> object.  \n",
    "  \n",
    "## <span style=\"color:green\">**.copy()**</span> method  \n",
    "to copy a <span style=\"color:green\">dict</span>, we can use the function **dict()** as well as the **.copy()** method"
   ]
  },
  {
   "cell_type": "code",
   "execution_count": null,
   "metadata": {},
   "outputs": [],
   "source": [
    "# copy a dictionary \n",
    "CopyDictionary = MyDictionary.copy()\n",
    "print( '  MyDictionary' , id( MyDictionary ) )\n",
    "print( 'SameDictionary' , id( SameDictionary ) )\n",
    "print( ' NewDictionary' , id( NewDictionary ) )\n",
    "print( 'CopyDictionary' , id( CopyDictionary ) )"
   ]
  },
  {
   "cell_type": "markdown",
   "metadata": {},
   "source": [
    "# the <span style=\"color:red\">**zip()**</span> function  \n",
    "<span style=\"color:red\">**zip()**</span> is useful when we want to create a <span style=\"color:green\">dict</span> starting from two <span style=\"color:green\">list</span>s  \n",
    "- both <span style=\"color:green\">list</span>s must have the same lenght and be provided as arguments to the function <span style=\"color:red\">**zip()**</span>\n",
    "- the result of <span style=\"color:red\">zip()</span> can be used to generate a <span style=\"color:green\">dict</span> using the <span style=\"color:red\">dict()</span> function "
   ]
  },
  {
   "cell_type": "code",
   "execution_count": null,
   "metadata": {},
   "outputs": [],
   "source": [
    "# create a pair of lists\n",
    "List1 = list( range(0,10,2) )\n",
    "List2 = list( range(1,10,2) )\n",
    "print( '      List1:' , List1 )\n",
    "print( '      List2:' , List2 )\n",
    "\n",
    "# use zip() to put both lists togheter\n",
    "zipList = zip( List1 , List2 )\n",
    "print( ' zip object:',  zipList )\n",
    "\n",
    "zipList = list( zip( List1 , List2 ) )\n",
    "# zip objects are not intended to stay in memory, they disapear as soon as they are used by list or dict function\n",
    "print( 'zip as list:' , zipList )\n",
    "\n",
    "# create a diction from previous list\n",
    "Dictionary = dict( zip( List1 , List2 ) )\n",
    "print( ' Dictionary:' , Dictionary )"
   ]
  },
  {
   "cell_type": "markdown",
   "metadata": {},
   "source": [
    "# · collections of unique elements → <span style=\"color:orange\">set</span>   \n",
    "<span style=\"color:green\">**set**</span> are a type of object that seems to be a link in the evolutionary chain from <span style=\"color:green\">list</span> to <span style=\"color:green\">dict</span>  \n",
    "- like <span style=\"color:green\">list</span>, the <span style=\"color:green\">set</span> contains simular *items*, not pairs of related items like the <span style=\"color:green\">dict</span>  \n",
    "- these *items* must be unique, like the *keys* of a <span style=\"color:green\">dict</span>  \n",
    "- to define a <span style=\"color:green\">set</span> we have to enclose the items between bracket, like <span style=\"color:green\">dict</span>, **{}** separating the *items* with comma **,**  \n",
    "  \n",
    "<span style=\"color:green\">**set**</span> = **{** *item* **,** *item* **,** ... **}**  \n",
    "  \n",
    "## the <span style=\"color:green\">**set()**</span> function   \n",
    "a <span style=\"color:green\">**set**</span> can also be defined using the function <span style=\"color:green\">**set()**</span> with an iterable as argument"
   ]
  },
  {
   "cell_type": "code",
   "execution_count": null,
   "metadata": {},
   "outputs": [],
   "source": [
    "# set from a dictionary\n",
    "set( MyDictionary )"
   ]
  },
  {
   "cell_type": "markdown",
   "metadata": {},
   "source": [
    "notice that only the *keys* were retained in the <span style=\"color:green\">set</span>  \n",
    "  \n",
    "### <span style=\"color:green\">**set**</span> is userful to remove repetitions from a <span style=\"color:green\">list</span>"
   ]
  },
  {
   "cell_type": "code",
   "execution_count": null,
   "metadata": {},
   "outputs": [],
   "source": [
    "# let's create a list with repetitions\n",
    "Repetitions = list( 'hello world' )\n",
    "Repetitions"
   ]
  },
  {
   "cell_type": "code",
   "execution_count": null,
   "metadata": {},
   "outputs": [],
   "source": [
    "# now remove the duplicated items\n",
    "NoRepetitions = set( Repetitions ) \n",
    "NoRepetitions"
   ]
  },
  {
   "cell_type": "code",
   "execution_count": null,
   "metadata": {},
   "outputs": [],
   "source": [
    "# convert the set into list\n",
    "list( NoRepetitions )"
   ]
  },
  {
   "cell_type": "markdown",
   "metadata": {},
   "source": [
    "notice that the repeteaed characters, like the 'l', are not repeated in the resulting set "
   ]
  }
 ],
 "metadata": {
  "hide_input": false,
  "kernelspec": {
   "display_name": "Python 3 (ipykernel)",
   "language": "python",
   "name": "python3"
  },
  "language_info": {
   "codemirror_mode": {
    "name": "ipython",
    "version": 3
   },
   "file_extension": ".py",
   "mimetype": "text/x-python",
   "name": "python",
   "nbconvert_exporter": "python",
   "pygments_lexer": "ipython3",
   "version": "3.10.8"
  },
  "toc": {
   "base_numbering": 1,
   "nav_menu": {},
   "number_sections": true,
   "sideBar": true,
   "skip_h1_title": false,
   "title_cell": "Table of Contents",
   "title_sidebar": "Contents",
   "toc_cell": false,
   "toc_position": {},
   "toc_section_display": true,
   "toc_window_display": false
  },
  "varInspector": {
   "cols": {
    "lenName": 16,
    "lenType": 16,
    "lenVar": 40
   },
   "kernels_config": {
    "python": {
     "delete_cmd_postfix": "",
     "delete_cmd_prefix": "del ",
     "library": "var_list.py",
     "varRefreshCmd": "print(var_dic_list())"
    },
    "r": {
     "delete_cmd_postfix": ") ",
     "delete_cmd_prefix": "rm(",
     "library": "var_list.r",
     "varRefreshCmd": "cat(var_dic_list()) "
    }
   },
   "types_to_exclude": [
    "module",
    "function",
    "builtin_function_or_method",
    "instance",
    "_Feature"
   ],
   "window_display": false
  }
 },
 "nbformat": 4,
 "nbformat_minor": 4
}
