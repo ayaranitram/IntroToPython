{
 "cells": [
  {
   "cell_type": "markdown",
   "metadata": {},
   "source": [
    "# Introduction To Python, using functions and libraries\n",
    "by Martín Araya  \n",
    "  \n",
    "# functions\n",
    "\n",
    "we can use **our own previously defined functions** as well as **publictly available functions**\n",
    "\n",
    "- read imput data from include files using a function previously defined"
   ]
  },
  {
   "cell_type": "code",
   "execution_count": null,
   "metadata": {},
   "outputs": [],
   "source": [
    "from MyFunctions import readKeyword"
   ]
  },
  {
   "cell_type": "code",
   "execution_count": null,
   "metadata": {},
   "outputs": [],
   "source": [
    "# use the readKeyword function to read the data from the include files\n",
    "IncludesFolder = './sample_data/'\n",
    "rawPermX = readKeyword( IncludesFolder + 'PERMX.GRDECL' )"
   ]
  },
  {
   "cell_type": "code",
   "execution_count": null,
   "metadata": {},
   "outputs": [],
   "source": [
    "# this function returns a dictionary with all the keywords found in the file with a list of the values for that each keyword\n",
    "# check the type of variable returned\n",
    "print( 'type of PermX:' , type(rawPermX) )"
   ]
  },
  {
   "cell_type": "code",
   "execution_count": null,
   "metadata": {},
   "outputs": [],
   "source": [
    "# check for the keys of the dictionary\n",
    "print( 'keys of PermX:' , rawPermX.keys() )"
   ]
  },
  {
   "cell_type": "code",
   "execution_count": null,
   "metadata": {},
   "outputs": [],
   "source": [
    "# check what is inside\n",
    "print( 'type of object inside the dictionary:' , type( rawPermX['PERMX'] ))"
   ]
  },
  {
   "cell_type": "code",
   "execution_count": null,
   "metadata": {},
   "outputs": [],
   "source": [
    "# check the type of elements of the list\n",
    "print( 'type of items inside the list in the dictionary:' , type( rawPermX['PERMX'][0] ))"
   ]
  },
  {
   "cell_type": "code",
   "execution_count": null,
   "metadata": {},
   "outputs": [],
   "source": [
    "print( 'sample of items in the imported lists:')\n",
    "print( rawPermX['PERMX'][:10] )\n",
    "# notice that items in the list are 'string' type\n",
    "# notice also that some items represent repeated values, like '13*0' "
   ]
  },
  {
   "cell_type": "code",
   "execution_count": null,
   "metadata": {},
   "outputs": [],
   "source": [
    "# use the readKeyword function to read the data from the include files\n",
    "rawPermZ = readKeyword( IncludesFolder + 'PERMZ.GRDECL' )\n",
    "rawPoro = readKeyword( IncludesFolder + 'PORO.GRDECL' )\n",
    "rawRockType = readKeyword( IncludesFolder + 'SATNUM.GRDECL' )\n",
    "rawNTG = readKeyword( IncludesFolder + 'NTG.GRDECL' )\n",
    "rawACTNUM = readKeyword( IncludesFolder + 'ACTNUM.GRDECL' )"
   ]
  },
  {
   "cell_type": "code",
   "execution_count": null,
   "metadata": {},
   "outputs": [],
   "source": [
    "### check the what we have imported\n",
    "# check the length of our data \n",
    "print( 'length of the lists:' , len(rawPermX['PERMX']) , len(rawPermZ['PERMZ']) , len(rawPoro['PORO']) , len(rawRockType['SATNUM']) ) \n",
    "# different sizes!!!"
   ]
  },
  {
   "cell_type": "code",
   "execution_count": null,
   "metadata": {},
   "outputs": [],
   "source": [
    "# we can use a function already refined to convert this repeated values to their regular representation:\n",
    "#   ['5*4'] = ['4', '4', '4', '4', '4']\n",
    "from MyFunctions import expandKeyword\n",
    "expandedPermX = expandKeyword( rawPermX['PERMX'] )\n",
    "expandedPermZ = expandKeyword( rawPermZ['PERMZ'] )\n",
    "expandedPoro = expandKeyword( rawPoro['PORO'] )\n",
    "expandedRockType = expandKeyword( rawRockType[ list(rawRockType.keys())[0] ] )\n",
    "expandedNTG = expandKeyword( rawNTG['NTG'] )\n",
    "expandedACTNUM = expandKeyword( rawACTNUM['ACTNUM'] )"
   ]
  },
  {
   "cell_type": "code",
   "execution_count": null,
   "metadata": {},
   "outputs": [],
   "source": [
    "# check the expanded list\n",
    "print( 'sample of items in the imported lists after expansion:')\n",
    "print( expandedPermX[:19] )"
   ]
  },
  {
   "cell_type": "code",
   "execution_count": null,
   "metadata": {},
   "outputs": [],
   "source": [
    "# check the length of our data \n",
    "print( 'length of the lists:' , len(expandedPermX) , len(expandedPermZ) , len(expandedPoro) , len(expandedRockType) ) \n",
    "# same size"
   ]
  },
  {
   "cell_type": "markdown",
   "metadata": {},
   "source": [
    "# working with lists of values (data)\n",
    "## the loop way\n",
    "\n",
    "because our data is composed by string type items, we have to comvert it in order to make calculations and, on top of that, we can't opperate directly with the list."
   ]
  },
  {
   "cell_type": "code",
   "execution_count": null,
   "metadata": {},
   "outputs": [],
   "source": [
    "# will use datetime to measure how long it takes to run\n",
    "import datetime as dt"
   ]
  },
  {
   "cell_type": "markdown",
   "metadata": {},
   "source": [
    "- very slow option, not recommended for big arrays/matrix:"
   ]
  },
  {
   "cell_type": "code",
   "execution_count": null,
   "metadata": {},
   "outputs": [],
   "source": [
    "SlowStart = dt.datetime.now()\n",
    "\n",
    "# create empty lists to load the data to cast loaded PermX values from string to float\n",
    "PermX , PermZ , Poro = [] , [] , []\n",
    "for i in range( len(expandedPermX) ) :\n",
    "    PermX.append( float(expandedPermX[i]) )\n",
    "    PermZ.append( float(expandedPermZ[i]) )\n",
    "    Poro.append( float(expandedPoro[i]) )\n",
    "    \n",
    "SlowEnd = dt.datetime.now()\n",
    "print( 'Slow method elapsed time:' , SlowEnd - SlowStart )"
   ]
  },
  {
   "cell_type": "markdown",
   "metadata": {},
   "source": [
    "we will calculate KvKh using the lists of data readed"
   ]
  },
  {
   "cell_type": "code",
   "execution_count": null,
   "metadata": {},
   "outputs": [],
   "source": [
    "# calculate KvKh in new list\n",
    "KvKh = []\n",
    "for i in range( len(expandedPermX) ) :\n",
    "    KvKh.append( ( float(expandedPermZ[i]) / PermX[i] ) if PermX[i] > 0 else None )"
   ]
  },
  {
   "cell_type": "markdown",
   "metadata": {},
   "source": [
    "- better option to work with lists"
   ]
  },
  {
   "cell_type": "code",
   "execution_count": null,
   "metadata": {},
   "outputs": [],
   "source": [
    "QuickStart = dt.datetime.now()\n",
    "\n",
    "PermX , PermZ , Poro = [None]*len(expandedPermX) , [None]*len(expandedPermX) , [None]*len(expandedPermX)\n",
    "for i in range( len(expandedPermX) ) :\n",
    "    PermX[i] = float(expandedPermX[i])\n",
    "    PermZ[i] = float(expandedPermZ[i])\n",
    "    Poro[i] = float(expandedPoro[i])\n",
    "    \n",
    "QuickEnd = dt.datetime.now()\n",
    "print( 'Quick method elapsed time:' , QuickEnd - QuickStart )\n",
    "print( 'Quick method is' , round( ( ( ( SlowEnd - SlowStart ) - ( QuickEnd - QuickStart ) ) / ( SlowEnd - SlowStart ) )*100 , 0 ) , '% faster than Slow method' )"
   ]
  },
  {
   "cell_type": "markdown",
   "metadata": {},
   "source": [
    "## unsing numpy"
   ]
  },
  {
   "cell_type": "code",
   "execution_count": null,
   "metadata": {},
   "outputs": [],
   "source": [
    "import numpy as np\n",
    "\n",
    "NumpyStart = dt.datetime.now()\n",
    "\n",
    "PermX = np.array( expandedPermX , dtype='float' )\n",
    "PermZ = np.array( expandedPermZ , dtype='float' )\n",
    "Poro = np.array( expandedPoro , dtype='float' )\n",
    "\n",
    "NumpyEnd = dt.datetime.now()\n",
    "print( 'NUmpy method elapsed time:' , NumpyEnd - NumpyStart )\n",
    "print( 'Numpy method is' , round( ( ( ( SlowEnd - SlowStart ) - ( NumpyEnd - NumpyStart ) ) / ( NumpyEnd - NumpyStart ) )*100 , 0 ) , '% faster than Slow method' )"
   ]
  },
  {
   "cell_type": "code",
   "execution_count": null,
   "metadata": {},
   "outputs": [],
   "source": [
    "# using numpy arrays makes this operations easy\n",
    "# now creating Kv/Kh is simply a division, no loops involved\n",
    "KvKh = None\n",
    "KvKh = PermZ / PermX\n",
    "\n",
    "# a warning may be printed in case some division by zero occurs\n",
    "# the division is done for the pair of numbers where PermX is >0\n",
    "KvKh[:30]"
   ]
  },
  {
   "cell_type": "code",
   "execution_count": null,
   "metadata": {},
   "outputs": [],
   "source": [
    "# casting the remaining data\n",
    "RockType = np.array( expandedRockType , dtype='int' )\n",
    "NTG = np.array( expandedNTG , dtype='float' )\n",
    "ACTNUM = np.array( expandedACTNUM , dtype='int')"
   ]
  },
  {
   "cell_type": "markdown",
   "metadata": {},
   "source": [
    "# reviewing the data\n",
    "  \n",
    "After importing your data is good practice to check your data:\n",
    "- check data type is correct\n",
    "- make histograms\n",
    "- check correlations, seaborn.pairplot will be useful\n",
    "- check statistics, pandas.describe becomes useful"
   ]
  },
  {
   "cell_type": "code",
   "execution_count": null,
   "metadata": {},
   "outputs": [],
   "source": [
    "# import matplotlib.pyplot to make some charts\n",
    "import matplotlib.pyplot as plt"
   ]
  },
  {
   "cell_type": "code",
   "execution_count": null,
   "metadata": {},
   "outputs": [],
   "source": [
    "# make histograms using hist function from matplotlib\n",
    "PxHist = plt.figure(figsize=(10,10))\n",
    "plt.hist(PermX,bins=[1,10,100,1000,10000])\n",
    "plt.xscale('log')\n",
    "plt.title('PermX')\n",
    "plt.show()"
   ]
  },
  {
   "cell_type": "code",
   "execution_count": null,
   "metadata": {},
   "outputs": [],
   "source": [
    "# crossplot of vertical and horizontal permeability\n",
    "KZXScat = plt.figure(figsize=(10,10))\n",
    "plt.scatter(y=PermZ,x=PermX)\n",
    "plt.ylabel('PermZ')\n",
    "plt.xlabel('PermX')\n",
    "plt.show()"
   ]
  },
  {
   "cell_type": "code",
   "execution_count": null,
   "metadata": {},
   "outputs": [],
   "source": [
    "# Poro-Perm crossplot\n",
    "PoroPerm = plt.figure(figsize=(10,10))\n",
    "plt.scatter(y=PermX,x=Poro)\n",
    "plt.ylabel('PermX')\n",
    "plt.yscale('log')\n",
    "plt.xlabel('Poro')\n",
    "plt.xlim(0,0.3)\n",
    "plt.ylim(0.1,10000)\n",
    "plt.show()"
   ]
  },
  {
   "cell_type": "markdown",
   "metadata": {},
   "source": [
    "## putting filters to the data and color to the plots"
   ]
  },
  {
   "cell_type": "markdown",
   "metadata": {},
   "source": [
    "it could be convenient to **filter** values of non-significative data, like:  \n",
    "- inactive cells\n",
    "- undefined values\n",
    "- might be outliers\n",
    "- values out of the group or range of interest  \n",
    "  \n",
    "Filters in numpy are boolean arrays (True and False) of the same size and shape of the array to be filtered.\n",
    "  \n",
    "Filters can be generated on the fly using the same or other array tested by a condition operator"
   ]
  },
  {
   "cell_type": "code",
   "execution_count": null,
   "metadata": {},
   "outputs": [],
   "source": [
    "# prepare a filter using ACTNUM, NTG, PORO and PermX all of them > 0\n",
    "ActiveCells = (ACTNUM>0) & (NTG>0) & (Poro>0) & (PermX>0)\n",
    "ActiveCells[:50]"
   ]
  },
  {
   "cell_type": "markdown",
   "metadata": {},
   "source": [
    "matplotlib **colors** can be set using the names of the predefined colors or identifiying the color by its RGB code as a tuple.  \n",
    "  \n",
    "for further details on the predefined colors please read:\n",
    "https://matplotlib.org/3.3.2/gallery/color/named_colors.html"
   ]
  },
  {
   "cell_type": "code",
   "execution_count": null,
   "metadata": {},
   "outputs": [],
   "source": [
    "# we can prepare an array of colors to be applied to the data points, based on the RockTypes\n",
    "print( 'RockType values range:\\n  min:' , min(RockType) , 'max:' , max(RockType) ) # check range of RockType values"
   ]
  },
  {
   "cell_type": "code",
   "execution_count": null,
   "metadata": {},
   "outputs": [],
   "source": [
    "# prepare an empty array of strings\n",
    "Colors = np.array(['']*len(RockType),dtype='<U8')"
   ]
  },
  {
   "cell_type": "code",
   "execution_count": null,
   "metadata": {},
   "outputs": [],
   "source": [
    "# using filters to set the color names according to the RockType values\n",
    "Colors[RockType==1] = 'yellow' \n",
    "Colors[RockType==2] = 'orange'\n",
    "Colors[RockType==3] = 'red'\n",
    "Colors[RockType==4] = 'blue'"
   ]
  },
  {
   "cell_type": "code",
   "execution_count": null,
   "metadata": {},
   "outputs": [],
   "source": [
    "# now keep only the ActiveCels for PermX, Poro and Colors before plotting (handy because will be used several times)\n",
    "filteredColors = Colors[ActiveCells]\n",
    "filteredPermX = PermX[ActiveCells]\n",
    "filteredPoro = Poro[ActiveCells]"
   ]
  },
  {
   "cell_type": "code",
   "execution_count": null,
   "metadata": {},
   "outputs": [],
   "source": [
    "# poro-perm chart colored by facies\n",
    "\n",
    "# using transparency on the points gives the chart a representation of the density of the values\n",
    "# the more solid the color appears the more probable this value is\n",
    "\n",
    "PoroPerm = plt.figure(figsize=(12,12))\n",
    "plt.scatter(y=filteredPermX,x=filteredPoro,color=filteredColors,marker='o',s=1,alpha=0.03)\n",
    "plt.ylabel('PermX')\n",
    "plt.yscale('log')\n",
    "plt.xlabel('Poro')\n",
    "plt.ylim(1,10000)\n",
    "plt.xlim(0.05,0.25)\n",
    "plt.grid(which='major',color='gray',alpha=0.75)\n",
    "plt.grid(which='minor',color='gray',alpha=0.25)\n",
    "plt.show()"
   ]
  },
  {
   "cell_type": "markdown",
   "metadata": {},
   "source": [
    "## using pandas\n",
    "  \n",
    "The good thing of pandas is that it can allocate data of different types and that the columns retain their label.  \n",
    "Also, pandas comes with a lot of handy functions to operate, analyze and plot the data."
   ]
  },
  {
   "cell_type": "code",
   "execution_count": null,
   "metadata": {},
   "outputs": [],
   "source": [
    "# using Pandas could make this task easier\n",
    "import pandas as pd"
   ]
  },
  {
   "cell_type": "code",
   "execution_count": null,
   "metadata": {},
   "outputs": [],
   "source": [
    "# prepare a dictionary with the names of columns the dataframe will have and the type of data of each column to cast into it\n",
    "columnTypes = {'PermX':'float',\n",
    "               'PermZ':'float',\n",
    "               'Poro':'float',\n",
    "               'RockType':'int',\n",
    "               'NTG':'float',\n",
    "               'ACTNUM':'int'}"
   ]
  },
  {
   "cell_type": "code",
   "execution_count": null,
   "metadata": {},
   "outputs": [],
   "source": [
    "# prepare a dictionary with the names of the columns as keys and the list of values for each column\n",
    "data = {'PermX':expandedPermX,\n",
    "        'PermZ':expandedPermZ,\n",
    "        'Poro':expandedPoro,\n",
    "        'RockType':expandedRockType,\n",
    "        'NTG':expandedNTG,\n",
    "        'ACTNUM':expandedACTNUM}"
   ]
  },
  {
   "cell_type": "code",
   "execution_count": null,
   "metadata": {},
   "outputs": [],
   "source": [
    "Props = pd.DataFrame(data).astype(columnTypes)"
   ]
  },
  {
   "cell_type": "code",
   "execution_count": null,
   "metadata": {},
   "outputs": [],
   "source": [
    "# create the calculated variables\n",
    "\n",
    "# mathematical operations\n",
    "Props['KvKh'] = Props['PermZ'] / Props['PermX']\n",
    "Props['RQI'] = 0.0314 * ( Props['PermX'] / Props['Poro'] ) ** 0.5\n",
    "\n",
    "# logical operations\n",
    "Props['ActiveCells'] = (Props['ACTNUM']>0) & (Props['NTG']>0) & (Props['Poro']>0) & (Props['PermX']>0)\n",
    "\n",
    "# using filters and list comprehension\n",
    "Props['Colors'] = [ 'yellow' if RT==1 else 'orange' if RT==2 else 'red' if RT==3 else 'blue' for RT in Props['RockType'] ]"
   ]
  },
  {
   "cell_type": "code",
   "execution_count": null,
   "metadata": {},
   "outputs": [],
   "source": [
    "# take a filtered dataframe, with only data for the ActiveCells\n",
    "filteredProps = Props[Props.ActiveCells==True]"
   ]
  },
  {
   "cell_type": "markdown",
   "metadata": {},
   "source": [
    "### pandas is deeply integrated with matplotlib \n",
    "We can use matplotlib functions directly from the dataframe object\n",
    "Some plots like **boxplot** and **histogram** are directly integrated into pandas.  \n",
    "Other plots can be invoqued using function .plot and then the matplotlib function, like **.plot.scatter**"
   ]
  },
  {
   "cell_type": "code",
   "execution_count": null,
   "metadata": {},
   "outputs": [],
   "source": [
    "# pandas is deeply integrated with matplotlib \n",
    "# we can use matplotlib functions directly from the dataframe object\n",
    "filteredProps[['Poro','RockType']].boxplot(by='RockType' , figsize=(12,7) )"
   ]
  },
  {
   "cell_type": "markdown",
   "metadata": {},
   "source": [
    "**return_type='both'** paramenter is requiered to be able to manipulate the figure using matplotlib after pandas has created it."
   ]
  },
  {
   "cell_type": "code",
   "execution_count": null,
   "metadata": {},
   "outputs": [],
   "source": [
    "# we can decorate the boxplots as much as we want\n",
    "\n",
    "# set colors\n",
    "RTcolors = ['yellow','orange','red','blue']\n",
    "\n",
    "# create the plot and save it in a variable\n",
    "boxplt = filteredProps[['Poro','RockType']].boxplot(by='RockType' , figsize=(12,7) , grid=False , patch_artist = True,\\\n",
    "                                                 return_type='both' ) \n",
    "\n",
    "# manipulate the boxplot using matplotlib\n",
    "for row_key, (ax,row) in boxplt.iteritems():\n",
    "    for i,box in enumerate(row['boxes']):\n",
    "        box.set_facecolor(RTcolors[i])    \n",
    "\n",
    "plt.show()"
   ]
  },
  {
   "cell_type": "code",
   "execution_count": null,
   "metadata": {},
   "outputs": [],
   "source": [
    "filteredProps[['RockType']].hist(figsize=(12,7))"
   ]
  },
  {
   "cell_type": "code",
   "execution_count": null,
   "metadata": {},
   "outputs": [],
   "source": [
    "filteredProps.plot.scatter(x='Poro',y='RQI',figsize=(12,7))"
   ]
  },
  {
   "cell_type": "markdown",
   "metadata": {},
   "source": [
    "### several dimensions can be represented in a 2D plot\n",
    "taking advantange of other attributes, like:\n",
    "- size of the data point\n",
    "- color of the data point\n",
    "- alpha (transparency) of the data point\n",
    "  \n",
    "Also useful to consider that, in a cloud of data, the transparency of the data points helps visualize the density of the data"
   ]
  },
  {
   "cell_type": "code",
   "execution_count": null,
   "metadata": {},
   "outputs": [],
   "source": [
    "# in this Poro-Perm plot, \n",
    "#   the color indicated the RockType\n",
    "#   the size of the point is proportional to the RQI\n",
    "\n",
    "PoroPermRQI = plt.figure(figsize=(12,12))\n",
    "plt.scatter(y=filteredProps.PermX,x=filteredProps.Poro,color=filteredColors,marker='o',s=filteredProps.RQI**5,alpha=0.05)\n",
    "plt.ylabel('PermX')\n",
    "plt.yscale('log')\n",
    "plt.xlabel('Poro')\n",
    "plt.ylim(1,10000)\n",
    "plt.xlim(0.05,0.25)\n",
    "plt.grid(which='major',color='gray',alpha=0.75)\n",
    "plt.grid(which='minor',color='gray',alpha=0.25)\n",
    "plt.show()"
   ]
  },
  {
   "cell_type": "markdown",
   "metadata": {},
   "source": [
    "# using seaborn to quickly discover the data\n",
    "\n",
    "**seaborn** works on top of **matplotlib** and provides a lot of useful functions to easly create diagnostic chats"
   ]
  },
  {
   "cell_type": "code",
   "execution_count": null,
   "metadata": {},
   "outputs": [],
   "source": [
    "# importing seaborn library\n",
    "import seaborn as sns"
   ]
  },
  {
   "cell_type": "markdown",
   "metadata": {},
   "source": [
    "### seaborn.pairplot\n",
    "\n",
    "**pairplot** creates a matrix of charts with cross-plot and distribution plots for every pair of columns in the dataset.  \n",
    "  \n",
    "- It is convenient to define a new figure before calling seaborn plots. Otherwise, the plot will added to the last figure object created.  \n",
    "\n",
    "To create a pairplot:  \n",
    "- simply pass as first argument the dataframe with the columns desired to be in the plot.\n",
    "- if the data has labels (discreate values that identifies each data point), it can be passed using **hue** argument"
   ]
  },
  {
   "cell_type": "code",
   "execution_count": null,
   "metadata": {},
   "outputs": [],
   "source": [
    "# define a new figure before calling seaborn plots\n",
    "plt.figure(figsize=(12,12))\n",
    "\n",
    "# pass the dataframe with the selected columns and the hue argument with the name of the column that has the labels\n",
    "sns.pairplot( filteredProps[['PermX','PermZ','Poro','RockType']] , hue='RockType' )\n",
    "plt.show()"
   ]
  },
  {
   "cell_type": "markdown",
   "metadata": {},
   "source": [
    "### seaborn.regplot\n",
    "\n",
    "**regplot** creates a cross-plot with correlation and uncertainty range on top of the data points.  \n",
    "The arguments **x** and **y** of regplot can be *numpy array* or *pandas series*\n",
    "\n",
    "Taking advantage that the seaborn plots are drawn on the last figure object created, several *points & regressions* can be shown together. \n",
    "- Simply use a loop or several lines of code one after the other to call the regplot function for each set of data-points.  \n",
    "  \n",
    "To change the properties of the points in the chart, use the argument **scatter_kws** to pass a dictionary of the matplotlib parameters you would like to change, i.e.:  \n",
    "- scatter_kws = {'alpha':0.50 , 's':1}\n",
    "- to change color **use *'color'*** keyword because regplot already uses *'color'* and then the keyword *'c'* will have conflicts"
   ]
  },
  {
   "cell_type": "code",
   "execution_count": null,
   "metadata": {},
   "outputs": [],
   "source": [
    "# create a new figure \n",
    "plt.figure(figsize=(12,12))\n",
    "\n",
    "# call regplot for each RockType separately using a loop\n",
    "for i in range( 1 , max(filteredProps.RockType)+1 ) :\n",
    "    sns.regplot( x=filteredProps['Poro'][filteredProps.RockType==i] , \\\n",
    "                 y=np.log(filteredProps['PermX'][filteredProps.RockType==i]) , \\\n",
    "                 scatter_kws={'alpha': 0.05,'s':1} )"
   ]
  },
  {
   "cell_type": "markdown",
   "metadata": {},
   "source": [
    "In this dataset PermZ has been created as a constant fraction of PermX.  \n",
    "  \n",
    "To better illustrate the regplot functionality, we need to have more random relationship between PermZ and PermX.  \n",
    "In order to do that we can create a random multiplier to later apply to PermZ using **numpy.random**  "
   ]
  },
  {
   "cell_type": "code",
   "execution_count": null,
   "metadata": {},
   "outputs": [],
   "source": [
    "# generate an array of random values normaly distributed arround 1 with standard deviation of 0.1 \n",
    "# The length of the array must match the length of the PermZ array\n",
    "noise = abs( np.random.normal(1, 0.75, len(Props.PermZ) ) )\n",
    "\n",
    "# notice that\n",
    "print(\" len(Props.PermZ) :\", len(Props.PermZ) , \\\n",
    "      \"\\n len(filteredProps.PermZ):\", len(filteredProps.PermZ) )"
   ]
  },
  {
   "cell_type": "code",
   "execution_count": null,
   "metadata": {},
   "outputs": [],
   "source": [
    "# review the 'noise' we have created\n",
    "plt.hist( noise )"
   ]
  },
  {
   "cell_type": "markdown",
   "metadata": {},
   "source": [
    "Remmember that we should use the length of the **original dataframe**\n",
    "- *len(Props.PermZ)* 873300   \n",
    "  \n",
    "and not the length of the **filtered dataframe**  \n",
    "- *len(filteredProps.PermZ)* 482912   \n",
    "\n",
    "becasuse the **filtered dataframe is just a *view* of the original dataframe**, not an actual dataframe. We should operate on the original data and then regenerate the view.  \n",
    "\n",
    "It is possible to operate on the view, but a warning will be rised from pandas."
   ]
  },
  {
   "cell_type": "code",
   "execution_count": null,
   "metadata": {},
   "outputs": [],
   "source": [
    "# create a nee column in the dataframe, applying the 'noise' to 'PermZ'\n",
    "Props['noisyPermZ'] = Props['PermZ'] * noise"
   ]
  },
  {
   "cell_type": "code",
   "execution_count": null,
   "metadata": {},
   "outputs": [],
   "source": [
    "# print the columns available in filteredProps\n",
    "filteredProps.columns\n",
    "# regenerate the view of the dataframe\n",
    "filteredProps = Props[Props.ActiveCells==True]\n",
    "# print again the columns available in filteredProps\n",
    "filteredProps.columns"
   ]
  },
  {
   "cell_type": "code",
   "execution_count": null,
   "metadata": {},
   "outputs": [],
   "source": [
    "# or check if the new column is present in the view\n",
    "'noisyPermZ' in filteredProps.columns"
   ]
  },
  {
   "cell_type": "markdown",
   "metadata": {},
   "source": [
    "Now we can do the pairplot again, using _noisyPermZ_ instead of _PermZ_:"
   ]
  },
  {
   "cell_type": "code",
   "execution_count": null,
   "metadata": {},
   "outputs": [],
   "source": [
    "# define a new figure before calling seaborn plots\n",
    "plt.figure(figsize=(12,12))\n",
    "\n",
    "# pass the dataframe with the selected columns and the hue argument with the name of the column that has the labels\n",
    "sns.pairplot( filteredProps[['PermX','noisyPermZ','Poro','RockType']] , hue='RockType' )\n",
    "plt.show()"
   ]
  },
  {
   "cell_type": "markdown",
   "metadata": {},
   "source": [
    "An finally create a regression plot, regplot, to illustrate in a log-log chart the relationship between _PermX_ and _noisyPermZ_.  \n",
    "In the next plot we will see:\n",
    "- the data points colored in red\n",
    "- the linear regression as a black line\n",
    "- the confidence interval as a shadow centered in the regresion line"
   ]
  },
  {
   "cell_type": "code",
   "execution_count": null,
   "metadata": {},
   "outputs": [],
   "source": [
    "# create a new figure\n",
    "plt.figure(figsize=(12,12))\n",
    "\n",
    "# generate x-plot of PermX and noisyPermZ only for RockType 3\n",
    "sns.regplot( x=filteredProps['PermX'][filteredProps['RockType']==3] , \\\n",
    "             y=filteredProps['noisyPermZ'][filteredProps['RockType']==3] , \\\n",
    "             scatter_kws = {'alpha':0.01 , 's':3 , 'color':'red'} , color='black' )\n",
    "\n",
    "# using matplotlib we can change the axis scale\n",
    "plt.yscale('log')\n",
    "plt.xscale('log')\n",
    "plt.xlim((5,5000))\n",
    "plt.ylim((0.5,500))\n",
    "plt.show()"
   ]
  }
 ],
 "metadata": {
  "hide_input": false,
  "kernelspec": {
   "display_name": "Python 3 (ipykernel)",
   "language": "python",
   "name": "python3"
  },
  "language_info": {
   "codemirror_mode": {
    "name": "ipython",
    "version": 3
   },
   "file_extension": ".py",
   "mimetype": "text/x-python",
   "name": "python",
   "nbconvert_exporter": "python",
   "pygments_lexer": "ipython3",
   "version": "3.10.8"
  },
  "toc": {
   "base_numbering": 1,
   "nav_menu": {},
   "number_sections": true,
   "sideBar": true,
   "skip_h1_title": false,
   "title_cell": "Table of Contents",
   "title_sidebar": "Contents",
   "toc_cell": false,
   "toc_position": {},
   "toc_section_display": true,
   "toc_window_display": false
  },
  "varInspector": {
   "cols": {
    "lenName": 16,
    "lenType": 16,
    "lenVar": 40
   },
   "kernels_config": {
    "python": {
     "delete_cmd_postfix": "",
     "delete_cmd_prefix": "del ",
     "library": "var_list.py",
     "varRefreshCmd": "print(var_dic_list())"
    },
    "r": {
     "delete_cmd_postfix": ") ",
     "delete_cmd_prefix": "rm(",
     "library": "var_list.r",
     "varRefreshCmd": "cat(var_dic_list()) "
    }
   },
   "types_to_exclude": [
    "module",
    "function",
    "builtin_function_or_method",
    "instance",
    "_Feature"
   ],
   "window_display": false
  }
 },
 "nbformat": 4,
 "nbformat_minor": 4
}
