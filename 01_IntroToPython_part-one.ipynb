{
 "cells": [
  {
   "cell_type": "markdown",
   "metadata": {},
   "source": [
    "# Introduction To Python, the basics \n",
    "**part one**  \n",
    "  \n",
    "by Martín Araya  "
   ]
  },
  {
   "cell_type": "markdown",
   "metadata": {},
   "source": [
    "# Basic Objects"
   ]
  },
  {
   "cell_type": "markdown",
   "metadata": {},
   "source": [
    "## The basic objects, or types of variables, that we can use in Python are:  \n",
    "### · integer numbers → <span style=\"color:orange\">int</span>\n",
    "    ex: \n",
    "        -3\n",
    "        -2\n",
    "        -1\n",
    "         0\n",
    "         1\n",
    "         2\n",
    "         3 "
   ]
  },
  {
   "cell_type": "code",
   "execution_count": null,
   "metadata": {},
   "outputs": [],
   "source": [
    "5"
   ]
  },
  {
   "cell_type": "markdown",
   "metadata": {},
   "source": [
    "### · decimal numbers → <span style=\"color:orange\">float</span>  \n",
    "    the floats are denoted by the period, or dot **.**  \n",
    "    ex:   \n",
    "        · -3.00000001  \n",
    "        · -1.99999999  \n",
    "        · -1.0  \n",
    "        · 0.0  \n",
    "        · 0,33333333  \n",
    "        · 0.5  \n",
    "        · 1.0  \n",
    "        ·  2.718281828459045  \n",
    "        · 3.28084  "
   ]
  },
  {
   "cell_type": "code",
   "execution_count": null,
   "metadata": {},
   "outputs": [],
   "source": [
    "3.141592653589793"
   ]
  },
  {
   "cell_type": "code",
   "execution_count": null,
   "metadata": {},
   "outputs": [],
   "source": [
    "5."
   ]
  },
  {
   "cell_type": "markdown",
   "metadata": {},
   "source": [
    "### · boolean ( true or false ) → <span style=\"color:orange\">bool</span>  \n",
    "    ex:  \n",
    "        · True  \n",
    "        · False  "
   ]
  },
  {
   "cell_type": "code",
   "execution_count": null,
   "metadata": {},
   "outputs": [],
   "source": [
    "True"
   ]
  },
  {
   "cell_type": "markdown",
   "metadata": {},
   "source": [
    "### · empty or null → <span style=\"color:orange\">NoneType</span>  \n",
    "    ex: None"
   ]
  },
  {
   "cell_type": "code",
   "execution_count": null,
   "metadata": {},
   "outputs": [],
   "source": [
    "None"
   ]
  },
  {
   "cell_type": "markdown",
   "metadata": {},
   "source": [
    "### · strings ( letters, characters, text ) → <span style=\"color:orange\">str</span>   \n",
    "    in Python, a string is any character or series of characters enclosed in ' or \" or \"\"\"  \n",
    "    ex:  \n",
    "        \"a\"  \n",
    "        '123'  \n",
    "        'hello world'  \n",
    "        \"\"\"All limitations are self-imposed. - Oliver Wendell Holmes\"\"\" "
   ]
  },
  {
   "cell_type": "code",
   "execution_count": null,
   "metadata": {},
   "outputs": [],
   "source": [
    "\"hello world\""
   ]
  },
  {
   "cell_type": "code",
   "execution_count": null,
   "metadata": {},
   "outputs": [],
   "source": [
    "'123'"
   ]
  },
  {
   "cell_type": "code",
   "execution_count": null,
   "metadata": {},
   "outputs": [],
   "source": [
    "\"\"\"All limitations are self-imposed. - Oliver Wendell Holmes\"\"\""
   ]
  },
  {
   "cell_type": "markdown",
   "metadata": {},
   "source": [
    "# The function: <span style=\"color:green\">type()</span>"
   ]
  },
  {
   "cell_type": "markdown",
   "metadata": {},
   "source": [
    "shows the type of the object in its argument:"
   ]
  },
  {
   "cell_type": "code",
   "execution_count": null,
   "metadata": {},
   "outputs": [],
   "source": [
    "type(5)"
   ]
  },
  {
   "cell_type": "code",
   "execution_count": null,
   "metadata": {},
   "outputs": [],
   "source": [
    "type(3.141592653589793)"
   ]
  },
  {
   "cell_type": "code",
   "execution_count": null,
   "metadata": {},
   "outputs": [],
   "source": [
    "type(True)"
   ]
  },
  {
   "cell_type": "code",
   "execution_count": null,
   "metadata": {},
   "outputs": [],
   "source": [
    "type(None)"
   ]
  },
  {
   "cell_type": "markdown",
   "metadata": {},
   "source": [
    "## Convert from a type to another"
   ]
  },
  {
   "cell_type": "markdown",
   "metadata": {},
   "source": [
    "calling the function of the type of the desired object, we can convert one type of objects to another:"
   ]
  },
  {
   "cell_type": "markdown",
   "metadata": {},
   "source": [
    "### from integer to decimal:"
   ]
  },
  {
   "cell_type": "code",
   "execution_count": null,
   "metadata": {},
   "outputs": [],
   "source": [
    "float(7)"
   ]
  },
  {
   "cell_type": "markdown",
   "metadata": {},
   "source": [
    "### from decimal to integer:"
   ]
  },
  {
   "cell_type": "code",
   "execution_count": null,
   "metadata": {},
   "outputs": [],
   "source": [
    "int(-999.25)"
   ]
  },
  {
   "cell_type": "markdown",
   "metadata": {},
   "source": [
    "### from integer or decimal to boolean"
   ]
  },
  {
   "cell_type": "code",
   "execution_count": null,
   "metadata": {},
   "outputs": [],
   "source": [
    "bool(1)"
   ]
  },
  {
   "cell_type": "code",
   "execution_count": null,
   "metadata": {},
   "outputs": [],
   "source": [
    "bool(0.0)"
   ]
  },
  {
   "cell_type": "code",
   "execution_count": null,
   "metadata": {},
   "outputs": [],
   "source": [
    "bool(3.25)"
   ]
  },
  {
   "cell_type": "code",
   "execution_count": null,
   "metadata": {},
   "outputs": [],
   "source": [
    "bool(-5)"
   ]
  },
  {
   "cell_type": "markdown",
   "metadata": {},
   "source": [
    "please notice which numbers were converted to True and which returned False"
   ]
  },
  {
   "cell_type": "markdown",
   "metadata": {},
   "source": [
    "### from boolean to decimal or integer"
   ]
  },
  {
   "cell_type": "code",
   "execution_count": null,
   "metadata": {},
   "outputs": [],
   "source": [
    "int(True)"
   ]
  },
  {
   "cell_type": "code",
   "execution_count": null,
   "metadata": {},
   "outputs": [],
   "source": [
    "int(False)"
   ]
  },
  {
   "cell_type": "code",
   "execution_count": null,
   "metadata": {},
   "outputs": [],
   "source": [
    "float(True)"
   ]
  },
  {
   "cell_type": "code",
   "execution_count": null,
   "metadata": {},
   "outputs": [],
   "source": [
    "float(False)"
   ]
  },
  {
   "cell_type": "markdown",
   "metadata": {},
   "source": [
    "### from any other type to string"
   ]
  },
  {
   "cell_type": "code",
   "execution_count": null,
   "metadata": {},
   "outputs": [],
   "source": [
    "str(2020)"
   ]
  },
  {
   "cell_type": "code",
   "execution_count": null,
   "metadata": {},
   "outputs": [],
   "source": [
    "str(2.0)"
   ]
  },
  {
   "cell_type": "code",
   "execution_count": null,
   "metadata": {},
   "outputs": [],
   "source": [
    "str(True)"
   ]
  },
  {
   "cell_type": "code",
   "execution_count": null,
   "metadata": {},
   "outputs": [],
   "source": [
    "str(None)"
   ]
  },
  {
   "cell_type": "code",
   "execution_count": null,
   "metadata": {},
   "outputs": [],
   "source": [
    "str('hello world')"
   ]
  },
  {
   "cell_type": "markdown",
   "metadata": {},
   "source": [
    "### from string to boolean"
   ]
  },
  {
   "cell_type": "code",
   "execution_count": null,
   "metadata": {},
   "outputs": [],
   "source": [
    "bool(\"hello world\")"
   ]
  },
  {
   "cell_type": "code",
   "execution_count": null,
   "metadata": {},
   "outputs": [],
   "source": [
    "bool('A')"
   ]
  },
  {
   "cell_type": "code",
   "execution_count": null,
   "metadata": {},
   "outputs": [],
   "source": [
    "bool('')"
   ]
  },
  {
   "cell_type": "markdown",
   "metadata": {},
   "source": [
    "please notice which strings were converted to True and which returned False"
   ]
  },
  {
   "cell_type": "markdown",
   "metadata": {},
   "source": [
    "### from string to number"
   ]
  },
  {
   "cell_type": "code",
   "execution_count": null,
   "metadata": {},
   "outputs": [],
   "source": [
    "int('30')"
   ]
  },
  {
   "cell_type": "code",
   "execution_count": null,
   "metadata": {},
   "outputs": [],
   "source": [
    "int('-5')"
   ]
  },
  {
   "cell_type": "code",
   "execution_count": null,
   "metadata": {},
   "outputs": [],
   "source": [
    "int('one')"
   ]
  },
  {
   "cell_type": "code",
   "execution_count": null,
   "metadata": {},
   "outputs": [],
   "source": [
    "int('1.0')"
   ]
  },
  {
   "cell_type": "code",
   "execution_count": null,
   "metadata": {},
   "outputs": [],
   "source": [
    "int('1')"
   ]
  },
  {
   "cell_type": "code",
   "execution_count": null,
   "metadata": {},
   "outputs": [],
   "source": [
    "int('1.2')"
   ]
  },
  {
   "cell_type": "code",
   "execution_count": null,
   "metadata": {},
   "outputs": [],
   "source": [
    "float('1.2')"
   ]
  },
  {
   "cell_type": "code",
   "execution_count": null,
   "metadata": {},
   "outputs": [],
   "source": [
    "float('-999.25')"
   ]
  },
  {
   "cell_type": "code",
   "execution_count": null,
   "metadata": {},
   "outputs": [],
   "source": [
    "float('False')"
   ]
  },
  {
   "cell_type": "code",
   "execution_count": null,
   "metadata": {},
   "outputs": [],
   "source": [
    "float('5.')"
   ]
  },
  {
   "cell_type": "markdown",
   "metadata": {},
   "source": [
    "please notice which strings were properly converted to number"
   ]
  },
  {
   "cell_type": "markdown",
   "metadata": {},
   "source": [
    "# The function: <span style=\"color:green\">print()</span>"
   ]
  },
  {
   "cell_type": "markdown",
   "metadata": {},
   "source": [
    "The operations performed in Python are exceuted in memory and the last excecution is shown in the output Out[ ]:  \n",
    "but notice that only the last operation is available in Out[ ]:"
   ]
  },
  {
   "cell_type": "code",
   "execution_count": null,
   "metadata": {},
   "outputs": [],
   "source": [
    "1\n",
    "'string'"
   ]
  },
  {
   "cell_type": "markdown",
   "metadata": {},
   "source": [
    "when the code is excecuted inside a program (.py file), there will no Out[ ]: or message printed unless explicitly requested inside the program.  \n",
    "This is why the print() function becomes important, it allows to show messages in to the user in the command line."
   ]
  },
  {
   "cell_type": "code",
   "execution_count": null,
   "metadata": {},
   "outputs": [],
   "source": [
    "print(1)\n",
    "1\n",
    "print('string')\n",
    "'string'"
   ]
  },
  {
   "cell_type": "markdown",
   "metadata": {},
   "source": [
    "Please notice the difference between the message printed by print() and the response in the output"
   ]
  },
  {
   "cell_type": "markdown",
   "metadata": {},
   "source": [
    "### <span style=\"color:green\">**print**</span>  ( arguments )  \n",
    "    · accepts any kind or arguments  \n",
    "    · accepts any number of arguments, separated by comma  \n",
    "    · only requirement is that each argument is composed of only one type of object  \n",
    "    · the printout will be a string with a blank space separating each argument"
   ]
  },
  {
   "cell_type": "code",
   "execution_count": null,
   "metadata": {},
   "outputs": [],
   "source": [
    "print(None)"
   ]
  },
  {
   "cell_type": "code",
   "execution_count": null,
   "metadata": {},
   "outputs": [],
   "source": [
    "print(True)"
   ]
  },
  {
   "cell_type": "code",
   "execution_count": null,
   "metadata": {},
   "outputs": [],
   "source": [
    "print('hello','world')"
   ]
  },
  {
   "cell_type": "code",
   "execution_count": null,
   "metadata": {},
   "outputs": [],
   "source": [
    "print('Hello','all.','It is',True,'that',None,'of you','will be leaved behind.','Not even',1)"
   ]
  },
  {
   "cell_type": "markdown",
   "metadata": {},
   "source": [
    "# Calculation Operators"
   ]
  },
  {
   "cell_type": "markdown",
   "metadata": {},
   "source": [
    "Python follows the same order of traditional algebra:  \n",
    "    · **power** comes first  \n",
    "    · then **product**  \n",
    "    · then **division**  \n",
    "    · then **addition** or **substraction** *from left to right*"
   ]
  },
  {
   "cell_type": "markdown",
   "metadata": {},
   "source": [
    "## available operators:\n",
    "### · addition → <span style=\"color:red\">**+**</span>  \n",
    "### · difference → <span style=\"color:red\">**-**</span>  \n",
    "interger addition (or difference) results in integer  \n",
    "→ int + int = int"
   ]
  },
  {
   "cell_type": "code",
   "execution_count": null,
   "metadata": {},
   "outputs": [],
   "source": [
    "print('1 + 1','=',1 + 1)\n",
    "print('1 + -1','=',1 + -1)\n",
    "print('-1 - -1','=',1 + -1)"
   ]
  },
  {
   "cell_type": "markdown",
   "metadata": {},
   "source": [
    "but when a float is in the game, the addition results in float  \n",
    "→ int + float = float  \n",
    "→ float + float = float  "
   ]
  },
  {
   "cell_type": "code",
   "execution_count": null,
   "metadata": {},
   "outputs": [],
   "source": [
    "print('1 + 1.0','=',1+1.)\n",
    "print('1.0 + 1.0','=',1.0 + 1.0)\n",
    "print('1 - 1.0','=',1 - 1.)\n",
    "print('1.0 - 1.0','=',1.0 - 1.0)"
   ]
  },
  {
   "cell_type": "markdown",
   "metadata": {},
   "source": [
    "### · product → <span style=\"color:red\">*****</span>  \n",
    "like addition, the product of integers results in integer but the it will return a float if the multiplicand or multiplier are floats.  \n",
    "→ int * int = int\n",
    "→ inf float = float * int = float"
   ]
  },
  {
   "cell_type": "code",
   "execution_count": null,
   "metadata": {},
   "outputs": [],
   "source": [
    "print('2 * 2','=',2 * 2)\n",
    "print('2. * 2','=',2. * 2)\n",
    "print('2.0 * 2.0','=',2.0 * 2.0)\n",
    "print('-2 * -2','=',-2 * -2)\n",
    "print('-2.0 * 2.0','=',-2.0 * 2.0)"
   ]
  },
  {
   "cell_type": "markdown",
   "metadata": {},
   "source": [
    "### · division → <span style=\"color:red\">**/**</span>  \n",
    "always results in float  \n",
    "→ int / int = float  \n",
    "→ int / float = float  \n",
    "→ float / float = float"
   ]
  },
  {
   "cell_type": "code",
   "execution_count": null,
   "metadata": {},
   "outputs": [],
   "source": [
    "print('2.0 / 2','=',2.0 / 2)\n",
    "print('2 / 2','=',2 / 2)\n",
    "print('2.0 / 3.0','=',2.0 / 3.0)\n",
    "print('-2.0 / 3.0','=',-2.0 / 3.0)"
   ]
  },
  {
   "cell_type": "markdown",
   "metadata": {},
   "source": [
    "### · integer division → <span style=\"color:red\">**//**</span>  \n",
    "results in int only if both parts (dividend and divisor) are int\n",
    "→ int // int = int\n",
    "  \n",
    "but if dividend or divisor are float, it will return the integer part of the result of the division but as float type of object  \n",
    "→ int // float = float \n",
    "→ float // float = float\n",
    "  \n",
    "this integer division is like calculating the regular division and then cast the result to int   \n",
    "→ int // int = int( int / int ) "
   ]
  },
  {
   "cell_type": "code",
   "execution_count": null,
   "metadata": {},
   "outputs": [],
   "source": [
    "print('2 // 2','=',2 // 2)\n",
    "print('3 // 2','=',3 // 2)\n",
    "print('3.0 // 2.0','=',3.0//2.0)\n",
    "print('float( int( 3.0 / 2.0 ) )','=',float( int( 3.0 / 2.0 ) ) )\n",
    "print('-3.0 // 2.0','=',-3.0 // 2.0)\n",
    "print('float( int( -3.0 / 2.0 ) )','=',float( int( -3.0 / 2.0 ) ) )"
   ]
  },
  {
   "cell_type": "markdown",
   "metadata": {},
   "source": [
    "results in int only if both parts (dividend and divisor) are int\n",
    "→ int % int = int\n",
    "  \n",
    "but if dividend or divisor are float, it will return a float type of object  \n",
    "→ int % float = float   \n",
    "→ float % float = float\n",
    "\n",
    "this is useful to know if any number if divisible by other number, becasuse the remainder will be zero"
   ]
  },
  {
   "cell_type": "code",
   "execution_count": null,
   "metadata": {},
   "outputs": [],
   "source": [
    "print('2 % 2','=',2 % 2)\n",
    "print('3 % 2','=',3 % 2)\n",
    "print('3.0 % 2.0','=',3.0 % 2.0)"
   ]
  },
  {
   "cell_type": "markdown",
   "metadata": {},
   "source": [
    "### · power → <span style=\"color:red\">******</span>  \n",
    "results in int only if both parts are int\n",
    "→ int ** int = int\n",
    "  \n",
    "but if any of them are float, it will return a float type of object  \n",
    "→ int ** float = float   \n",
    "→ float ** float = float"
   ]
  },
  {
   "cell_type": "code",
   "execution_count": null,
   "metadata": {},
   "outputs": [],
   "source": [
    "print('2 ** 3','=',2 ** 3)\n",
    "print('2 ** 3.','=',2 ** 3.)\n",
    "print('3.0 ** 2.0','=',3.0 ** 2.0)"
   ]
  },
  {
   "cell_type": "markdown",
   "metadata": {},
   "source": [
    "# Assigns Values to a Variable with <span style=\"color:red\">**=**</span>  \n",
    "our previous calculations has been exceuted and printed or returned *the Out[ ]:* but never saved.  \n",
    "to save, or set, the results of our calculations into a variable we must assign the return of our calculations using <span style=\"color:red\">**=**</span>  \n",
    "a variable can be any character or series of characters, but punctations, starting with a letter.  \n",
    "→ x <span style=\"color:red\">**=**</span> 3 + 5"
   ]
  },
  {
   "cell_type": "code",
   "execution_count": null,
   "metadata": {},
   "outputs": [],
   "source": [
    "x = 3 + 5\n",
    "pi = 3.141592653589793\n",
    "color = 'yellow'"
   ]
  },
  {
   "cell_type": "markdown",
   "metadata": {},
   "source": [
    "later we can recall the variable, using its name"
   ]
  },
  {
   "cell_type": "code",
   "execution_count": null,
   "metadata": {},
   "outputs": [],
   "source": [
    "y = x*2\n",
    "print( 'the variable x has assigned the value' , x , \\\n",
    "      '\\nand if we multiply it by two it will be', y, \\\n",
    "      '\\nbut if we divide by two it will be',x/2)\n",
    "x\n",
    "pi"
   ]
  },
  {
   "cell_type": "markdown",
   "metadata": {},
   "source": [
    "Please notice that the variable has been used to calculate a new variable, then both variables and another calculation where printed and at the end the only the value of **pi** (the last one mentioned in the code) was returned in the *Out[ ]:*"
   ]
  },
  {
   "cell_type": "markdown",
   "metadata": {},
   "source": [
    "Notice also that **\\** (outside of a string quotation) can be used to split a line of code"
   ]
  },
  {
   "cell_type": "markdown",
   "metadata": {},
   "source": [
    "it is important to mention that <span style=\"color:red\">**+**</span> and <span style=\"color:red\">*****</span> can be applied to strings also.  \n",
    "ex:  \n",
    "→ A <span style=\"color:red\">**+**</span> B where A and B must be strings, concatenates two strings,   \n",
    "→ A <span style=\"color:red\">*****</span> B where A or B must be an integer, repeats the string the number of times the integer indicates"
   ]
  },
  {
   "cell_type": "code",
   "execution_count": null,
   "metadata": {},
   "outputs": [],
   "source": [
    "print('my favorite color is ' + color) \n",
    "print('let me repeat it x times', color * x)"
   ]
  },
  {
   "cell_type": "markdown",
   "metadata": {},
   "source": [
    "# Comparison Operators"
   ]
  },
  {
   "cell_type": "markdown",
   "metadata": {},
   "source": [
    "## available operators:\n",
    "### · greater than <span style=\"color:red\">></span>  \n",
    "    is able to compare:  \n",
    "        → int to int   \n",
    "        → int to float   \n",
    "        → float to int  \n",
    "        → string to string  "
   ]
  },
  {
   "cell_type": "code",
   "execution_count": null,
   "metadata": {},
   "outputs": [],
   "source": [
    "print( '2 > 1 =' , 2 > 1 )\n",
    "print( '1 > 2 =' , 1 > 2 )\n",
    "print( '2.0 > 2 =' , 2.0 > 2 )\n",
    "print( '2 > 2.0 =' , 2 > 2.0 )\n",
    "print( '2.0 > 1.5 =' , 2.0 > 1.5 )\n",
    "print() # it will print an empty line\n",
    "print( \"'A' > 'B' =\" , 'A' > 'B' )\n",
    "print( \"'B' > 'A' =\" , 'B' > 'A' )\n",
    "print( \"'A' > 'a' =\" , 'A' > 'a' )\n",
    "print( \"'a' > 'A' =\" , 'a' > 'A' )\n",
    "print( \"'A' > '1' =\" , 'A' > '1' )\n",
    "print( \"'1' > 'A' =\" , '1' > 'A' )"
   ]
  },
  {
   "cell_type": "markdown",
   "metadata": {},
   "source": [
    "notice that we were able to compare the string **'1'** with the string **'A'**  \n",
    "but if we compare the integer **1** with the string **'A'** it will not work"
   ]
  },
  {
   "cell_type": "code",
   "execution_count": null,
   "metadata": {},
   "outputs": [],
   "source": [
    "print( \"1 > 'A' =\" , 1 > 'A' )"
   ]
  },
  {
   "cell_type": "markdown",
   "metadata": {},
   "source": [
    "### · less than <span style=\"color:red\"><</span>  \n",
    "    is able to compare:  \n",
    "        → int to int   \n",
    "        → int to float   \n",
    "        → float to int  \n",
    "        → string to string  "
   ]
  },
  {
   "cell_type": "code",
   "execution_count": null,
   "metadata": {},
   "outputs": [],
   "source": [
    "print( '2 < 1 =' , 2 < 1 )\n",
    "print( '1 < 2 =' , 1 < 2 )\n",
    "print( '2.0 < 2 =' , 2.0 < 2 )\n",
    "print( '2 < 2.0 =' , 2 < 2.0 )\n",
    "print( '2.0 < 1.5 =' , 2.0 < 1.5 )\n",
    "print() # it will print an empty line\n",
    "print( \"'A' < 'B' =\" , 'A' < 'B' )\n",
    "print( \"'B' < 'A' =\" , 'B' < 'A' )\n",
    "print( \"'A' < 'a' =\" , 'A' < 'a' )\n",
    "print( \"'a' < 'A' =\" , 'a' < 'A' )\n",
    "print( \"'A' < '1' =\" , 'A' < '1' )\n",
    "print( \"'1' < 'A' =\" , '1' < 'A' )"
   ]
  },
  {
   "cell_type": "markdown",
   "metadata": {},
   "source": [
    "### · greater than or equal to <span style=\"color:red\">>=</span>\n",
    "    is able to compare:  \n",
    "        → int to int   \n",
    "        → int to float   \n",
    "        → float to int  \n",
    "        → string to string  "
   ]
  },
  {
   "cell_type": "code",
   "execution_count": null,
   "metadata": {},
   "outputs": [],
   "source": [
    "print( '2 >= 1 =' , 2 >= 1 )\n",
    "print( '1 >= 2 =' , 1 >= 2 )\n",
    "print( '2.0 >=2 =' , 2.0 >= 2 )\n",
    "print( '2 >= 2.0 =' , 2 >= 2.0 )\n",
    "print( '2.0 >= 1.5 =' , 2.0 >= 1.5 )\n",
    "print() # it will print an empty line\n",
    "print( \"'A' >= 'B' =\" , 'A' >= 'B' )\n",
    "print( \"'B' >= 'A' =\" , 'B' >= 'A' )\n",
    "print( \"'A' >= 'a' =\" , 'A' >= 'a' )\n",
    "print( \"'a' >= 'A' =\" , 'a' >= 'A' )\n",
    "print( \"'A' >= '1' =\" , 'A' >= '1' )\n",
    "print( \"'1' >= 'A' =\" , '1' >= 'A' )"
   ]
  },
  {
   "cell_type": "markdown",
   "metadata": {},
   "source": [
    "### · less than or equal to <span style=\"color:red\"><=</span>  \n",
    "    is able to compare:  \n",
    "        → int to int   \n",
    "        → int to float   \n",
    "        → float to int  \n",
    "        → string to string  "
   ]
  },
  {
   "cell_type": "code",
   "execution_count": null,
   "metadata": {},
   "outputs": [],
   "source": [
    "print( '2 <= 1 =' , 2 <= 1 )\n",
    "print( '1 <= 2 =' , 1 <= 2 )\n",
    "print( '2.0 <= 2 =' , 2.0 <= 2 )\n",
    "print( '2 <= 2.0 =' , 2 <= 2.0 )\n",
    "print( '2.0 <= 1.5 =' , 2.0 <= 1.5 )\n",
    "print() # it will print an empty line\n",
    "print( \"'A' <= 'B' =\" , 'A' <= 'B' )\n",
    "print( \"'B' <= 'A' =\" , 'B' <= 'A' )\n",
    "print( \"'A' <= 'a' =\" , 'A' <= 'a' )\n",
    "print( \"'a' <= 'A' =\" , 'a' <= 'A' )\n",
    "print( \"'A' <= '1' =\" , 'A' <= '1' )\n",
    "print( \"'1' <= 'A' =\" , '1' <= 'A' )"
   ]
  },
  {
   "cell_type": "markdown",
   "metadata": {},
   "source": [
    "### · equals to <span style=\"color:red\">==</span>  \n",
    "    is able to compare:  \n",
    "        → int to int   \n",
    "        → int to float   \n",
    "        → float to int  \n",
    "        → string to string  "
   ]
  },
  {
   "cell_type": "code",
   "execution_count": null,
   "metadata": {},
   "outputs": [],
   "source": [
    "print( '2 == 1 =' , 2 == 1 )\n",
    "print( '1 == 2 =' , 1 == 2 )\n",
    "print( '2.0 == 2 =' , 2.0 == 2 )\n",
    "print( '2 == 2.0 =' , 2 == 2.0 )\n",
    "print( '2.0 == 1.5 =' , 2.0 == 1.5 )\n",
    "print() # it will print an empty line\n",
    "print( \"'A' == 'B' =\" , 'A' == 'B' )\n",
    "print( \"'A' == 'A' =\" , 'A' == 'A' )\n",
    "print( \"'A' == 'a' =\" , 'A' == 'a' )\n",
    "print( \"'a' == 'A' =\" , 'a' == 'A' )\n",
    "print( \"'A' == '1' =\" , 'A' == '1' )\n",
    "print( \"'1' == 1 =\" , '1' == 1 )\n",
    "print( \"'A' == 1 =\" , 'A' == 1 )"
   ]
  },
  {
   "cell_type": "markdown",
   "metadata": {},
   "source": [
    "### · not equals to <span style=\"color:red\">!=</span>  \n",
    "    is able to compare:  \n",
    "        → int to int   \n",
    "        → int to float   \n",
    "        → float to int  \n",
    "        → string to string  "
   ]
  },
  {
   "cell_type": "markdown",
   "metadata": {},
   "source": [
    "*have you notice that with* **==** *and* **!=** *we were able to compare the string* **'1'** *with the integer* **1** *?*  \n",
    "  \n",
    "*notice that* **'1' == 1** returns **False**, because the first object is a <span style=\"color:blue\">**str**</span> and the second one is an <span style=\"color:blue\">**int**</span>.   \n",
    "keep in mint that even if they look simular to our eye, they are not even the same <span style=\"color:green\">**type**</span> of thing.   \n",
    "  \n",
    "  \n",
    "### how does comparison operators works?  \n",
    "the operators <span style=\"color:red\">**>**</span>, <span style=\"color:red\">**<**</span>, <span style=\"color:red\">**>=**</span>, <span style=\"color:red\">**<=**</span>, <span style=\"color:red\">**==**</span>, and <span style=\"color:red\">**!=**</span> contrast the values of the objects at its right and left sides.  \n",
    "the objects doen't need to be both of the same type, when possible, they will be converted to a common type before comparing.  \n",
    "in the case of **equality** and **inequality**, if the objects are not of the same type the operation will always return that they are different.  \n",
    "  \n",
    "    ex:"
   ]
  },
  {
   "cell_type": "code",
   "execution_count": null,
   "metadata": {},
   "outputs": [],
   "source": [
    "'1' != 1"
   ]
  },
  {
   "cell_type": "code",
   "execution_count": null,
   "metadata": {},
   "outputs": [],
   "source": [
    "'0' == 0"
   ]
  },
  {
   "cell_type": "code",
   "execution_count": null,
   "metadata": {},
   "outputs": [],
   "source": [
    "'' == None"
   ]
  },
  {
   "cell_type": "code",
   "execution_count": null,
   "metadata": {},
   "outputs": [],
   "source": [
    "0 == False"
   ]
  },
  {
   "cell_type": "code",
   "execution_count": null,
   "metadata": {},
   "outputs": [],
   "source": [
    "1 == True"
   ]
  },
  {
   "cell_type": "markdown",
   "metadata": {},
   "source": [
    "*notice that* ***1*** *compares* ***equals to True*** *and* ***0*** *compares* ***equals to False***  \n",
    "  \n",
    "only **1** is equals to <span style=\"color:green\">**True**</span> and **0** is equals to <span style=\"color:green\">**False**</span>.  \n",
    "that is because <span style=\"color:green\">**True**</span> and <span style=\"color:green\">**False**</span> are converted to <span style=\"color:orange\">**int**</span> or <span style=\"color:orange\">**float**</span>, according to the other object, before compare. Thus, anyother number will be greater or less than <span style=\"color:green\">**True**</span> and <span style=\"color:green\">**False**</span>."
   ]
  },
  {
   "cell_type": "code",
   "execution_count": null,
   "metadata": {},
   "outputs": [],
   "source": [
    "2 == False"
   ]
  },
  {
   "cell_type": "code",
   "execution_count": null,
   "metadata": {},
   "outputs": [],
   "source": [
    "2 > True"
   ]
  },
  {
   "cell_type": "code",
   "execution_count": null,
   "metadata": {},
   "outputs": [],
   "source": [
    "False < 0.5 < True"
   ]
  },
  {
   "cell_type": "markdown",
   "metadata": {},
   "source": [
    "In order to check if some variable contais a False or True boolean value, it is a better approach to use <span style=\"color:red\">**is**</span> instead of <span style=\"color:red\">**==**</span>"
   ]
  },
  {
   "cell_type": "code",
   "execution_count": null,
   "metadata": {},
   "outputs": [],
   "source": [
    "1 is True"
   ]
  },
  {
   "cell_type": "code",
   "execution_count": null,
   "metadata": {},
   "outputs": [],
   "source": [
    "0 is False"
   ]
  },
  {
   "cell_type": "markdown",
   "metadata": {},
   "source": [
    "# Logic Operators  \n",
    "## <span style=\"color:green\">**not**</span>  \n",
    "change a boolean object to its oposite:  \n",
    "<span style=\"color:green\">**not**</span> <span style=\"color:green\">True</span> becomes <span style=\"color:green\">False</span>  \n",
    "<span style=\"color:green\">**not**</span> <span style=\"color:green\">False</span> becomes <span style=\"color:green\">True</span> \n",
    "  \n",
    "## <span style=\"color:green\">**and**</span>  \n",
    "returns <span style=\"color:green\">True</span> if *left* **and** *right* sides of the <span style=\"color:green\">**and**</span> operator are <span style=\"color:green\">True</span>\n",
    "## <span style=\"color:green\">**or**</span>\n",
    "returns <span style=\"color:green\">True</span> if any or both, *left* **or** *right* sides of the <span style=\"color:green\">**or**</span> operator are <span style=\"color:green\">True</span>"
   ]
  },
  {
   "cell_type": "code",
   "execution_count": null,
   "metadata": {},
   "outputs": [],
   "source": [
    "True and True"
   ]
  },
  {
   "cell_type": "code",
   "execution_count": null,
   "metadata": {},
   "outputs": [],
   "source": [
    "True and False"
   ]
  },
  {
   "cell_type": "code",
   "execution_count": null,
   "metadata": {},
   "outputs": [],
   "source": [
    "False and False"
   ]
  },
  {
   "cell_type": "code",
   "execution_count": null,
   "metadata": {},
   "outputs": [],
   "source": [
    "True or False"
   ]
  },
  {
   "cell_type": "code",
   "execution_count": null,
   "metadata": {},
   "outputs": [],
   "source": [
    "False or False"
   ]
  },
  {
   "cell_type": "code",
   "execution_count": null,
   "metadata": {},
   "outputs": [],
   "source": [
    "1 > 0 and 2 > 1"
   ]
  },
  {
   "cell_type": "code",
   "execution_count": null,
   "metadata": {},
   "outputs": [],
   "source": [
    "# lets define some imaginary variables:\n",
    "poro = 0.35\n",
    "rho = 2.03 \n",
    "perm = 157\n",
    "\n",
    "# and some cut-off\n",
    "poro_cut = 0.10\n",
    "rho_cut = 2.4\n",
    "perm_cut = 10"
   ]
  },
  {
   "cell_type": "code",
   "execution_count": null,
   "metadata": {},
   "outputs": [],
   "source": [
    "# now we can check if our variables are above their cut-off\n",
    "poro > poro_cut and perm > perm_cut or rho < rho_cut"
   ]
  },
  {
   "cell_type": "markdown",
   "metadata": {},
   "source": [
    "# Making Decisions, or Branching Programs  \n",
    "## <span style=\"color:blue\">**if**</span> and <span style=\"color:blue\">**else**</span> branching  \n",
    "<span style=\"color:blue\">**if**</span> evaluates the expression to its right   \n",
    "→ if it is <span style=\"color:green\">**True**</span> executes the code indented below the <span style=\"color:blue\">**if**</span> line  \n",
    "→ otherwise, it executes the code indented below the <span style=\"color:blue\">**else**</span> and the same indentation level of the <span style=\"color:blue\">**if**</span>"
   ]
  },
  {
   "cell_type": "code",
   "execution_count": null,
   "metadata": {},
   "outputs": [],
   "source": [
    "# set a dummy variable\n",
    "dummy = True\n",
    "\n",
    "# evaluate the condition and execute\n",
    "if dummy is True :\n",
    "    print('truly dummy')\n",
    "else :\n",
    "    print('probably it is not dummy')"
   ]
  },
  {
   "cell_type": "markdown",
   "metadata": {},
   "source": [
    "change dummy to False and run the previous cell again"
   ]
  },
  {
   "cell_type": "markdown",
   "metadata": {},
   "source": [
    "## <span style=\"color:blue\">**if**</span> , <span style=\"color:blue\">**elif**</span> and <span style=\"color:blue\">**else**</span> branching  \n",
    "<span style=\"color:blue\">**elif**</span> simply evaluates a subsequent expression, but it only excecutes if the previous **if** or **elif** were not excecuted before.   "
   ]
  },
  {
   "cell_type": "code",
   "execution_count": null,
   "metadata": {},
   "outputs": [],
   "source": [
    "# set a dummy variable\n",
    "dummy = False\n",
    "\n",
    "# evaluate the condition and execute\n",
    "if dummy is True :\n",
    "    print('truly dummy')\n",
    "elif dummy is False :\n",
    "    print('it is not dummy')\n",
    "else :\n",
    "    print(\"don't know what it is\")"
   ]
  },
  {
   "cell_type": "markdown",
   "metadata": {},
   "source": [
    "change dummy to any other value and run the previous cell again"
   ]
  },
  {
   "cell_type": "markdown",
   "metadata": {},
   "source": [
    "## nested <span style=\"color:blue\">**if**</span> conditions  \n",
    "can be useful to test sevaral conditions that must go together in our code.   \n",
    "  \n",
    "alternatively, <span style=\"color:blue\">**and**</span> or <span style=\"color:blue\">**or**</span> can be used in the condition of a single <span style=\"color:blue\">**if**</span>, but,  \n",
    "be sure to understand what you are doing when using **if** together with **or** and **and**. It can be tricky. Nested **if** are easier to understand."
   ]
  },
  {
   "cell_type": "code",
   "execution_count": null,
   "metadata": {},
   "outputs": [],
   "source": [
    "# lets reuse our imaginary variables:\n",
    "poro = 0.35\n",
    "rho = 2.03 \n",
    "perm = 157\n",
    "\n",
    "# and their cut-off\n",
    "poro_cut = 0.10\n",
    "rho_cut = 2.4\n",
    "perm_cut = 10"
   ]
  },
  {
   "cell_type": "code",
   "execution_count": null,
   "metadata": {},
   "outputs": [],
   "source": [
    "# lets evaluate with nested if\n",
    "if poro > poro_cut :\n",
    "    if rho < rho_cut :\n",
    "        print('good poro and good density')\n",
    "        if perm > perm_cut :\n",
    "            print(' with good permeability')\n",
    "        else :\n",
    "            print(' but too tight')\n",
    "    else :\n",
    "        if perm > perm_cut :\n",
    "            print('too dens but good permeability')\n",
    "        else :\n",
    "            print('too dens and bad permeability')\n",
    "else :\n",
    "    print('not enough porosity')"
   ]
  },
  {
   "cell_type": "code",
   "execution_count": null,
   "metadata": {},
   "outputs": [],
   "source": [
    "# lets evaluate with if and and\n",
    "if poro > poro_cut and rho < rho_cut :\n",
    "    print('good poro and good density')\n",
    "    if perm > perm_cut :\n",
    "        print(' with good permeability')\n",
    "    else :\n",
    "        print(' but too tight')\n",
    "elif poro > poro_cut and perm > perm_cut :\n",
    "    print('too dens but good permeability')\n",
    "elif poro > poro_cut :\n",
    "    print('too dens and bad permeability')\n",
    "else :\n",
    "    print('not enough porosity')"
   ]
  },
  {
   "cell_type": "markdown",
   "metadata": {},
   "source": [
    "# Loops  \n",
    "## <span style=\"color:blue\">**while**</span> loops  \n",
    "→ a <span style=\"color:blue\">**while**</span> loop will exceute and continue to be excecuted **while** the condition that the it checks are <span style=\"color:green\">**True**</span>, or in other words, until its conditions becomes <span style=\"color:green\">**False**</span>  \n",
    "→ in order to enter the <span style=\"color:blue\">**while**</span> the first time, its conditions must be already defined and be <span style=\"color:green\">**True**</span>  \n",
    "→ <span style=\"color:blue\">**while**</span> are useful when the number of required iteration to complete the task are not know.\n",
    "\n",
    "## <span style=\"color:blue\">**for**</span> loops\n",
    "→ a <span style=\"color:blue\">**for**</span> loop will continue to excecute its code until it finish to extract each of the items in the indicated object.  \n",
    "→ the object passed to the <span style=\"color:blue\">**for**</span> must be **iterable**, that means, that the object is composed of items that can be extracted one by one, like the *letters* in a *word*.  \n",
    "→ the <span style=\"color:blue\">**for**</span> must be accompained of a **first variable** in which the iterated values will be set, the keyword <span style=\"color:blue\">**in**</span> and a **second variable** with the object, or the object itself, from where the items will be extracted in each iteraton.    \n",
    "→ <span style=\"color:blue\">**for**</span> are the best option when the number of required iteration to complete the task are know."
   ]
  },
  {
   "cell_type": "code",
   "execution_count": null,
   "metadata": {},
   "outputs": [],
   "source": [
    "# loop while y is greater than 1 :\n",
    "y = 100 # initialize condition\n",
    "while y > 1 : # each iteration the while will check the condition is True\n",
    "    y = y - y**0.5\n",
    "    print(y)\n",
    "print('done!')"
   ]
  },
  {
   "cell_type": "code",
   "execution_count": null,
   "metadata": {},
   "outputs": [],
   "source": [
    "counter = 10\n",
    "while counter > 0 :\n",
    "    print(counter)\n",
    "    counter -= 1\n",
    "print('lauch!')"
   ]
  },
  {
   "cell_type": "code",
   "execution_count": null,
   "metadata": {},
   "outputs": [],
   "source": [
    "for counter in [10,9,8,7,6,5,4,3,2,1] :\n",
    "    print(counter)\n",
    "print('lauch!')"
   ]
  },
  {
   "cell_type": "markdown",
   "metadata": {},
   "source": [
    "## terminating loops or skipping iterations  \n",
    "### <span style=\"color:green\">**break**</span>   \n",
    "a loop can be terminated terminated, without reaching its end, with the <span style=\"color:green\">**break**</span> command  \n",
    "remember that <span style=\"color:green\">**break**</span> will terminate the loop that directly contains the command, not all the loops in the cycle.  \n",
    "  \n",
    "### <span style=\"color:green\">**continue**</span>\n",
    "the <span style=\"color:green\">**continue**</span> command can be used to skip an iteration, going directly to the loop that contains the command without running the rest of the code inside the loop."
   ]
  },
  {
   "cell_type": "code",
   "execution_count": null,
   "metadata": {},
   "outputs": [],
   "source": [
    "i = 0\n",
    "while i < 100 :\n",
    "    j = 0\n",
    "    i += 1\n",
    "    print( ' i' , i)\n",
    "    while j < 100 :\n",
    "        j += 1\n",
    "        if j < 30 or j > 33 :\n",
    "            continue\n",
    "        print('      j', j )\n",
    "    if i == 3 :\n",
    "        break\n",
    "        \n",
    "print('\\nlast i',i,'\\nlast j',j)"
   ]
  },
  {
   "cell_type": "markdown",
   "metadata": {},
   "source": [
    "note that   \n",
    "→ **j** ran until 100 but just values from 30 to 33 were printed  \n",
    "and that   \n",
    "→ **i** ran only upto 3"
   ]
  },
  {
   "cell_type": "markdown",
   "metadata": {},
   "source": [
    "# The function: <span style=\"color:green\">range()</span>  \n",
    "<span style=\"color:green\">**range()**</span> is a good companion of <span style=\"color:blue\">**for**</span> loops because it provides the loop with a list of items, integers in this case, to iterate over.  \n",
    "  \n",
    "<span style=\"color:green\">range()</span> accepts upto three arguments: **start** , **stop** , **step**  \n",
    "if only one argument is provided it is undestood as the **stop** argument, **start** is set to **0** and **step** to **1**  \n",
    "  \n",
    "the counting will from **start** to **stop** (not including it) at the step marked by **step**  \n",
    "**step** can be negative, to make reverse count, but then **start** must be greater than **stop**"
   ]
  },
  {
   "cell_type": "code",
   "execution_count": null,
   "metadata": {},
   "outputs": [],
   "source": [
    "for counter in range(10,0,-1) :\n",
    "    print(counter)\n",
    "print('lauch!')"
   ]
  },
  {
   "cell_type": "markdown",
   "metadata": {},
   "source": [
    "# The function: <span style=\"color:green\">len()</span>\n",
    "<span style=\"color:green\">**len()**</span> will return the *lenght* of an object.  \n",
    "  \n",
    "each object can have a its own definition of lenght or can not have it defined at all.  "
   ]
  },
  {
   "cell_type": "markdown",
   "metadata": {},
   "source": [
    "→ <span style=\"color:green\">**len(**</span> **str** <span style=\"color:green\">**)**</span> is the number of characters in the string"
   ]
  },
  {
   "cell_type": "code",
   "execution_count": null,
   "metadata": {},
   "outputs": [],
   "source": [
    "string = 'E&P Data Science'\n",
    "len(string)"
   ]
  },
  {
   "cell_type": "markdown",
   "metadata": {},
   "source": [
    "→ **int** doesn't has lenght  \n",
    "→ **float** doesn't has lenght  \n",
    "→ **bool** doesn't has lenght"
   ]
  },
  {
   "cell_type": "code",
   "execution_count": null,
   "metadata": {},
   "outputs": [],
   "source": [
    "len(1)"
   ]
  },
  {
   "cell_type": "code",
   "execution_count": null,
   "metadata": {},
   "outputs": [],
   "source": [
    "len(True)"
   ]
  },
  {
   "cell_type": "code",
   "execution_count": null,
   "metadata": {},
   "outputs": [],
   "source": [
    "message = ''\n",
    "for letter in 'E&P Data Science' :\n",
    "    message += letter \n",
    "    print(letter,message)\n"
   ]
  },
  {
   "cell_type": "markdown",
   "metadata": {},
   "source": [
    "# The function: <span style=\"color:green\">input()</span>  \n",
    "<span style=\"color:green\">**input()**</span> becomes useful to request the user a value, like a *yes* for confirmation, a *number*, a *string* (might be a name) ...  \n",
    "it is very handy to use it *inside a **while** loop*, in order to check the input from the user is correct before continue whith the code."
   ]
  },
  {
   "cell_type": "code",
   "execution_count": null,
   "metadata": {},
   "outputs": [],
   "source": [
    "user = ''\n",
    "while len(user) == 0 :\n",
    "    user = input(\"please write your name and press enter: \")\n",
    "print(\"hello '\" + user + \"'\")"
   ]
  },
  {
   "cell_type": "markdown",
   "metadata": {},
   "source": [
    "# working with **strings**\n",
    "## defining a string\n",
    "**short strings** can be defined enclosing any character or series of characters between  \n",
    "→ *single quote* **'** characters **'**  \n",
    "→ *double quote* **\"** characters **\"** \n",
    "  \n",
    "**long strings** are like single strings but can be defined over serveral lines and contain single or double quotes as part of the string message    \n",
    "**long strings** are defined by triple single or double quotes enclosing the message  \n",
    "→ *triple single quote* **'''** characters and quotes ' **'''**  \n",
    "→ *triple double quote* **\"\"\"** characters and quotes ' **\"\"\"**  "
   ]
  },
  {
   "cell_type": "markdown",
   "metadata": {},
   "source": [
    "## using quotes inside a string\n",
    "to use quotes **\"** or **'** in a string, we can:  \n",
    "→ define the string with *double quote* if we need a *single quote* in the string message  \n",
    "→ define the string with *single quote* if we need a *double quote* in the string message  \n",
    "→ use a *backslash* **\\** before the quote  \n",
    "→ define the string as **long string**"
   ]
  },
  {
   "cell_type": "code",
   "execution_count": null,
   "metadata": {},
   "outputs": [],
   "source": [
    "text = \"St James' Park\"\n",
    "print( text )"
   ]
  },
  {
   "cell_type": "code",
   "execution_count": null,
   "metadata": {},
   "outputs": [],
   "source": [
    "text = 'St James\\' Park'\n",
    "print( text )"
   ]
  },
  {
   "cell_type": "code",
   "execution_count": null,
   "metadata": {},
   "outputs": [],
   "source": [
    "text = '\"Problems are not stop signs, they are guidelines.\" – Robert H. Schiuller'\n",
    "print( text )"
   ]
  },
  {
   "cell_type": "code",
   "execution_count": null,
   "metadata": {},
   "outputs": [],
   "source": [
    "text = \"\"\"\n",
    "\"Problems are not stop signs, they are guidelines.\"\n",
    "                                Robert H. Schiuller\n",
    "\"\"\"\n",
    "print( text )"
   ]
  },
  {
   "cell_type": "markdown",
   "metadata": {},
   "source": [
    "## working with Windows paths in strings\n",
    "the **\\** *backslash* character is used inside the string to represent special characters, line the new line character **\\n**  \n",
    "then, to work with Windows paths, that could contain lots of backslash, in the strings could be complicated.\n",
    "to avoid Python considering these **\\** as escape characters we can simply add a lowercase **r** before the string definition."
   ]
  },
  {
   "cell_type": "code",
   "execution_count": null,
   "metadata": {},
   "outputs": [],
   "source": [
    "path = '\\\\epnas\\public'\n",
    "print( 'without' , path )\n",
    "path = r'\\\\epnas\\public'\n",
    "print( '  with' , path )"
   ]
  },
  {
   "cell_type": "markdown",
   "metadata": {},
   "source": [
    "## slicing a string  \n",
    "as we have seen with the for loop, a string can be iterated over its characters. Then, there is a simple way to get a slice from a string, enclosing in square brackets the range of the characters we want to extract:  \n",
    "  \n",
    "string**[** *start* **:** *stop* **:** *step* **]**\n",
    "\n",
    "notice that *start* , *stop* and *step* are separated by **:** and not by **,**\n",
    "  \n",
    "will return the portion of the string that:  \n",
    "→ goes from character at position *start*   \n",
    "→ upto but not including the character at position *stop*,  \n",
    "→ taking one character every *step* characters  \n",
    "\n",
    "any of this parameters can be left by default,  \n",
    "and to me make it easy:  \n",
    "  \n",
    "→ to extract a single character we can simple set a slice with a single argument (the position we want):  \n",
    "string**[** *position* **]**  \n",
    "**positive** positions are counted from left to right  \n",
    "**negative** positions are counted from right to left  \n",
    "\n",
    "→ to extract **the first N character** we can simple set a slice with **N** in the *stop* argument   \n",
    "string**[ :** *Nfirst* **]**  \n",
    "**positive** positions are counted from left to right  \n",
    "  \n",
    "→ to extract **the last N character** we can set a slice with **-N** in the *start* argument followed by the **:**  \n",
    "string**[ *-Nlast* **: ]**  \n",
    "**negative** positions are counted from right to left  \n",
    "\n",
    "→ to get the string in reverse order we can set a slice with **-1** in the *step* argument leaving *start* and *stop* by default    \n",
    "string**[ : :** *-1* **]**  "
   ]
  },
  {
   "cell_type": "code",
   "execution_count": null,
   "metadata": {},
   "outputs": [],
   "source": [
    "# lets define a string\n",
    "message = 'E&P Data Science'"
   ]
  },
  {
   "cell_type": "code",
   "execution_count": null,
   "metadata": {},
   "outputs": [],
   "source": [
    "# to extract a single character, just give the position you want in the slice:\n",
    "message[1]"
   ]
  },
  {
   "cell_type": "code",
   "execution_count": null,
   "metadata": {},
   "outputs": [],
   "source": [
    "# to extract the first three characters we simply slice like this:\n",
    "message[:3]"
   ]
  },
  {
   "cell_type": "code",
   "execution_count": null,
   "metadata": {},
   "outputs": [],
   "source": [
    "# to skip the first three characters and extract the rest we simply slice like this:\n",
    "message[3:]"
   ]
  },
  {
   "cell_type": "code",
   "execution_count": null,
   "metadata": {},
   "outputs": [],
   "source": [
    "# to extract the first three characters we simply slice like this:\n",
    "message[-7:]"
   ]
  },
  {
   "cell_type": "code",
   "execution_count": null,
   "metadata": {},
   "outputs": [],
   "source": [
    "# to extract the characters in the middle we slice like this:\n",
    "message[3:-7]"
   ]
  },
  {
   "cell_type": "code",
   "execution_count": null,
   "metadata": {},
   "outputs": [],
   "source": [
    "# to extract the characters in the middle we slice like this:\n",
    "message[::-1]"
   ]
  },
  {
   "cell_type": "markdown",
   "metadata": {},
   "source": [
    "## concatenate strings  \n",
    "to concatenate stings we can just **add** them together\n",
    "\n",
    "<span style=\"color:green\">**str**</span> <span style=\"color:red\">**+**</span> <span style=\"color:green\">**str**</span>"
   ]
  },
  {
   "cell_type": "code",
   "execution_count": null,
   "metadata": {},
   "outputs": [],
   "source": [
    "group = 'E&P Data Science'\n",
    "channel = '6.00.1x'\n",
    "message = group + ' ' + channel\n",
    "print(message)"
   ]
  },
  {
   "cell_type": "markdown",
   "metadata": {},
   "source": [
    "## repeat strings  \n",
    "to repeate a sting a certain number of times we can simple **multiply** the *string* **by** the *integer* number of times\n",
    "\n",
    "<span style=\"color:green\">**str**</span> <span style=\"color:red\">*****</span> <span style=\"color:green\">**int**</span>\n",
    "\n",
    "this is useful when we want to format a string, like filling with blank spaces **' '** a variable number of times "
   ]
  },
  {
   "cell_type": "code",
   "execution_count": null,
   "metadata": {},
   "outputs": [],
   "source": [
    "message = 'go! '\n",
    "times = 3\n",
    "print( message * times )"
   ]
  },
  {
   "cell_type": "markdown",
   "metadata": {},
   "source": [
    "<span style=\"color:green\">**str**</span> can also be multiplied by <span style=\"color:green\">**bool**</span>, how? why?  \n",
    "  \n",
    "it is easier to understand if we recall that <span style=\"color:green\">**bool**</span> can be converted to <span style=\"color:green\">**int**</span> and that:  \n",
    "- <span style=\"color:green\">**int**</span>(<span style=\"color:green\">True</span>) = <span style=\"color:green\">1</span>  \n",
    "and   \n",
    "- <span style=\"color:green\">**int**</span>(<span style=\"color:green\">False</span>) = <span style=\"color:green\">0</span>  \n",
    "\n",
    "then, it is easier to imagine that it means that the string will be repeated 1 time or 0 times."
   ]
  },
  {
   "cell_type": "code",
   "execution_count": null,
   "metadata": {},
   "outputs": [],
   "source": [
    "print( message * False )\n",
    "message * False"
   ]
  },
  {
   "cell_type": "code",
   "execution_count": null,
   "metadata": {},
   "outputs": [],
   "source": [
    "print( message * True )\n",
    "message * True"
   ]
  },
  {
   "cell_type": "markdown",
   "metadata": {},
   "source": [
    "notice that an empty string resulted when multipliyoing by False.  \n",
    "  \n",
    "this becames useful when the <span style=\"color:green\">True</span> or <span style=\"color:green\">False</span> is generated from a comparison or a formula:"
   ]
  },
  {
   "cell_type": "code",
   "execution_count": null,
   "metadata": {},
   "outputs": [],
   "source": [
    "# feel free to change the value of X\n",
    "X = 5\n",
    "print(   'X is equals to zero' * ( X == 0 )   + \\\n",
    "         'X is grater thant zero' * ( X > 0 )   + \\\n",
    "         'X is less thant zero' * ( X < 0 )   \\\n",
    "     )"
   ]
  },
  {
   "cell_type": "markdown",
   "metadata": {},
   "source": [
    "- the backslah **\\\\** is used just to split the line of code into multiple lines, to make it more readable."
   ]
  },
  {
   "cell_type": "markdown",
   "metadata": {},
   "source": [
    "## useful strings methods  \n",
    "**methods** are no more than functions defined inside the objects and especifically designed for them.\n",
    "to call a **method** from an object, we recall the variable that contains the object (or with the object itself), then write a dot **.** followed by the name of method we want to use,\n",
    "\n",
    "Some methods that can be helpful are listed below:\n",
    "\n",
    "### → **.upper()** and **.lower()**  \n",
    "convert the string to upper case or to lower case"
   ]
  },
  {
   "cell_type": "code",
   "execution_count": null,
   "metadata": {},
   "outputs": [],
   "source": [
    "string = ' * E&P Data Science * '\n",
    "string.lower()"
   ]
  },
  {
   "cell_type": "code",
   "execution_count": null,
   "metadata": {},
   "outputs": [],
   "source": [
    "' * E&P Data Science * '.upper()"
   ]
  },
  {
   "cell_type": "markdown",
   "metadata": {},
   "source": [
    "### → **.strip( argument )**   \n",
    "the argument must be a string, by default is the blank space  \n",
    "**strip()** removes the character in the argument at the left and right extremes of the string  \n",
    "is useful to remove spaces arround the string"
   ]
  },
  {
   "cell_type": "code",
   "execution_count": null,
   "metadata": {},
   "outputs": [],
   "source": [
    "string.strip('* ')"
   ]
  },
  {
   "cell_type": "code",
   "execution_count": null,
   "metadata": {},
   "outputs": [],
   "source": [
    "'   E&P Data Science   '.strip()"
   ]
  },
  {
   "cell_type": "markdown",
   "metadata": {},
   "source": [
    "### → **.replace( lookFor , replaceBy )**   \n",
    "**replace()** will look for the string *lookFor* in the string,  \n",
    "remove the substring *lookFor* and  \n",
    "write the string *replaceBy* in its place "
   ]
  },
  {
   "cell_type": "code",
   "execution_count": null,
   "metadata": {},
   "outputs": [],
   "source": [
    "lookFor = 'Data'\n",
    "replaceBy = 'DATA'\n",
    "string.replace( lookFor , replaceBy )"
   ]
  },
  {
   "cell_type": "markdown",
   "metadata": {},
   "source": [
    "notice than in Python the string replacement is case-sensitive!"
   ]
  },
  {
   "cell_type": "markdown",
   "metadata": {},
   "source": [
    "### → **.index( subString )**   \n",
    "**index()** will return the position of the string *subString* in the string"
   ]
  },
  {
   "cell_type": "code",
   "execution_count": null,
   "metadata": {},
   "outputs": [],
   "source": [
    "string.index('&')"
   ]
  },
  {
   "cell_type": "markdown",
   "metadata": {},
   "source": [
    "### → **.zfill( *lenght* )**   \n",
    "**zfill()** will adds zeros **0** at the beginning of the string, to the left of the number, until it reaches the specified *length*.  \n",
    "is useful to format numbers that we require to have zeros to the left of the significant digits"
   ]
  },
  {
   "cell_type": "code",
   "execution_count": null,
   "metadata": {},
   "outputs": [],
   "source": [
    "for i in range(0,150,27) :\n",
    "    print( str(i).zfill(3) )"
   ]
  }
 ],
 "metadata": {
  "hide_input": false,
  "kernelspec": {
   "display_name": "Python 3 (ipykernel)",
   "language": "python",
   "name": "python3"
  },
  "language_info": {
   "codemirror_mode": {
    "name": "ipython",
    "version": 3
   },
   "file_extension": ".py",
   "mimetype": "text/x-python",
   "name": "python",
   "nbconvert_exporter": "python",
   "pygments_lexer": "ipython3",
   "version": "3.10.8"
  },
  "toc": {
   "base_numbering": 1,
   "nav_menu": {},
   "number_sections": true,
   "sideBar": true,
   "skip_h1_title": false,
   "title_cell": "Table of Contents",
   "title_sidebar": "Contents",
   "toc_cell": false,
   "toc_position": {},
   "toc_section_display": true,
   "toc_window_display": false
  },
  "varInspector": {
   "cols": {
    "lenName": 16,
    "lenType": 16,
    "lenVar": 40
   },
   "kernels_config": {
    "python": {
     "delete_cmd_postfix": "",
     "delete_cmd_prefix": "del ",
     "library": "var_list.py",
     "varRefreshCmd": "print(var_dic_list())"
    },
    "r": {
     "delete_cmd_postfix": ") ",
     "delete_cmd_prefix": "rm(",
     "library": "var_list.r",
     "varRefreshCmd": "cat(var_dic_list()) "
    }
   },
   "types_to_exclude": [
    "module",
    "function",
    "builtin_function_or_method",
    "instance",
    "_Feature"
   ],
   "window_display": false
  }
 },
 "nbformat": 4,
 "nbformat_minor": 4
}
