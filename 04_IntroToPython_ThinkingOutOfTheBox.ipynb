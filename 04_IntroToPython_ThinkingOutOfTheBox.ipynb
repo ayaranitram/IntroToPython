{
 "cells": [
  {
   "cell_type": "markdown",
   "metadata": {},
   "source": [
    "# Introduction to Python, thinking out of the box\n",
    "by Martín Araya"
   ]
  },
  {
   "cell_type": "markdown",
   "metadata": {},
   "source": [
    "We all know what defines a number as *odd* or *even*, there is no need to repeat that.  \n",
    "\n",
    "Let's try to write a function that prints a message saying if a given number is *even* or *odd*."
   ]
  },
  {
   "cell_type": "code",
   "execution_count": null,
   "metadata": {},
   "outputs": [],
   "source": [
    "def EvenOrOdd(X) :\n",
    "    \"\"\"\n",
    "    the function prints a message stating if the received number is odd or even:\n",
    "        In: EvenOrOdd(1)\n",
    "        Out: '1 is odd'\n",
    "        In: EvenOrOdd(2)\n",
    "        Out: '2 is even'\n",
    "    Parameter: an integer X\n",
    "    Returns: nothing\n",
    "    Prints: a message saying if the integer is even or is odd.\n",
    "    \"\"\"\n",
    "    pass # not yet implemented"
   ]
  },
  {
   "cell_type": "markdown",
   "metadata": {},
   "source": [
    "the <span style=\"color:green\">**pass**</span> keyword is used to avoid further errors in our Python code because part of it is not written at the moment."
   ]
  },
  {
   "cell_type": "markdown",
   "metadata": {},
   "source": [
    "The first implementation for that function that comes into my mind, uses the <span style=\"color:green\">**%**</span> operator and <span style=\"color:green\">**if**</span> statements.  \n",
    "- <span style=\"color:green\">**%**</span> operator returns the reminder of dividing the number to the left of the operator by the number to right of the operator,  \n",
    "then, if the reminder of any number divided by **2** is **0** that number is *even*,  \n",
    "otherwise is *odd*.\n",
    "- <span style=\"color:green\">**if**</span> statement allows us to check the result of the <span style=\"color:green\">**%**</span> operation and based on that print the appropriate message.  "
   ]
  },
  {
   "cell_type": "markdown",
   "metadata": {},
   "source": [
    "OK, now we can define the first implemention:"
   ]
  },
  {
   "cell_type": "code",
   "execution_count": null,
   "metadata": {},
   "outputs": [],
   "source": [
    "def EvenOrOdd(X) :\n",
    "    \"\"\"\n",
    "    the function prints a message stating if the received number is odd or even:\n",
    "        In: EvenOrOdd(1)\n",
    "        Out: '1 is odd'\n",
    "        In: EvenOrOdd(2)\n",
    "        Out: '2 is even'\n",
    "\n",
    "    Parameter: an integer X\n",
    "    Returns: nothing\n",
    "    Prints: a message saying if the integer is even or is odd.\n",
    "    \"\"\"\n",
    "    if X % 2 == 0 :\n",
    "        print( str(X) + ' is even' )\n",
    "    else :\n",
    "        print( str(X) + ' is odd' )"
   ]
  },
  {
   "cell_type": "markdown",
   "metadata": {},
   "source": [
    "Now we can test our function with different numbers:"
   ]
  },
  {
   "cell_type": "code",
   "execution_count": null,
   "metadata": {},
   "outputs": [],
   "source": [
    "# testing EvenOrOdd()\n",
    "for i in [0,1,2,3,14,25,136,1247,12358,9999999] :\n",
    "    EvenOrOdd(i)"
   ]
  },
  {
   "cell_type": "markdown",
   "metadata": {},
   "source": [
    "Now let's create a **tester()** function to evaluate other implementations compared to this one:"
   ]
  },
  {
   "cell_type": "code",
   "execution_count": null,
   "metadata": {},
   "outputs": [],
   "source": [
    "# we need to catch the print output from our functions\n",
    "from io import StringIO \n",
    "import sys\n",
    "class Capturing(list):\n",
    "    def __enter__(self):\n",
    "        self._stdout = sys.stdout\n",
    "        sys.stdout = self._stringio = StringIO()\n",
    "        return self\n",
    "    def __exit__(self, *args):\n",
    "        self.extend(self._stringio.getvalue().splitlines())\n",
    "        del self._stringio    # free up some memory\n",
    "        sys.stdout = self._stdout\n",
    "\n",
    "        \n",
    "        \n",
    "# the function tester to compare our functions implementations\n",
    "def tester( functionA , functionB=EvenOrOdd , listOf_X_ToEvaluate=[0,1,2,3,14,25,136,1247,12358,9999999] ):\n",
    "    \"\"\"\n",
    "    given two functions, functionA and functionB, evaluates both functions \n",
    "    extracting X from the listOf_X_ToEvaluate and returns True or returns False according to:\n",
    "       \n",
    "       functonA(X) == functionB(X)\n",
    "       \n",
    "    \"\"\"\n",
    "    for i in listOf_X_ToEvaluate :\n",
    "        # using the class Capturing to catch the outputs, we evaluate the functions\n",
    "        with Capturing() as outputs :\n",
    "            functionA(i)\n",
    "            functionB(i)\n",
    "        \n",
    "        if  outputs[0] != outputs[1] :\n",
    "            print( outputs[0] , '!=' , outputs[1])\n",
    "            return False\n",
    "        else :\n",
    "            print( outputs[0] , '==' , outputs[1])\n",
    "    return True"
   ]
  },
  {
   "cell_type": "markdown",
   "metadata": {},
   "source": [
    "test the **tester** function comparing EvenOrOdd to itself:"
   ]
  },
  {
   "cell_type": "code",
   "execution_count": null,
   "metadata": {},
   "outputs": [],
   "source": [
    "tester( EvenOrOdd )"
   ]
  },
  {
   "cell_type": "markdown",
   "metadata": {},
   "source": [
    "For correct functions seems to be working properly.  \n",
    "Now to test incorrect functions we have to modify our function in order to print an incorrect output:"
   ]
  },
  {
   "cell_type": "code",
   "execution_count": null,
   "metadata": {},
   "outputs": [],
   "source": [
    "def WrongEvenOrOdd(X) :\n",
    "    \"\"\"\n",
    "    intentionally incorrect function!\n",
    "    \"\"\"\n",
    "    if X % 2 == 0 :\n",
    "        print( str(X) + ' is even' )\n",
    "    else :\n",
    "        print( str(X) + ' is not even' ) # ' is odd'"
   ]
  },
  {
   "cell_type": "code",
   "execution_count": null,
   "metadata": {},
   "outputs": [],
   "source": [
    "tester( WrongEvenOrOdd )"
   ]
  },
  {
   "cell_type": "markdown",
   "metadata": {},
   "source": [
    "The function **tester** seems to be working correctly."
   ]
  },
  {
   "cell_type": "markdown",
   "metadata": {},
   "source": [
    "## thinking different\n",
    "  \n",
    "Now we have to think different and write the function, but this time not using the obvious implementation with <span style=\"color:green\">**if**</span> and <span style=\"color:green\">**%**</span>.  \n",
    "  \n",
    "To make it simpler here, we will write alternatives for <span style=\"color:green\">**if**</span> and for <span style=\"color:green\">**%**</span> separately, and later combine some of them.  \n",
    "  \n",
    "### alternatives to <span style=\"color:green\">**if**</span>:  \n",
    "- using <span style=\"color:green\">**while**</span> loop to test the conditions:"
   ]
  },
  {
   "cell_type": "code",
   "execution_count": null,
   "metadata": {},
   "outputs": [],
   "source": [
    "def usingWhile(X) :\n",
    "    \"\"\"\n",
    "    the function prints a message stating if the received number is odd or even:\n",
    "        In: EvenOrOdd(1)\n",
    "        Out: '1 is odd'\n",
    "        In: EvenOrOdd(2)\n",
    "        Out: '2 is even'\n",
    "\n",
    "    Parameter: an integer X\n",
    "    Returns: nothing\n",
    "    Prints: a message saying if the integer is even or is odd.\n",
    "    \"\"\"\n",
    "    while X % 2 == 0 :\n",
    "        print( str(X) + ' is even' )\n",
    "        break # it is a must to brack the loop, as the value of X is never changing inside it\n",
    "    while X % 2 != 0 :\n",
    "        print( str(X) + ' is odd' )\n",
    "        break"
   ]
  },
  {
   "cell_type": "code",
   "execution_count": null,
   "metadata": {},
   "outputs": [],
   "source": [
    "tester( usingWhile )"
   ]
  },
  {
   "cell_type": "markdown",
   "metadata": {},
   "source": [
    "we can use <span style=\"color:green\">**else**</span> after a <span style=\"color:green\">**while**</span>, but it will be half-cheating:"
   ]
  },
  {
   "cell_type": "code",
   "execution_count": null,
   "metadata": {},
   "outputs": [],
   "source": [
    "def usingWhileElse(X) :\n",
    "    \"\"\"\n",
    "    the function prints a message stating if the received number is odd or even:\n",
    "        In: EvenOrOdd(1)\n",
    "        Out: '1 is odd'\n",
    "        In: EvenOrOdd(2)\n",
    "        Out: '2 is even'\n",
    "\n",
    "    Parameter: an integer X\n",
    "    Returns: nothing\n",
    "    Prints: a message saying if the integer is even or is odd.\n",
    "    \"\"\"\n",
    "    while X % 2 == 0 :\n",
    "        print( str(X) + ' is even' )\n",
    "        break # it is a must to brack the loop, as the value of X is never changing inside it\n",
    "    else :\n",
    "        print( str(X) + ' is odd' )"
   ]
  },
  {
   "cell_type": "code",
   "execution_count": null,
   "metadata": {},
   "outputs": [],
   "source": [
    "tester( usingWhileElse )"
   ]
  },
  {
   "cell_type": "markdown",
   "metadata": {},
   "source": [
    "### alternatives to <span style=\"color:green\">**if**</span>:  \n",
    "- string repetition directly evaluated"
   ]
  },
  {
   "cell_type": "code",
   "execution_count": null,
   "metadata": {},
   "outputs": [],
   "source": [
    "def usingStringRepetition(X) :\n",
    "    \"\"\"\n",
    "    the function prints a message stating if the received number is odd or even:\n",
    "        In: EvenOrOdd(1)\n",
    "        Out: '1 is odd'\n",
    "        In: EvenOrOdd(2)\n",
    "        Out: '2 is even'\n",
    "\n",
    "    Parameter: an integer X\n",
    "    Returns: nothing\n",
    "    Prints: a message saying if the integer is even or is odd.\n",
    "    \"\"\" \n",
    "    # because we are using the module of 2\n",
    "    print( str(X) + ( X%2 == 0 )*' is even' + ( X%2 != 0 )*' is odd' )"
   ]
  },
  {
   "cell_type": "code",
   "execution_count": null,
   "metadata": {},
   "outputs": [],
   "source": [
    "tester( usingStringRepetition )"
   ]
  },
  {
   "cell_type": "markdown",
   "metadata": {},
   "source": [
    "### alternatives to <span style=\"color:green\">**if**</span>:  \n",
    "- using <span style=\"color:green\">**for**</span> loop to run something as many times as the integer argument indicates:"
   ]
  },
  {
   "cell_type": "code",
   "execution_count": null,
   "metadata": {},
   "outputs": [],
   "source": [
    "def usingFor(X) :\n",
    "    \"\"\"\n",
    "    the function prints a message stating if the received number is odd or even:\n",
    "        In: EvenOrOdd(1)\n",
    "        Out: '1 is odd'\n",
    "        In: EvenOrOdd(2)\n",
    "        Out: '2 is even'\n",
    "\n",
    "    Parameter: an integer X\n",
    "    Returns: nothing\n",
    "    Prints: a message saying if the integer is even or is odd.\n",
    "    \"\"\"  \n",
    "    # because 0 is even, we initialize a variable as True\n",
    "    even = True\n",
    "    \n",
    "    # alternate even betwenn True and False X times\n",
    "    for i in range( 1 , X+1 ) : # skip 0 because its result is already initialized\n",
    "        even = not( even ) # change True to False and False to True\n",
    "    \n",
    "    print( str(X) +\" is \"+ 'even'*even + 'odd'*( not(even) ) )"
   ]
  },
  {
   "cell_type": "code",
   "execution_count": null,
   "metadata": {},
   "outputs": [],
   "source": [
    "tester( usingFor )"
   ]
  },
  {
   "cell_type": "markdown",
   "metadata": {},
   "source": [
    "### alternatives to <span style=\"color:green\">**if**</span>:  \n",
    "- selecting the answer from a predefined list or tuple:"
   ]
  },
  {
   "cell_type": "code",
   "execution_count": null,
   "metadata": {},
   "outputs": [],
   "source": [
    "def selectingFromListOrTuple(X) :\n",
    "    \"\"\"\n",
    "    the function prints a message stating if the received number is odd or even:\n",
    "        In: EvenOrOdd(1)\n",
    "        Out: '1 is odd'\n",
    "        In: EvenOrOdd(2)\n",
    "        Out: '2 is even'\n",
    "\n",
    "    Parameter: an integer X\n",
    "    Returns: nothing\n",
    "    Prints: a message saying if the integer is even or is odd.\n",
    "    \"\"\"  \n",
    "    everOrOdd = ('is even','is odd')\n",
    "    print( str(X) , everOrOdd[X%2] )"
   ]
  },
  {
   "cell_type": "code",
   "execution_count": null,
   "metadata": {},
   "outputs": [],
   "source": [
    "tester( selectingFromListOrTuple )"
   ]
  },
  {
   "cell_type": "markdown",
   "metadata": {},
   "source": [
    "### alternatives to <span style=\"color:green\">**%**</span>:  \n",
    "- the way a kid will do it, looking at the number in the units:  \n",
    "even number simply has the one of the following units: __0__, __2__, __4__, __6__ or __8__"
   ]
  },
  {
   "cell_type": "code",
   "execution_count": null,
   "metadata": {},
   "outputs": [],
   "source": [
    "def kidsWay(X) :\n",
    "    \"\"\"\n",
    "    the function prints a message stating if the received number is odd or even:\n",
    "        In: EvenOrOdd(1)\n",
    "        Out: '1 is odd'\n",
    "        In: EvenOrOdd(2)\n",
    "        Out: '2 is even'\n",
    "\n",
    "    Parameter: an integer X\n",
    "    Returns: nothing\n",
    "    Prints: a message saying if the integer is even or is odd.\n",
    "    \"\"\"  \n",
    "    if str(X)[-1] in ['0','2','4','6','8'] :\n",
    "        print( str(X) + ' is even' )\n",
    "    else :\n",
    "        print( str(X) + ' is odd' )"
   ]
  },
  {
   "cell_type": "code",
   "execution_count": null,
   "metadata": {},
   "outputs": [],
   "source": [
    "tester( kidsWay )"
   ]
  },
  {
   "cell_type": "markdown",
   "metadata": {},
   "source": [
    "### alternatives to <span style=\"color:green\">**%**</span>:  \n",
    "- comparing the integer division to the decimal division:  "
   ]
  },
  {
   "cell_type": "code",
   "execution_count": null,
   "metadata": {},
   "outputs": [],
   "source": [
    "def dividingIntegerAndDecimal(X) :\n",
    "    \"\"\"\n",
    "    the function prints a message stating if the received number is odd or even:\n",
    "        In: EvenOrOdd(1)\n",
    "        Out: '1 is odd'\n",
    "        In: EvenOrOdd(2)\n",
    "        Out: '2 is even'\n",
    "\n",
    "    Parameter: an integer X\n",
    "    Returns: nothing\n",
    "    Prints: a message saying if the integer is even or is odd.\n",
    "    \"\"\" \n",
    "    if X / 2 == X // 2 : # decimal division is equal to the integer division\n",
    "        print( str(X) + ' is even' )\n",
    "    else :\n",
    "        print( str(X) + ' is odd' )"
   ]
  },
  {
   "cell_type": "code",
   "execution_count": null,
   "metadata": {},
   "outputs": [],
   "source": [
    "tester( dividingIntegerAndDecimal )"
   ]
  },
  {
   "cell_type": "markdown",
   "metadata": {},
   "source": [
    "### alternatives to <span style=\"color:green\">**%**</span>:  \n",
    "- comparing with the previous number, using integer division:  \n",
    "if a number is *odd* its *integer division by **2*** is equal to the integer division of the number-1  \n",
    "  \n",
    "3//2 = 1   and    2//2 = 1"
   ]
  },
  {
   "cell_type": "code",
   "execution_count": null,
   "metadata": {},
   "outputs": [],
   "source": [
    "def comparingToPreviousNumber(X) :\n",
    "    \"\"\"\n",
    "    the function prints a message stating if the received number is odd or even:\n",
    "        In: EvenOrOdd(1)\n",
    "        Out: '1 is odd'\n",
    "        In: EvenOrOdd(2)\n",
    "        Out: '2 is even'\n",
    "\n",
    "    Parameter: an integer X\n",
    "    Returns: nothing\n",
    "    Prints: a message saying if the integer is even or is odd.\n",
    "    \"\"\" \n",
    "    if X//2 == (X-1)//2 :\n",
    "        print( str(X) + ' is odd' )\n",
    "    else :\n",
    "        print( str(X) + ' is even' )"
   ]
  },
  {
   "cell_type": "code",
   "execution_count": null,
   "metadata": {},
   "outputs": [],
   "source": [
    "tester( comparingToPreviousNumber )"
   ]
  },
  {
   "cell_type": "code",
   "execution_count": null,
   "metadata": {},
   "outputs": [],
   "source": [
    "def notModuleNotIf(X) :\n",
    "    \"\"\"\n",
    "    the function prints a message stating if the received number is odd or even:\n",
    "        In: EvenOrOdd(1)\n",
    "        Out: '1 is odd'\n",
    "        In: EvenOrOdd(2)\n",
    "        Out: '2 is even'\n",
    "\n",
    "    Parameter: an integer X\n",
    "    Returns: nothing\n",
    "    Prints: a message saying if the integer is even or is odd.\n",
    "    \"\"\" \n",
    "    # because we are using the module of 2\n",
    "    print( str(X) + ( X//2 == X/2 )*' is even' + ( X//2 != X/2 )*' is odd' )"
   ]
  },
  {
   "cell_type": "code",
   "execution_count": null,
   "metadata": {},
   "outputs": [],
   "source": [
    "tester( notModuleNotIf )"
   ]
  }
 ],
 "metadata": {
  "hide_input": false,
  "kernelspec": {
   "display_name": "Python 3 (ipykernel)",
   "language": "python",
   "name": "python3"
  },
  "language_info": {
   "codemirror_mode": {
    "name": "ipython",
    "version": 3
   },
   "file_extension": ".py",
   "mimetype": "text/x-python",
   "name": "python",
   "nbconvert_exporter": "python",
   "pygments_lexer": "ipython3",
   "version": "3.10.8"
  },
  "toc": {
   "base_numbering": 1,
   "nav_menu": {},
   "number_sections": true,
   "sideBar": true,
   "skip_h1_title": false,
   "title_cell": "Table of Contents",
   "title_sidebar": "Contents",
   "toc_cell": false,
   "toc_position": {},
   "toc_section_display": true,
   "toc_window_display": false
  },
  "varInspector": {
   "cols": {
    "lenName": 16,
    "lenType": 16,
    "lenVar": 40
   },
   "kernels_config": {
    "python": {
     "delete_cmd_postfix": "",
     "delete_cmd_prefix": "del ",
     "library": "var_list.py",
     "varRefreshCmd": "print(var_dic_list())"
    },
    "r": {
     "delete_cmd_postfix": ") ",
     "delete_cmd_prefix": "rm(",
     "library": "var_list.r",
     "varRefreshCmd": "cat(var_dic_list()) "
    }
   },
   "types_to_exclude": [
    "module",
    "function",
    "builtin_function_or_method",
    "instance",
    "_Feature"
   ],
   "window_display": false
  }
 },
 "nbformat": 4,
 "nbformat_minor": 4
}
